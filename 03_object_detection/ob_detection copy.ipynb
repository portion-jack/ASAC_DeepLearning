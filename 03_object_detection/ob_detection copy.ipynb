{
 "cells": [
  {
   "cell_type": "code",
   "execution_count": null,
   "metadata": {},
   "outputs": [],
   "source": [
    "\"\"\"\n",
    "xml => rcnn\n",
    "(anno.txt) txt => yolo\n",
    "\n",
    "# => code run in colab\n",
    "\"\"\"\n",
    "from models import Yolov4"
   ]
  },
  {
   "cell_type": "code",
   "execution_count": null,
   "metadata": {},
   "outputs": [],
   "source": [
    "model = Yolov4(weight_path='yolov4.weights',\n",
    "               class_name_path='class_names/coco_classes.txt')"
   ]
  },
  {
   "cell_type": "code",
   "execution_count": null,
   "metadata": {},
   "outputs": [],
   "source": [
    "from utils import DataGenerator, read_annotation_lines\n",
    "from models import Yolov4"
   ]
  },
  {
   "cell_type": "code",
   "execution_count": null,
   "metadata": {},
   "outputs": [],
   "source": [
    "train_lines, val_lines = read_annotation_lines('./dataset/txt/anno.txt',test_size=0.1)\n",
    "\n",
    "folder_path = \"./dataset/img/\"\n",
    "class_name_path = \"./class_names/classes.txt\"\n",
    "data_gen_train = DataGenerator(train_lines, class_name_path, folder_path)\n",
    "data_gen_val = DataGenerator(val_lines, class_name_path,folder_path)"
   ]
  },
  {
   "cell_type": "code",
   "execution_count": null,
   "metadata": {},
   "outputs": [],
   "source": [
    "model = Yolov4(class_name_path=class_name_path)\n",
    "model.fit(data_gen_train,initial_epoch=0, epochs=10, val_data_gen=data_gen_val)"
   ]
  }
 ],
 "metadata": {
  "kernelspec": {
   "display_name": "deep_learning",
   "language": "python",
   "name": "python3"
  },
  "language_info": {
   "codemirror_mode": {
    "name": "ipython",
    "version": 3
   },
   "file_extension": ".py",
   "mimetype": "text/x-python",
   "name": "python",
   "nbconvert_exporter": "python",
   "pygments_lexer": "ipython3",
   "version": "3.9.12 | packaged by conda-forge | (main, Mar 24 2022, 23:25:14) \n[Clang 12.0.1 ]"
  },
  "orig_nbformat": 4,
  "vscode": {
   "interpreter": {
    "hash": "5fedde54ce020962bd3c30003bddb8a1c5bd9c5a066c739d1bc484f734442d14"
   }
  }
 },
 "nbformat": 4,
 "nbformat_minor": 2
}
