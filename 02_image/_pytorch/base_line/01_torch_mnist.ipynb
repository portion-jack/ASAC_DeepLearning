{
 "cells": [
  {
   "cell_type": "code",
   "execution_count": null,
   "metadata": {},
   "outputs": [],
   "source": [
    "import numpy as np\n",
    "import matplotlib.pyplot as plt\n",
    "import seaborn as sns\n",
    "from sklearn.metrics import f1_score, accuracy_score, confusion_matrix\n",
    "\n",
    "\n",
    "import tensorflow as tf\n",
    "from tensorflow.keras.datasets.fashion_mnist import load_data"
   ]
  },
  {
   "cell_type": "code",
   "execution_count": null,
   "metadata": {},
   "outputs": [],
   "source": [
    "mnistData = load_data()\n",
    "(x_train,y_train),(x_test,y_test) = mnistData"
   ]
  },
  {
   "cell_type": "code",
   "execution_count": null,
   "metadata": {},
   "outputs": [],
   "source": [
    "x_trainR=x_train.reshape(-1,28*28)\n",
    "x_testR=x_test.reshape(-1,28*28)\n",
    "y_trainOHE = tf.keras.utils.to_categorical(y_train)\n",
    "y_testOHE = tf.keras.utils.to_categorical(y_test)"
   ]
  },
  {
   "cell_type": "code",
   "execution_count": null,
   "metadata": {},
   "outputs": [],
   "source": [
    "# 파이토치 하이(클래스기반)\n",
    "# => f1_score(train,test)\n",
    "# => confusion matrix(trian,test)\n",
    "\n",
    "import torch\n",
    "from torch.optim import Adam\n",
    "from torch.nn import Linear, Sequential, Module, CrossEntropyLoss, Softmax, ReLU\n",
    "\n",
    "class MultiClass(Module):\n",
    "    \"\"\"\n",
    "    mutli_classification\n",
    "    fashion_mnist => flatten (28*28)\n",
    "    (28*28) => (128)\n",
    "    (128) => (64)\n",
    "    (64) => (10)\n",
    "    \"\"\"\n",
    "    def __init__(self) -> None:\n",
    "        super().__init__()    \n",
    "        self.nn1 = Linear(28*28,128)\n",
    "        self.nn2 = Linear(128,64)\n",
    "        self.nn3 = Linear(64,10)\n",
    "        self.relu1 = ReLU()\n",
    "        self.relu2 = ReLU()\n",
    "        self.sm1 = Softmax(dim=1)\n",
    "    def forward(self, x):\n",
    "        x = self.nn1(x)\n",
    "        x = self.relu1(x)\n",
    "        \n",
    "        x = self.nn2(x)\n",
    "        x = self.relu1(x)\n",
    "        \n",
    "        x = self.nn3(x)\n",
    "        x = self.sm1(x)\n",
    "        return x\n",
    "    \n",
    "x_train_tensor = torch.FloatTensor(x_trainR)\n",
    "x_test_tensor = torch.FloatTensor(x_testR)\n",
    "\n",
    "y_train_tensor = torch.FloatTensor(y_trainOHE)\n",
    "y_test_tensor = torch.FloatTensor(y_testOHE)\n",
    "\n",
    "\n",
    "model = MultiClass()\n",
    "loss_fn = CrossEntropyLoss()\n",
    "optimizer = Adam(model.parameters(), lr = 1e-3)\n",
    "\n",
    "for epoch in range(2000):\n",
    "    optimizer.zero_grad()\n",
    "    x_hat = model(x_train_tensor)\n",
    "    cost = loss_fn(x_hat,y_train_tensor)\n",
    "    cost.backward()\n",
    "    optimizer.step()\n",
    "    acc = accuracy_score(\n",
    "        x_hat.argmax(axis=1).detach().numpy(),\n",
    "        y_train_tensor.argmax(axis=1).detach().numpy()\n",
    "    )\n",
    "    print(f'epoch => {epoch} / cost => {cost.item()} / acc => {acc}')"
   ]
  },
  {
   "cell_type": "code",
   "execution_count": null,
   "metadata": {},
   "outputs": [],
   "source": [
    "print('train_data')\n",
    "f1_train = round(f1_score(x_hat.argmax(axis=1).detach().numpy(),y_train,average='macro'),5)\n",
    "print(f'f1_score : {f1_train}')\n",
    "acc_train = round(accuracy_score(x_hat.argmax(axis=1).detach().numpy(),y_train),5)\n",
    "print(f'accuracy : {acc_train}')\n",
    "sns.heatmap(\n",
    "    confusion_matrix(x_hat.argmax(axis=1).detach().numpy(),y_train),\n",
    "    annot=True,\n",
    "    fmt='d'\n",
    ")\n",
    "plt.show()\n",
    "print('-'*30)\n",
    "x_hat = model(x_test_tensor)\n",
    "print('test_data')\n",
    "f1_test = round(f1_score(x_hat.argmax(axis=1).detach().numpy(),y_test,average='macro'),5)\n",
    "print(f'f1_score : {f1_test}')\n",
    "acc_test = round(accuracy_score(x_hat.argmax(axis=1).detach().numpy(),y_test),5)\n",
    "print(f'accuracy : {acc_test}')\n",
    "sns.heatmap(\n",
    "    confusion_matrix(x_hat.argmax(axis=1).detach().numpy(),y_test),\n",
    "    annot=True,\n",
    "    fmt='d'\n",
    ")\n",
    "plt.show()\n",
    "print('-'*30)"
   ]
  }
 ],
 "metadata": {
  "kernelspec": {
   "display_name": "Python 3.9.12 ('deep_learning')",
   "language": "python",
   "name": "python3"
  },
  "language_info": {
   "name": "python",
   "version": "3.9.12"
  },
  "orig_nbformat": 4,
  "vscode": {
   "interpreter": {
    "hash": "5fedde54ce020962bd3c30003bddb8a1c5bd9c5a066c739d1bc484f734442d14"
   }
  }
 },
 "nbformat": 4,
 "nbformat_minor": 2
}
