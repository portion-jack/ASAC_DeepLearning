{
 "cells": [
  {
   "cell_type": "code",
   "execution_count": 1,
   "id": "ae09ce78",
   "metadata": {},
   "outputs": [],
   "source": [
    "import torch\n",
    "import torch.nn as nn\n",
    "import torch.nn.functional as F"
   ]
  },
  {
   "cell_type": "code",
   "execution_count": 17,
   "id": "067dd994",
   "metadata": {},
   "outputs": [],
   "source": [
    "\"\"\"\n",
    "(row,channel,width,height,color)\n",
    "\n",
    "\"\"\"\n",
    "\n",
    "class CNN(nn.Module):\n",
    "    def __init__(self):\n",
    "        super(CNN, self).__init__()\n",
    "        # Ouput_size = [(input-filter_size)/stride ]+1 \n",
    "        \n",
    "        self.conv1 = nn.Conv2d(in_channels=1,out_channels=3,\n",
    "                               kernel_size=5 , stride=1 ) \n",
    "        \n",
    "        # ouput = 24\n",
    "        self.conv2 = nn.Conv2d(in_channels=3, out_channels=10,\n",
    "                               kernel_size=5 , stride=1 ) \n",
    "        \n",
    "        # ouput =20\n",
    "        self.max1 = nn.MaxPool2d( kernel_size=2 ) \n",
    "        # ouput = 10\n",
    "        self.fc1 = nn.Linear( 10*12*12, 50 )\n",
    "        self.fc2 = nn.Linear( 50, 10 )\n",
    "    \n",
    "    def forward( self, x):\n",
    "        print( '연산전', x.shape )\n",
    "        x = F.relu( self.conv1(x) )\n",
    "        print( 'con1 연산후', x.shape )\n",
    "        x = F.relu( self.conv2(x) )\n",
    "        print( 'con2 연산후', x.shape )\n",
    "        x = x.view(-1, 12*12*10) #  reshape(-1,10*10*12)\n",
    "        print( 'reshape 연산후', x.shape )\n",
    "        x = F.relu(self.fc1( x ) ) #matmul(x,w)\n",
    "        print( 'fc1 연산후', x.shape )\n",
    "        x = self.fc2(x)\n",
    "        print( 'fc2 연산후', x.shape )\n",
    "        return x\n"
   ]
  },
  {
   "cell_type": "code",
   "execution_count": 18,
   "id": "82055b72",
   "metadata": {},
   "outputs": [],
   "source": [
    "myimg = torch.randn( 10,1,20,20 ) # 10개이미지 color 1 ,20,20 "
   ]
  },
  {
   "cell_type": "code",
   "execution_count": 19,
   "id": "0314f2ed",
   "metadata": {},
   "outputs": [
    {
     "name": "stdout",
     "output_type": "stream",
     "text": [
      "연산전 torch.Size([10, 1, 20, 20])\n",
      "con1 연산후 torch.Size([10, 3, 16, 16])\n",
      "con2 연산후 torch.Size([10, 10, 12, 12])\n",
      "reshape 연산후 torch.Size([10, 1440])\n",
      "fc1 연산후 torch.Size([10, 50])\n",
      "fc2 연산후 torch.Size([10, 10])\n"
     ]
    }
   ],
   "source": [
    "cnn = CNN()\n",
    "output = cnn( myimg ) # cnn.forward"
   ]
  },
  {
   "cell_type": "code",
   "execution_count": null,
   "id": "04d39cea",
   "metadata": {},
   "outputs": [],
   "source": []
  }
 ],
 "metadata": {
  "kernelspec": {
   "display_name": "deep_learning",
   "language": "python",
   "name": "python3"
  },
  "language_info": {
   "codemirror_mode": {
    "name": "ipython",
    "version": 3
   },
   "file_extension": ".py",
   "mimetype": "text/x-python",
   "name": "python",
   "nbconvert_exporter": "python",
   "pygments_lexer": "ipython3",
   "version": "3.9.12 | packaged by conda-forge | (main, Mar 24 2022, 23:25:14) \n[Clang 12.0.1 ]"
  },
  "vscode": {
   "interpreter": {
    "hash": "5fedde54ce020962bd3c30003bddb8a1c5bd9c5a066c739d1bc484f734442d14"
   }
  }
 },
 "nbformat": 4,
 "nbformat_minor": 5
}
