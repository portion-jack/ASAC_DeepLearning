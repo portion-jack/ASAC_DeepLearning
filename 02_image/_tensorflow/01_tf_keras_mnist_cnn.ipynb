{
 "cells": [
  {
   "cell_type": "code",
   "execution_count": 1,
   "id": "ea1eb1cb",
   "metadata": {},
   "outputs": [],
   "source": [
    "import tensorflow as tf\n",
    "import numpy as np\n",
    "import matplotlib.pyplot as plt\n",
    "\n",
    "from tensorflow.keras.layers import Dense, Flatten, Conv2D, MaxPool2D\n",
    "from tensorflow.keras import Sequential\n",
    "from tensorflow.keras.utils import to_categorical\n",
    "\n",
    "from tensorflow.keras.datasets.mnist import load_data"
   ]
  },
  {
   "cell_type": "code",
   "execution_count": 2,
   "id": "c91f5f9a",
   "metadata": {},
   "outputs": [],
   "source": [
    "mnistData = load_data()"
   ]
  },
  {
   "cell_type": "code",
   "execution_count": 3,
   "id": "ef2ca54b",
   "metadata": {},
   "outputs": [],
   "source": [
    "(x_train, y_train), (x_test,y_test) = mnistData"
   ]
  },
  {
   "cell_type": "code",
   "execution_count": 4,
   "id": "cc2eef27",
   "metadata": {},
   "outputs": [],
   "source": [
    "y_trainOne = to_categorical( y_train)"
   ]
  },
  {
   "cell_type": "code",
   "execution_count": 5,
   "id": "b26dc862",
   "metadata": {},
   "outputs": [
    {
     "name": "stdout",
     "output_type": "stream",
     "text": [
      "Epoch 1/10\n",
      "1875/1875 [==============================] - 82s 43ms/step - loss: 0.2688 - acc: 0.9551\n",
      "Epoch 2/10\n",
      "1875/1875 [==============================] - 82s 44ms/step - loss: 0.0560 - acc: 0.9835\n",
      "Epoch 3/10\n",
      "1875/1875 [==============================] - 82s 44ms/step - loss: 0.0407 - acc: 0.9880\n",
      "Epoch 4/10\n",
      "1875/1875 [==============================] - 82s 44ms/step - loss: 0.0327 - acc: 0.9897\n",
      "Epoch 5/10\n",
      "1875/1875 [==============================] - 82s 44ms/step - loss: 0.0261 - acc: 0.9923\n",
      "Epoch 6/10\n",
      "1875/1875 [==============================] - 82s 44ms/step - loss: 0.0233 - acc: 0.9928\n",
      "Epoch 7/10\n",
      "1875/1875 [==============================] - 95s 51ms/step - loss: 0.0212 - acc: 0.9937\n",
      "Epoch 8/10\n",
      "1875/1875 [==============================] - 88s 47ms/step - loss: 0.0174 - acc: 0.9949\n",
      "Epoch 9/10\n",
      "1875/1875 [==============================] - 86s 46ms/step - loss: 0.0142 - acc: 0.9959\n",
      "Epoch 10/10\n",
      "1875/1875 [==============================] - 85s 45ms/step - loss: 0.0146 - acc: 0.9961\n"
     ]
    },
    {
     "data": {
      "text/plain": [
       "<keras.callbacks.History at 0x29f58501ac0>"
      ]
     },
     "execution_count": 5,
     "metadata": {},
     "output_type": "execute_result"
    }
   ],
   "source": [
    "model =Sequential()\n",
    "model.add( Conv2D( 32, kernel_size=(3,3), strides=1, \n",
    "                  input_shape=(28,28,1), activation='relu', padding='same' ) )\n",
    "model.add( Conv2D( 64, kernel_size=(3,3), activation='relu' ) )\n",
    "\n",
    "model.add( MaxPool2D( pool_size=(2, 2) ) )\n",
    "\n",
    "model.add( Flatten() )\n",
    "\n",
    "model.add( Dense( units=64, activation='relu' ) )\n",
    "model.add( Dense(units=10, activation='softmax') )\n",
    "\n",
    "model.compile( loss='categorical_crossentropy', optimizer='adam', metrics=['acc']  )\n",
    "model.fit( x_train.reshape(-1, 28,28,1), y_trainOne, epochs=10 )"
   ]
  },
  {
   "cell_type": "code",
   "execution_count": null,
   "id": "6673e7be",
   "metadata": {},
   "outputs": [],
   "source": [
    "퀴즈: fashion minist cnn으로 학습한후 정확도와 confusion matrix를 히트맵으로 그리시요."
   ]
  },
  {
   "cell_type": "code",
   "execution_count": null,
   "id": "6586c633",
   "metadata": {},
   "outputs": [],
   "source": []
  }
 ],
 "metadata": {
  "kernelspec": {
   "display_name": "deep_learning",
   "language": "python",
   "name": "python3"
  },
  "language_info": {
   "codemirror_mode": {
    "name": "ipython",
    "version": 3
   },
   "file_extension": ".py",
   "mimetype": "text/x-python",
   "name": "python",
   "nbconvert_exporter": "python",
   "pygments_lexer": "ipython3",
   "version": "3.9.12 | packaged by conda-forge | (main, Mar 24 2022, 23:25:14) \n[Clang 12.0.1 ]"
  },
  "vscode": {
   "interpreter": {
    "hash": "5fedde54ce020962bd3c30003bddb8a1c5bd9c5a066c739d1bc484f734442d14"
   }
  }
 },
 "nbformat": 4,
 "nbformat_minor": 5
}
