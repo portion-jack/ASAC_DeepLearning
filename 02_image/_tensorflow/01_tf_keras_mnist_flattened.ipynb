{
 "cells": [
  {
   "cell_type": "code",
   "execution_count": 1,
   "id": "6f775fac",
   "metadata": {},
   "outputs": [],
   "source": [
    "import tensorflow as tf\n",
    "import numpy as np\n",
    "import matplotlib.pyplot as plt\n",
    "\n",
    "from tensorflow.keras.layers import Dense, Flatten\n",
    "from tensorflow.keras import Sequential\n",
    "from tensorflow.keras.utils import to_categorical\n",
    "\n",
    "from tensorflow.keras.datasets.mnist import load_data"
   ]
  },
  {
   "cell_type": "code",
   "execution_count": 2,
   "id": "537e597b",
   "metadata": {},
   "outputs": [],
   "source": [
    "mnistData = load_data()"
   ]
  },
  {
   "cell_type": "code",
   "execution_count": 3,
   "id": "3184b6d4",
   "metadata": {},
   "outputs": [],
   "source": [
    "(x_train, y_train), (x_test,y_test) = mnistData"
   ]
  },
  {
   "cell_type": "code",
   "execution_count": 4,
   "id": "3520ea8c",
   "metadata": {},
   "outputs": [
    {
     "data": {
      "text/plain": [
       "(60000, 28, 28)"
      ]
     },
     "execution_count": 4,
     "metadata": {},
     "output_type": "execute_result"
    }
   ],
   "source": [
    "x_train.shape"
   ]
  },
  {
   "cell_type": "code",
   "execution_count": 5,
   "id": "6ca82394",
   "metadata": {
    "collapsed": true
   },
   "outputs": [
    {
     "name": "stdout",
     "output_type": "stream",
     "text": [
      "Metal device set to: Apple M1 Pro\n",
      "\n",
      "systemMemory: 16.00 GB\n",
      "maxCacheSize: 5.33 GB\n",
      "\n",
      "Epoch 1/20\n"
     ]
    },
    {
     "name": "stderr",
     "output_type": "stream",
     "text": [
      "2022-12-08 08:59:41.404701: I tensorflow/core/common_runtime/pluggable_device/pluggable_device_factory.cc:306] Could not identify NUMA node of platform GPU ID 0, defaulting to 0. Your kernel may not have been built with NUMA support.\n",
      "2022-12-08 08:59:41.405103: I tensorflow/core/common_runtime/pluggable_device/pluggable_device_factory.cc:272] Created TensorFlow device (/job:localhost/replica:0/task:0/device:GPU:0 with 0 MB memory) -> physical PluggableDevice (device: 0, name: METAL, pci bus id: <undefined>)\n",
      "2022-12-08 08:59:41.570382: W tensorflow/core/platform/profile_utils/cpu_utils.cc:128] Failed to get CPU frequency: 0 Hz\n"
     ]
    },
    {
     "name": "stdout",
     "output_type": "stream",
     "text": [
      "  10/1875 [..............................] - ETA: 10s - loss: 49.8311 - acc: 0.2062  "
     ]
    },
    {
     "name": "stderr",
     "output_type": "stream",
     "text": [
      "2022-12-08 08:59:41.736558: I tensorflow/core/grappler/optimizers/custom_graph_optimizer_registry.cc:114] Plugin optimizer for device_type GPU is enabled.\n"
     ]
    },
    {
     "name": "stdout",
     "output_type": "stream",
     "text": [
      "1875/1875 [==============================] - 9s 5ms/step - loss: 1.6832 - acc: 0.5851\n",
      "Epoch 2/20\n",
      "1875/1875 [==============================] - 9s 5ms/step - loss: 0.6519 - acc: 0.8296\n",
      "Epoch 3/20\n",
      "1875/1875 [==============================] - 8s 5ms/step - loss: 0.3993 - acc: 0.8993\n",
      "Epoch 4/20\n",
      " 984/1875 [==============>...............] - ETA: 4s - loss: 0.2558 - acc: 0.9364"
     ]
    }
   ],
   "source": [
    "model =Sequential()\n",
    "model.add( Flatten( input_shape=(28, 28)) ) \n",
    "model.add( Dense( units=64, activation='relu' )) # w: 784x64 b:64\n",
    "model.add( Dense( units=32, input_dim=64, activation='relu' )) # w: 64x32 b:32\n",
    "model.add( Dense( units=10, input_dim=32, activation='softmax')) # w: 64x32 b:32\n",
    "model.compile( loss='sparse_categorical_crossentropy', optimizer='adam', \n",
    "              metrics=['acc'])\n",
    "model.fit( x_train, y_train, epochs=20 )"
   ]
  },
  {
   "cell_type": "code",
   "execution_count": null,
   "id": "97eb57fa",
   "metadata": {},
   "outputs": [
    {
     "data": {
      "text/plain": [
       "(28, 28)"
      ]
     },
     "execution_count": 9,
     "metadata": {},
     "output_type": "execute_result"
    }
   ],
   "source": [
    "x_test[0].shape"
   ]
  },
  {
   "cell_type": "code",
   "execution_count": null,
   "id": "484ee518",
   "metadata": {},
   "outputs": [
    {
     "name": "stdout",
     "output_type": "stream",
     "text": [
      "1/1 [==============================] - 0s 16ms/step\n"
     ]
    },
    {
     "data": {
      "text/plain": [
       "array([7], dtype=int64)"
      ]
     },
     "execution_count": 11,
     "metadata": {},
     "output_type": "execute_result"
    }
   ],
   "source": [
    "model.predict( x_test[0].reshape( 1,28,28) ).argmax( axis=1)"
   ]
  },
  {
   "cell_type": "code",
   "execution_count": null,
   "id": "091e1ffd",
   "metadata": {},
   "outputs": [
    {
     "name": "stdout",
     "output_type": "stream",
     "text": [
      "313/313 [==============================] - 1s 1ms/step - loss: 0.2431 - acc: 0.9649\n"
     ]
    },
    {
     "data": {
      "text/plain": [
       "[0.24314823746681213, 0.964900016784668]"
      ]
     },
     "execution_count": 12,
     "metadata": {},
     "output_type": "execute_result"
    }
   ],
   "source": [
    "model.evaluate( x_test, y_test)"
   ]
  }
 ],
 "metadata": {
  "kernelspec": {
   "display_name": "Python 3",
   "language": "python",
   "name": "python3"
  },
  "language_info": {
   "codemirror_mode": {
    "name": "ipython",
    "version": 3
   },
   "file_extension": ".py",
   "mimetype": "text/x-python",
   "name": "python",
   "nbconvert_exporter": "python",
   "pygments_lexer": "ipython3",
   "version": "3.9.6 (default, Aug  5 2022, 15:21:02) \n[Clang 14.0.0 (clang-1400.0.29.102)]"
  },
  "vscode": {
   "interpreter": {
    "hash": "31f2aee4e71d21fbe5cf8b01ff0e069b9275f58929596ceb00d14d90e3e16cd6"
   }
  }
 },
 "nbformat": 4,
 "nbformat_minor": 5
}
