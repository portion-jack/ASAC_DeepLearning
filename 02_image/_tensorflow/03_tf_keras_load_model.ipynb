{
 "cells": [
  {
   "cell_type": "code",
   "execution_count": 5,
   "id": "d06ab16f",
   "metadata": {},
   "outputs": [],
   "source": [
    "from tensorflow.keras.models import load_model\n",
    "import tensorflow.keras.preprocessing.image as p"
   ]
  },
  {
   "cell_type": "code",
   "execution_count": 6,
   "id": "6046e567",
   "metadata": {},
   "outputs": [],
   "source": [
    "model=load_model('catdog.h5')"
   ]
  },
  {
   "cell_type": "code",
   "execution_count": 7,
   "id": "bd567a5e",
   "metadata": {},
   "outputs": [
    {
     "name": "stdout",
     "output_type": "stream",
     "text": [
      "Model: \"sequential\"\n",
      "_________________________________________________________________\n",
      " Layer (type)                Output Shape              Param #   \n",
      "=================================================================\n",
      " conv2d (Conv2D)             (None, 98, 98, 32)        896       \n",
      "                                                                 \n",
      " conv2d_1 (Conv2D)           (None, 96, 96, 64)        18496     \n",
      "                                                                 \n",
      " max_pooling2d (MaxPooling2D  (None, 48, 48, 64)       0         \n",
      " )                                                               \n",
      "                                                                 \n",
      " flatten (Flatten)           (None, 147456)            0         \n",
      "                                                                 \n",
      " dense (Dense)               (None, 64)                9437248   \n",
      "                                                                 \n",
      " dense_1 (Dense)             (None, 2)                 130       \n",
      "                                                                 \n",
      "=================================================================\n",
      "Total params: 9,456,770\n",
      "Trainable params: 9,456,770\n",
      "Non-trainable params: 0\n",
      "_________________________________________________________________\n"
     ]
    }
   ],
   "source": [
    "model.summary()"
   ]
  },
  {
   "cell_type": "code",
   "execution_count": 11,
   "id": "aac30040",
   "metadata": {},
   "outputs": [],
   "source": [
    "test_img=p.load_img('../myimg/test.jpg',target_size=(98,98))"
   ]
  },
  {
   "cell_type": "code",
   "execution_count": 12,
   "id": "a2e19ada",
   "metadata": {},
   "outputs": [],
   "source": [
    "imgarr=p.img_to_array(test_img)/255."
   ]
  },
  {
   "cell_type": "code",
   "execution_count": 15,
   "id": "6e616fab",
   "metadata": {},
   "outputs": [
    {
     "data": {
      "text/plain": [
       "(98, 98, 3)"
      ]
     },
     "execution_count": 15,
     "metadata": {},
     "output_type": "execute_result"
    }
   ],
   "source": [
    "imgarr.shape"
   ]
  },
  {
   "cell_type": "code",
   "execution_count": 16,
   "id": "345da5ca",
   "metadata": {},
   "outputs": [
    {
     "name": "stderr",
     "output_type": "stream",
     "text": [
      "2022-12-08 09:51:49.479139: I tensorflow/core/grappler/optimizers/custom_graph_optimizer_registry.cc:114] Plugin optimizer for device_type GPU is enabled.\n"
     ]
    },
    {
     "name": "stdout",
     "output_type": "stream",
     "text": [
      "1/1 [==============================] - 1s 612ms/step\n"
     ]
    },
    {
     "data": {
      "text/plain": [
       "array([[9.999893e-01, 1.067005e-05]], dtype=float32)"
      ]
     },
     "execution_count": 16,
     "metadata": {},
     "output_type": "execute_result"
    }
   ],
   "source": [
    "model.predict(imgarr.reshape(1,98,98,3))"
   ]
  },
  {
   "cell_type": "code",
   "execution_count": 26,
   "id": "ac7a5bf7",
   "metadata": {},
   "outputs": [],
   "source": [
    "def classCatDog(img):\n",
    "    catodog = ['cat','dog']\n",
    "    testimg = p.load_img('../myimg/test.jpg',target_size=(98,98))\n",
    "    imgarr = p.img_to_array(testimg)/255\n",
    "    return catodog[int(model.predict(imgarr.reshape(1,98,98,3)).argmax(axis=1))]"
   ]
  },
  {
   "cell_type": "code",
   "execution_count": 27,
   "id": "c135ded1",
   "metadata": {},
   "outputs": [
    {
     "name": "stdout",
     "output_type": "stream",
     "text": [
      "1/1 [==============================] - 0s 15ms/step\n"
     ]
    },
    {
     "data": {
      "text/plain": [
       "'cat'"
      ]
     },
     "execution_count": 27,
     "metadata": {},
     "output_type": "execute_result"
    }
   ],
   "source": [
    "classCatDog('a')"
   ]
  }
 ],
 "metadata": {
  "kernelspec": {
   "display_name": "deep_learning",
   "language": "python",
   "name": "python3"
  },
  "language_info": {
   "codemirror_mode": {
    "name": "ipython",
    "version": 3
   },
   "file_extension": ".py",
   "mimetype": "text/x-python",
   "name": "python",
   "nbconvert_exporter": "python",
   "pygments_lexer": "ipython3",
   "version": "3.9.12 | packaged by conda-forge | (main, Mar 24 2022, 23:25:14) \n[Clang 12.0.1 ]"
  },
  "vscode": {
   "interpreter": {
    "hash": "5fedde54ce020962bd3c30003bddb8a1c5bd9c5a066c739d1bc484f734442d14"
   }
  }
 },
 "nbformat": 4,
 "nbformat_minor": 5
}
