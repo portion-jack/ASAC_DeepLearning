{
 "cells": [
  {
   "cell_type": "code",
   "execution_count": 14,
   "metadata": {},
   "outputs": [],
   "source": [
    "from tensorflow.keras.applications import vgg16\n",
    "import tensorflow.keras.preprocessing.image as p\n",
    "from tensorflow.keras.applications.vgg16 import preprocess_input, decode_predictions\n",
    "\n",
    "import tensorflow as tf\n",
    "import numpy as np\n",
    "import matplotlib.pyplot as plt\n",
    "\n",
    "from tensorflow.keras.layers import Dense, Flatten, Conv2D, MaxPool2D\n",
    "# from tensorflow.keras.models import Sequential\n",
    "from tensorflow.keras import Sequential"
   ]
  },
  {
   "cell_type": "code",
   "execution_count": 15,
   "metadata": {},
   "outputs": [],
   "source": [
    "model_vgg_raw = vgg16.VGG16()"
   ]
  },
  {
   "cell_type": "code",
   "execution_count": 16,
   "metadata": {},
   "outputs": [
    {
     "data": {
      "text/plain": [
       "'-'"
      ]
     },
     "execution_count": 16,
     "metadata": {},
     "output_type": "execute_result"
    }
   ],
   "source": [
    "# model_vgg_raw.summary()\n",
    "\"\"\"\n",
    "\n",
    "Model: \"vgg16\"\n",
    "_________________________________________________________________\n",
    " Layer (type)                Output Shape              Param #   \n",
    "=================================================================\n",
    " --- 특징 추출 ---\n",
    " input_1 (InputLayer)        [(None, 224, 224, 3)]     0         \n",
    " block1_conv1 (Conv2D)       (None, 224, 224, 64)      1792      \n",
    " block1_conv2 (Conv2D)       (None, 224, 224, 64)      36928     \n",
    " block1_pool (MaxPooling2D)  (None, 112, 112, 64)      0         \n",
    " block2_conv1 (Conv2D)       (None, 112, 112, 128)     73856     \n",
    " block2_conv2 (Conv2D)       (None, 112, 112, 128)     147584    \n",
    " block2_pool (MaxPooling2D)  (None, 56, 56, 128)       0         \n",
    " block3_conv1 (Conv2D)       (None, 56, 56, 256)       295168    \n",
    " block3_conv2 (Conv2D)       (None, 56, 56, 256)       590080    \n",
    " block3_conv3 (Conv2D)       (None, 56, 56, 256)       590080    \n",
    " block3_pool (MaxPooling2D)  (None, 28, 28, 256)       0         \n",
    " block4_conv1 (Conv2D)       (None, 28, 28, 512)       1180160   \n",
    " block4_conv2 (Conv2D)       (None, 28, 28, 512)       2359808   \n",
    " block4_conv3 (Conv2D)       (None, 28, 28, 512)       2359808   \n",
    " block4_pool (MaxPooling2D)  (None, 14, 14, 512)       0         \n",
    " block5_conv1 (Conv2D)       (None, 14, 14, 512)       2359808   \n",
    " block5_conv2 (Conv2D)       (None, 14, 14, 512)       2359808   \n",
    " block5_conv3 (Conv2D)       (None, 14, 14, 512)       2359808   \n",
    " block5_pool (MaxPooling2D)  (None, 7, 7, 512)         0         \n",
    " --- 분류 ---\n",
    " flatten (Flatten)           (None, 25088)             0         \n",
    " fc1 (Dense)                 (None, 4096)              102764544 \n",
    " fc2 (Dense)                 (None, 4096)              16781312  \n",
    " predictions (Dense)         (None, 1000)              4097000   \n",
    "=================================================================\n",
    "Total params: 138,357,544\n",
    "Trainable params: 138,357,544\n",
    "Non-trainable params: 0\n",
    "_________________________________________________________________\n",
    "\n",
    "\"\"\"\n",
    "\n",
    "\"\"\"-\"\"\""
   ]
  },
  {
   "cell_type": "code",
   "execution_count": 17,
   "metadata": {},
   "outputs": [],
   "source": [
    "model_vgg_no_top = vgg16.VGG16(include_top=False)"
   ]
  },
  {
   "cell_type": "code",
   "execution_count": 18,
   "metadata": {},
   "outputs": [
    {
     "data": {
      "text/plain": [
       "'-'"
      ]
     },
     "execution_count": 18,
     "metadata": {},
     "output_type": "execute_result"
    }
   ],
   "source": [
    "# model_vgg_no_top.summary()\n",
    "\n",
    "\"\"\"\n",
    "Model: \"vgg16\"\n",
    "_________________________________________________________________\n",
    " Layer (type)                Output Shape              Param #   \n",
    "=================================================================\n",
    "--- 특징 추출 ---\n",
    " input_4 (InputLayer)        [(None, None, None, 3)]   0         \n",
    " block1_conv1 (Conv2D)       (None, None, None, 64)    1792      \n",
    " block1_conv2 (Conv2D)       (None, None, None, 64)    36928     \n",
    " block1_pool (MaxPooling2D)  (None, None, None, 64)    0         \n",
    " block2_conv1 (Conv2D)       (None, None, None, 128)   73856     \n",
    " block2_conv2 (Conv2D)       (None, None, None, 128)   147584    \n",
    " block2_pool (MaxPooling2D)  (None, None, None, 128)   0         \n",
    " block3_conv1 (Conv2D)       (None, None, None, 256)   295168    \n",
    " block3_conv2 (Conv2D)       (None, None, None, 256)   590080    \n",
    " block3_conv3 (Conv2D)       (None, None, None, 256)   590080    \n",
    " block3_pool (MaxPooling2D)  (None, None, None, 256)   0         \n",
    " block4_conv1 (Conv2D)       (None, None, None, 512)   1180160   \n",
    " block4_conv2 (Conv2D)       (None, None, None, 512)   2359808   \n",
    " block4_conv3 (Conv2D)       (None, None, None, 512)   2359808   \n",
    " block4_pool (MaxPooling2D)  (None, None, None, 512)   0         \n",
    " block5_conv1 (Conv2D)       (None, None, None, 512)   2359808   \n",
    " block5_conv2 (Conv2D)       (None, None, None, 512)   2359808   \n",
    " block5_conv3 (Conv2D)       (None, None, None, 512)   2359808   \n",
    " block5_pool (MaxPooling2D)  (None, None, None, 512)   0         \n",
    "=================================================================\n",
    "Total params: 14,714,688\n",
    "Trainable params: 14,714,688\n",
    "Non-trainable params: 0\n",
    "_________________________________________________________________\n",
    "\n",
    "\"\"\"\n",
    "\n",
    "# \n",
    "\"\"\"-\"\"\""
   ]
  },
  {
   "cell_type": "code",
   "execution_count": 19,
   "metadata": {},
   "outputs": [],
   "source": [
    "model_vgg_no_top = vgg16.VGG16(include_top=False,input_shape=(98,98,3))"
   ]
  },
  {
   "cell_type": "code",
   "execution_count": 20,
   "metadata": {},
   "outputs": [
    {
     "name": "stdout",
     "output_type": "stream",
     "text": [
      "Model: \"vgg16\"\n",
      "_________________________________________________________________\n",
      " Layer (type)                Output Shape              Param #   \n",
      "=================================================================\n",
      " input_8 (InputLayer)        [(None, 98, 98, 3)]       0         \n",
      "                                                                 \n",
      " block1_conv1 (Conv2D)       (None, 98, 98, 64)        1792      \n",
      "                                                                 \n",
      " block1_conv2 (Conv2D)       (None, 98, 98, 64)        36928     \n",
      "                                                                 \n",
      " block1_pool (MaxPooling2D)  (None, 49, 49, 64)        0         \n",
      "                                                                 \n",
      " block2_conv1 (Conv2D)       (None, 49, 49, 128)       73856     \n",
      "                                                                 \n",
      " block2_conv2 (Conv2D)       (None, 49, 49, 128)       147584    \n",
      "                                                                 \n",
      " block2_pool (MaxPooling2D)  (None, 24, 24, 128)       0         \n",
      "                                                                 \n",
      " block3_conv1 (Conv2D)       (None, 24, 24, 256)       295168    \n",
      "                                                                 \n",
      " block3_conv2 (Conv2D)       (None, 24, 24, 256)       590080    \n",
      "                                                                 \n",
      " block3_conv3 (Conv2D)       (None, 24, 24, 256)       590080    \n",
      "                                                                 \n",
      " block3_pool (MaxPooling2D)  (None, 12, 12, 256)       0         \n",
      "                                                                 \n",
      " block4_conv1 (Conv2D)       (None, 12, 12, 512)       1180160   \n",
      "                                                                 \n",
      " block4_conv2 (Conv2D)       (None, 12, 12, 512)       2359808   \n",
      "                                                                 \n",
      " block4_conv3 (Conv2D)       (None, 12, 12, 512)       2359808   \n",
      "                                                                 \n",
      " block4_pool (MaxPooling2D)  (None, 6, 6, 512)         0         \n",
      "                                                                 \n",
      " block5_conv1 (Conv2D)       (None, 6, 6, 512)         2359808   \n",
      "                                                                 \n",
      " block5_conv2 (Conv2D)       (None, 6, 6, 512)         2359808   \n",
      "                                                                 \n",
      " block5_conv3 (Conv2D)       (None, 6, 6, 512)         2359808   \n",
      "                                                                 \n",
      " block5_pool (MaxPooling2D)  (None, 3, 3, 512)         0         \n",
      "                                                                 \n",
      "=================================================================\n",
      "Total params: 14,714,688\n",
      "Trainable params: 14,714,688\n",
      "Non-trainable params: 0\n",
      "_________________________________________________________________\n"
     ]
    }
   ],
   "source": [
    "model_vgg_no_top.summary()\n",
    "\n",
    "\"\"\"\n",
    "Model: \"vgg16\"\n",
    "_________________________________________________________________\n",
    " Layer (type)                Output Shape              Param #   \n",
    "=================================================================\n",
    " input_8 (InputLayer)        [(None, 98, 98, 3)]       0         \n",
    " block1_conv1 (Conv2D)       (None, 98, 98, 64)        1792      \n",
    " block1_conv2 (Conv2D)       (None, 98, 98, 64)        36928     \n",
    " block1_pool (MaxPooling2D)  (None, 49, 49, 64)        0         \n",
    " block2_conv1 (Conv2D)       (None, 49, 49, 128)       73856     \n",
    " block2_conv2 (Conv2D)       (None, 49, 49, 128)       147584    \n",
    " block2_pool (MaxPooling2D)  (None, 24, 24, 128)       0         \n",
    " block3_conv1 (Conv2D)       (None, 24, 24, 256)       295168    \n",
    " block3_conv2 (Conv2D)       (None, 24, 24, 256)       590080    \n",
    " block3_conv3 (Conv2D)       (None, 24, 24, 256)       590080    \n",
    " block3_pool (MaxPooling2D)  (None, 12, 12, 256)       0         \n",
    " block4_conv1 (Conv2D)       (None, 12, 12, 512)       1180160   \n",
    " block4_conv2 (Conv2D)       (None, 12, 12, 512)       2359808   \n",
    " block4_conv3 (Conv2D)       (None, 12, 12, 512)       2359808   \n",
    " block4_pool (MaxPooling2D)  (None, 6, 6, 512)         0         \n",
    " block5_conv1 (Conv2D)       (None, 6, 6, 512)         2359808   \n",
    " block5_conv2 (Conv2D)       (None, 6, 6, 512)         2359808   \n",
    " block5_conv3 (Conv2D)       (None, 6, 6, 512)         2359808   \n",
    " block5_pool (MaxPooling2D)  (None, 3, 3, 512)         0         \n",
    "=================================================================\n",
    "Total params: 14,714,688\n",
    "Trainable params: 14,714,688\n",
    "Non-trainable params: 0\n",
    "_________________________________________________________________\n",
    "\n",
    "\"\"\"\n",
    "\n",
    "\"\"\"-\"\"\""
   ]
  },
  {
   "cell_type": "code",
   "execution_count": 27,
   "metadata": {},
   "outputs": [],
   "source": [
    "model_vgg_no_top = vgg16.VGG16(include_top=False,input_shape=(98,98,3))\n",
    "\n",
    "for layer in model_vgg_no_top.layers:\n",
    "    layer.trainable = False"
   ]
  },
  {
   "cell_type": "code",
   "execution_count": 28,
   "metadata": {},
   "outputs": [
    {
     "name": "stdout",
     "output_type": "stream",
     "text": [
      "Found 20 images belonging to 2 classes.\n"
     ]
    }
   ],
   "source": [
    "dataGen=p.ImageDataGenerator(rescale=1./255.)\n",
    "trainGen = dataGen.flow_from_directory('./myimg/',target_size=(98,98))"
   ]
  },
  {
   "cell_type": "code",
   "execution_count": 32,
   "metadata": {},
   "outputs": [
    {
     "name": "stdout",
     "output_type": "stream",
     "text": [
      "Epoch 1/10\n",
      "1/1 [==============================] - 0s 348ms/step - loss: 0.8679 - acc: 0.5000\n",
      "Epoch 2/10\n"
     ]
    },
    {
     "name": "stderr",
     "output_type": "stream",
     "text": [
      "2022-12-08 10:57:39.896999: I tensorflow/core/grappler/optimizers/custom_graph_optimizer_registry.cc:114] Plugin optimizer for device_type GPU is enabled.\n"
     ]
    },
    {
     "name": "stdout",
     "output_type": "stream",
     "text": [
      "1/1 [==============================] - 0s 67ms/step - loss: 0.9322 - acc: 0.5000\n",
      "Epoch 3/10\n",
      "1/1 [==============================] - 0s 66ms/step - loss: 0.3474 - acc: 0.9000\n",
      "Epoch 4/10\n",
      "1/1 [==============================] - 0s 66ms/step - loss: 0.3089 - acc: 0.9500\n",
      "Epoch 5/10\n",
      "1/1 [==============================] - 0s 66ms/step - loss: 0.2767 - acc: 0.9500\n",
      "Epoch 6/10\n",
      "1/1 [==============================] - 0s 65ms/step - loss: 0.1658 - acc: 1.0000\n",
      "Epoch 7/10\n",
      "1/1 [==============================] - 0s 66ms/step - loss: 0.0925 - acc: 1.0000\n",
      "Epoch 8/10\n",
      "1/1 [==============================] - 0s 76ms/step - loss: 0.0655 - acc: 1.0000\n",
      "Epoch 9/10\n",
      "1/1 [==============================] - 0s 64ms/step - loss: 0.0558 - acc: 1.0000\n",
      "Epoch 10/10\n",
      "1/1 [==============================] - 0s 65ms/step - loss: 0.0491 - acc: 1.0000\n"
     ]
    },
    {
     "data": {
      "text/plain": [
       "<keras.callbacks.History at 0x2c4a5f0d0>"
      ]
     },
     "execution_count": 32,
     "metadata": {},
     "output_type": "execute_result"
    }
   ],
   "source": [
    "model = Sequential()\n",
    "model.add(model_vgg_no_top)\n",
    "model.add(Flatten())\n",
    "model.add(Dense(units=64,activation='relu'))\n",
    "model.add(Dense(units=2,activation='sigmoid'))\n",
    "model.compile(loss='categorical_crossentropy', optimizer='adam', metrics=['acc'])\n",
    "model.fit(trainGen,epochs=10)"
   ]
  },
  {
   "cell_type": "code",
   "execution_count": 30,
   "metadata": {},
   "outputs": [
    {
     "name": "stdout",
     "output_type": "stream",
     "text": [
      "Model: \"sequential\"\n",
      "_________________________________________________________________\n",
      " Layer (type)                Output Shape              Param #   \n",
      "=================================================================\n",
      " vgg16 (Functional)          (None, 3, 3, 512)         14714688  \n",
      "                                                                 \n",
      " flatten (Flatten)           (None, 4608)              0         \n",
      "                                                                 \n",
      " dense (Dense)               (None, 64)                294976    \n",
      "                                                                 \n",
      " dense_1 (Dense)             (None, 2)                 130       \n",
      "                                                                 \n",
      "=================================================================\n",
      "Total params: 15,009,794\n",
      "Trainable params: 295,106\n",
      "Non-trainable params: 14,714,688\n",
      "_________________________________________________________________\n"
     ]
    }
   ],
   "source": [
    "model.summary()"
   ]
  }
 ],
 "metadata": {
  "kernelspec": {
   "display_name": "deep_learning",
   "language": "python",
   "name": "python3"
  },
  "language_info": {
   "codemirror_mode": {
    "name": "ipython",
    "version": 3
   },
   "file_extension": ".py",
   "mimetype": "text/x-python",
   "name": "python",
   "nbconvert_exporter": "python",
   "pygments_lexer": "ipython3",
   "version": "3.9.12"
  },
  "orig_nbformat": 4,
  "vscode": {
   "interpreter": {
    "hash": "5fedde54ce020962bd3c30003bddb8a1c5bd9c5a066c739d1bc484f734442d14"
   }
  }
 },
 "nbformat": 4,
 "nbformat_minor": 2
}
