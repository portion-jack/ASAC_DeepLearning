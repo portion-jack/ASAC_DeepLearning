{
 "cells": [
  {
   "cell_type": "markdown",
   "metadata": {},
   "source": [
    "### Gradient\n"
   ]
  },
  {
   "cell_type": "code",
   "execution_count": 29,
   "metadata": {},
   "outputs": [],
   "source": [
    "import matplotlib.pyplot as plt\n",
    "import numpy as np"
   ]
  },
  {
   "cell_type": "code",
   "execution_count": 30,
   "metadata": {},
   "outputs": [],
   "source": [
    "x_data = [1,2,3]\n",
    "y_data = [1,2,3]"
   ]
  },
  {
   "cell_type": "code",
   "execution_count": 31,
   "metadata": {},
   "outputs": [],
   "source": [
    "def cost(x,y,w):\n",
    "    c = 0 \n",
    "    for i in range(len(x)):\n",
    "        hx = w*x[i]\n",
    "        c = c+(hx - y[i])**2\n",
    "    return c/len(x)"
   ]
  },
  {
   "cell_type": "code",
   "execution_count": 32,
   "metadata": {},
   "outputs": [],
   "source": [
    "def gradient(x,y,w):\n",
    "    c = 0 \n",
    "    for i in range(len(x)):\n",
    "        hx = w*x[i]\n",
    "        c = c+(hx - y[i])*x[i]\n",
    "    return c/len(x)"
   ]
  },
  {
   "cell_type": "code",
   "execution_count": 38,
   "metadata": {},
   "outputs": [
    {
     "name": "stdout",
     "output_type": "stream",
     "text": [
      "cost/gradient : 3.0\n",
      "cost/gradient : 2.5799999999999996\n",
      "cost/gradient : 2.2188\n",
      "cost/gradient : 1.9081679999999999\n",
      "cost/gradient : 1.64102448\n",
      "cost/gradient : 1.4112810528000002\n",
      "cost/gradient : 1.2137017054079997\n",
      "cost/gradient : 1.04378346665088\n",
      "cost/gradient : 0.8976537813197569\n",
      "cost/gradient : 0.7719822519349909\n",
      "cost/gradient : 0.6639047366640922\n",
      "cost/gradient : 0.5709580735311192\n",
      "cost/gradient : 0.49102394323676263\n",
      "cost/gradient : 0.42228059118361566\n",
      "cost/gradient : 0.3631613084179095\n",
      "cost/gradient : 0.3123187252394023\n",
      "cost/gradient : 0.268594103705886\n",
      "cost/gradient : 0.23099092918706193\n",
      "cost/gradient : 0.1986521991008732\n",
      "cost/gradient : 0.17084089122675097\n",
      "cost/gradient : 0.14692316645500586\n",
      "cost/gradient : 0.1263539231513051\n",
      "cost/gradient : 0.10866437391012236\n",
      "cost/gradient : 0.09345136156270521\n",
      "cost/gradient : 0.08036817094392647\n",
      "cost/gradient : 0.06911662701177675\n",
      "cost/gradient : 0.059440299230128016\n",
      "cost/gradient : 0.0511186573379101\n",
      "cost/gradient : 0.043962045310602674\n",
      "cost/gradient : 0.03780735896711827\n"
     ]
    },
    {
     "data": {
      "image/png": "[encoded data removed]",
      "text/plain": [
       "<Figure size 640x480 with 1 Axes>"
      ]
     },
     "metadata": {},
     "output_type": "display_data"
    }
   ],
   "source": [
    "w = 10 \n",
    "for epoch in range(30):\n",
    "    c = cost(x_data, y_data, w)\n",
    "    g = gradient(x_data, y_data, w)\n",
    "    w = w - 0.01 * g\n",
    "    print(f'epoch : {epoch} / cost : {c} / w:{w} / gradient : {g}')\n",
    "    print(f'cost/gradient : {c/g}')\n",
    "    plt.plot(epoch,g,'ro')\n",
    "plt.show()"
   ]
  },
  {
   "cell_type": "code",
   "execution_count": 20,
   "metadata": {},
   "outputs": [
    {
     "name": "stdout",
     "output_type": "stream",
     "text": [
      "최종 weight : 1.0000000581037747\n"
     ]
    }
   ],
   "source": [
    "print(f'최종 weight : {w}')"
   ]
  },
  {
   "cell_type": "code",
   "execution_count": null,
   "metadata": {},
   "outputs": [],
   "source": []
  }
 ],
 "metadata": {
  "kernelspec": {
   "display_name": "Python 3.9.12 ('deep_learning')",
   "language": "python",
   "name": "python3"
  },
  "language_info": {
   "codemirror_mode": {
    "name": "ipython",
    "version": 3
   },
   "file_extension": ".py",
   "mimetype": "text/x-python",
   "name": "python",
   "nbconvert_exporter": "python",
   "pygments_lexer": "ipython3",
   "version": "3.9.12"
  },
  "orig_nbformat": 4,
  "vscode": {
   "interpreter": {
    "hash": "5fedde54ce020962bd3c30003bddb8a1c5bd9c5a066c739d1bc484f734442d14"
   }
  }
 },
 "nbformat": 4,
 "nbformat_minor": 2
}
