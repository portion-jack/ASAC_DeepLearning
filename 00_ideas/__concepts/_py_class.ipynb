{
 "cells": [
  {
   "cell_type": "code",
   "execution_count": null,
   "metadata": {},
   "outputs": [],
   "source": [
    "import torch\n",
    "from torch.optim import Adam\n",
    "from torch.nn import Linear, MSELoss, Sequential, BCELoss, Sigmoid, Module\n",
    "\n",
    "import numpy as np\n",
    "import pandas as pd\n",
    "import matplotlib.pyplot as plt\n",
    "from sklearn.metrics import accuracy_score"
   ]
  },
  {
   "cell_type": "code",
   "execution_count": 1,
   "metadata": {},
   "outputs": [],
   "source": [
    "class Test:\n",
    "    def __init__(self) -> None:\n",
    "        print('init call')\n",
    "        self.a = 100\n",
    "    def setA(self,a):\n",
    "        self.a = a\n",
    "    def getA(self):\n",
    "        return self.a"
   ]
  },
  {
   "cell_type": "code",
   "execution_count": 2,
   "metadata": {},
   "outputs": [
    {
     "name": "stdout",
     "output_type": "stream",
     "text": [
      "init call\n",
      "100\n",
      "200\n"
     ]
    }
   ],
   "source": [
    "obj = Test()\n",
    "print(obj.getA())\n",
    "obj.setA(200)\n",
    "print(obj.getA())"
   ]
  },
  {
   "cell_type": "code",
   "execution_count": 13,
   "metadata": {},
   "outputs": [],
   "source": [
    "class Pet:\n",
    "    def Sleep(self):\n",
    "        print('zzz')\n",
    "    def Eat(self):\n",
    "        print('???')\n",
    "\n",
    "class Dog(Pet):\n",
    "    def Speak(self):\n",
    "        print('bow wow')\n",
    "    def Eat(self):\n",
    "        print('bone')\n",
    "\n",
    "class Cat(Pet):\n",
    "    def Speak(self):\n",
    "        print('meow')\n",
    "    def Eat(self): # override\n",
    "        print('fish')"
   ]
  },
  {
   "cell_type": "code",
   "execution_count": 14,
   "metadata": {},
   "outputs": [
    {
     "name": "stdout",
     "output_type": "stream",
     "text": [
      "zzz\n",
      "bone\n",
      "bow wow\n"
     ]
    }
   ],
   "source": [
    "dog = Dog()\n",
    "dog.Sleep()\n",
    "dog.Eat()\n",
    "dog.Speak()"
   ]
  },
  {
   "cell_type": "code",
   "execution_count": 90,
   "metadata": {},
   "outputs": [],
   "source": [
    "class MyClass:\n",
    "    \n",
    "    def __init__(self) -> None:\n",
    "        self.a = 10\n",
    "        self.myD = {}\n",
    "        self.myCnt = 0\n",
    "    \n",
    "    def __repr__(self) -> str:\n",
    "        return f'a={self.a}'\n",
    "    \n",
    "    def __add__(self,target):\n",
    "        return self.a + target\n",
    "    \n",
    "    def __call__(self,n1,n2) -> str:\n",
    "        print(n1,n2)\n",
    "    \n",
    "    def __setitem__(self,index,value):\n",
    "        print('__setitem__ call')\n",
    "        self.myD[index] = value\n",
    "    \n",
    "    def __getitem__(self,index):\n",
    "        print('__getitem__ call')\n",
    "        return self.myD[index]\n",
    "    \n",
    "    def __iter__(self):\n",
    "        self.myCnt = 0\n",
    "        return self\n",
    "    \n",
    "    def __next__(self):\n",
    "        self.myCnt += 1\n",
    "        if self.myCnt  == 5:\n",
    "            raise StopIteration\n",
    "        return self.myCnt"
   ]
  },
  {
   "cell_type": "code",
   "execution_count": 91,
   "metadata": {},
   "outputs": [
    {
     "name": "stdout",
     "output_type": "stream",
     "text": [
      "a=10\n"
     ]
    }
   ],
   "source": [
    "obj = MyClass()\n",
    "print(obj) # obj.__repr__"
   ]
  },
  {
   "cell_type": "code",
   "execution_count": 92,
   "metadata": {},
   "outputs": [
    {
     "name": "stdout",
     "output_type": "stream",
     "text": [
      "40\n"
     ]
    }
   ],
   "source": [
    "print(obj+30) # obj.__add__"
   ]
  },
  {
   "cell_type": "code",
   "execution_count": 93,
   "metadata": {},
   "outputs": [
    {
     "name": "stdout",
     "output_type": "stream",
     "text": [
      "3 3\n"
     ]
    }
   ],
   "source": [
    "obj(3,3) # __call__"
   ]
  },
  {
   "cell_type": "code",
   "execution_count": 94,
   "metadata": {},
   "outputs": [
    {
     "name": "stdout",
     "output_type": "stream",
     "text": [
      "__setitem__ call\n"
     ]
    }
   ],
   "source": [
    "obj['aa'] = 100 # __setitem__"
   ]
  },
  {
   "cell_type": "code",
   "execution_count": 95,
   "metadata": {},
   "outputs": [
    {
     "name": "stdout",
     "output_type": "stream",
     "text": [
      "__getitem__ call\n",
      "100\n"
     ]
    }
   ],
   "source": [
    "print(obj['aa']) # __getitem__"
   ]
  },
  {
   "cell_type": "code",
   "execution_count": 96,
   "metadata": {},
   "outputs": [
    {
     "name": "stdout",
     "output_type": "stream",
     "text": [
      "1\n",
      "2\n",
      "3\n",
      "4\n"
     ]
    }
   ],
   "source": [
    "for n in obj:\n",
    "    \"\"\"\n",
    "    obj.__iter__()\n",
    "    obj.__next__()\n",
    "    obj.__next__()\n",
    "    obj.__next__()\n",
    "    ...\n",
    "    \"\"\"\n",
    "    print(n)"
   ]
  },
  {
   "cell_type": "code",
   "execution_count": null,
   "metadata": {},
   "outputs": [],
   "source": []
  }
 ],
 "metadata": {
  "kernelspec": {
   "display_name": "Python 3.9.12 ('deep_learning')",
   "language": "python",
   "name": "python3"
  },
  "language_info": {
   "codemirror_mode": {
    "name": "ipython",
    "version": 3
   },
   "file_extension": ".py",
   "mimetype": "text/x-python",
   "name": "python",
   "nbconvert_exporter": "python",
   "pygments_lexer": "ipython3",
   "version": "3.9.12"
  },
  "orig_nbformat": 4,
  "vscode": {
   "interpreter": {
    "hash": "5fedde54ce020962bd3c30003bddb8a1c5bd9c5a066c739d1bc484f734442d14"
   }
  }
 },
 "nbformat": 4,
 "nbformat_minor": 2
}
