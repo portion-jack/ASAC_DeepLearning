{
 "cells": [
  {
   "cell_type": "code",
   "execution_count": 26,
   "metadata": {},
   "outputs": [],
   "source": [
    "import matplotlib.pyplot as plt\n",
    "import numpy as np\n",
    "import pandas as pd\n",
    "import seaborn as sns\n",
    "\n",
    "import tensorflow as tf\n",
    "from tensorflow.keras.optimizers import Adam\n",
    "from tensorflow.keras.layers import Dense\n",
    "from tensorflow.keras.models import Sequential\n",
    "\n",
    "from sklearn.model_selection import train_test_split\n",
    "from sklearn.preprocessing import MinMaxScaler, StandardScaler\n",
    "from sklearn.metrics import accuracy_score, f1_score, confusion_matrix"
   ]
  },
  {
   "cell_type": "code",
   "execution_count": 16,
   "metadata": {},
   "outputs": [],
   "source": [
    "df_raw=pd.read_csv('./raw_data/pima-indians-diabetes.data.csv')\n",
    "df = df_raw.copy()"
   ]
  },
  {
   "cell_type": "code",
   "execution_count": 17,
   "metadata": {},
   "outputs": [],
   "source": [
    "x_data = df.iloc[:,:-1].values\n",
    "y_data = df.iloc[:,-1].values"
   ]
  },
  {
   "cell_type": "code",
   "execution_count": 18,
   "metadata": {},
   "outputs": [],
   "source": [
    "scaler = MinMaxScaler()\n",
    "x_dataN = scaler.fit_transform(x_data)\n",
    "x_train,x_test,y_train,y_test = train_test_split(x_dataN, y_data,\n",
    "                                                 test_size=0.3,\n",
    "                                                 stratify=y_data)\n"
   ]
  },
  {
   "cell_type": "code",
   "execution_count": 19,
   "metadata": {},
   "outputs": [
    {
     "name": "stdout",
     "output_type": "stream",
     "text": [
      "(537, 8) (231, 8)\n",
      "(537,) (231,)\n"
     ]
    }
   ],
   "source": [
    "print(x_train.shape,x_test.shape)\n",
    "print(y_train.shape,y_test.shape)"
   ]
  },
  {
   "cell_type": "code",
   "execution_count": 20,
   "metadata": {},
   "outputs": [
    {
     "name": "stdout",
     "output_type": "stream",
     "text": [
      "Epoch 1/30\n",
      " 9/17 [==============>...............] - ETA: 0s - loss: 0.7054 - acc: 0.5972"
     ]
    },
    {
     "name": "stderr",
     "output_type": "stream",
     "text": [
      "2022-12-01 15:05:15.367390: I tensorflow/core/grappler/optimizers/custom_graph_optimizer_registry.cc:114] Plugin optimizer for device_type GPU is enabled.\n"
     ]
    },
    {
     "name": "stdout",
     "output_type": "stream",
     "text": [
      "17/17 [==============================] - 0s 8ms/step - loss: 0.7089 - acc: 0.6071\n",
      "Epoch 2/30\n",
      "17/17 [==============================] - 0s 5ms/step - loss: 0.6479 - acc: 0.6350\n",
      "Epoch 3/30\n",
      "17/17 [==============================] - 0s 5ms/step - loss: 0.6029 - acc: 0.6629\n",
      "Epoch 4/30\n",
      "17/17 [==============================] - 0s 6ms/step - loss: 0.5865 - acc: 0.6853\n",
      "Epoch 5/30\n",
      "17/17 [==============================] - 0s 6ms/step - loss: 0.5723 - acc: 0.6797\n",
      "Epoch 6/30\n",
      "17/17 [==============================] - 0s 6ms/step - loss: 0.5590 - acc: 0.7095\n",
      "Epoch 7/30\n",
      "17/17 [==============================] - 0s 5ms/step - loss: 0.5484 - acc: 0.6983\n",
      "Epoch 8/30\n",
      "17/17 [==============================] - 0s 5ms/step - loss: 0.5401 - acc: 0.7281\n",
      "Epoch 9/30\n",
      "17/17 [==============================] - 0s 5ms/step - loss: 0.5384 - acc: 0.7244\n",
      "Epoch 10/30\n",
      "17/17 [==============================] - 0s 5ms/step - loss: 0.5351 - acc: 0.7318\n",
      "Epoch 11/30\n",
      "17/17 [==============================] - 0s 5ms/step - loss: 0.5246 - acc: 0.7430\n",
      "Epoch 12/30\n",
      "17/17 [==============================] - 0s 5ms/step - loss: 0.5199 - acc: 0.7467\n",
      "Epoch 13/30\n",
      "17/17 [==============================] - 0s 5ms/step - loss: 0.5151 - acc: 0.7486\n",
      "Epoch 14/30\n",
      "17/17 [==============================] - 0s 5ms/step - loss: 0.5145 - acc: 0.7579\n",
      "Epoch 15/30\n",
      "17/17 [==============================] - 0s 5ms/step - loss: 0.5089 - acc: 0.7542\n",
      "Epoch 16/30\n",
      "17/17 [==============================] - 0s 5ms/step - loss: 0.5139 - acc: 0.7579\n",
      "Epoch 17/30\n",
      "17/17 [==============================] - 0s 5ms/step - loss: 0.5012 - acc: 0.7709\n",
      "Epoch 18/30\n",
      "17/17 [==============================] - 0s 5ms/step - loss: 0.5019 - acc: 0.7672\n",
      "Epoch 19/30\n",
      "17/17 [==============================] - 0s 7ms/step - loss: 0.5019 - acc: 0.7709\n",
      "Epoch 20/30\n",
      "17/17 [==============================] - 0s 7ms/step - loss: 0.4979 - acc: 0.7635\n",
      "Epoch 21/30\n",
      "17/17 [==============================] - 0s 6ms/step - loss: 0.4985 - acc: 0.7709\n",
      "Epoch 22/30\n",
      "17/17 [==============================] - 0s 7ms/step - loss: 0.4918 - acc: 0.7803\n",
      "Epoch 23/30\n",
      "17/17 [==============================] - 0s 6ms/step - loss: 0.5006 - acc: 0.7691\n",
      "Epoch 24/30\n",
      "17/17 [==============================] - 0s 6ms/step - loss: 0.4964 - acc: 0.7598\n",
      "Epoch 25/30\n",
      "17/17 [==============================] - 0s 6ms/step - loss: 0.4945 - acc: 0.7579\n",
      "Epoch 26/30\n",
      "17/17 [==============================] - 0s 6ms/step - loss: 0.4917 - acc: 0.7672\n",
      "Epoch 27/30\n",
      "17/17 [==============================] - 0s 6ms/step - loss: 0.4927 - acc: 0.7579\n",
      "Epoch 28/30\n",
      "17/17 [==============================] - 0s 6ms/step - loss: 0.4960 - acc: 0.7635\n",
      "Epoch 29/30\n",
      "17/17 [==============================] - 0s 6ms/step - loss: 0.4934 - acc: 0.7635\n",
      "Epoch 30/30\n",
      "17/17 [==============================] - 0s 6ms/step - loss: 0.4884 - acc: 0.7654\n"
     ]
    }
   ],
   "source": [
    "dense = Dense(units=1,input_dim=8,activation='sigmoid')\n",
    "model = Sequential([dense])\n",
    "model.compile(loss='binary_crossentropy',optimizer=Adam(0.1),metrics=['acc'])\n",
    "h = model.fit(x_train,y_train,epochs=30)"
   ]
  },
  {
   "cell_type": "code",
   "execution_count": 32,
   "metadata": {},
   "outputs": [
    {
     "name": "stdout",
     "output_type": "stream",
     "text": [
      "8/8 [==============================] - 0s 3ms/step\n"
     ]
    }
   ],
   "source": [
    "y_pred = (model.predict(x_test) > 0.5)+0"
   ]
  },
  {
   "cell_type": "code",
   "execution_count": 33,
   "metadata": {},
   "outputs": [
    {
     "data": {
      "text/plain": [
       "0.7532467532467533"
      ]
     },
     "execution_count": 33,
     "metadata": {},
     "output_type": "execute_result"
    }
   ],
   "source": [
    "accuracy_score(y_test,y_pred)"
   ]
  },
  {
   "cell_type": "code",
   "execution_count": 35,
   "metadata": {},
   "outputs": [
    {
     "data": {
      "text/plain": [
       "0.5365853658536585"
      ]
     },
     "execution_count": 35,
     "metadata": {},
     "output_type": "execute_result"
    }
   ],
   "source": [
    "f1_score(y_test,y_pred)"
   ]
  },
  {
   "cell_type": "code",
   "execution_count": 34,
   "metadata": {},
   "outputs": [
    {
     "name": "stdout",
     "output_type": "stream",
     "text": [
      "17/17 [==============================] - 0s 5ms/step - loss: 0.4956 - acc: 0.7691\n"
     ]
    },
    {
     "name": "stderr",
     "output_type": "stream",
     "text": [
      "2022-12-01 15:09:29.846022: I tensorflow/core/grappler/optimizers/custom_graph_optimizer_registry.cc:114] Plugin optimizer for device_type GPU is enabled.\n"
     ]
    },
    {
     "data": {
      "text/plain": [
       "[0.4956468343734741, 0.769087553024292]"
      ]
     },
     "execution_count": 34,
     "metadata": {},
     "output_type": "execute_result"
    }
   ],
   "source": [
    "model.evaluate(x_train,y_train)\n",
    "# [cost, acc]"
   ]
  },
  {
   "cell_type": "code",
   "execution_count": 31,
   "metadata": {},
   "outputs": [
    {
     "data": {
      "text/plain": [
       "<AxesSubplot: >"
      ]
     },
     "execution_count": 31,
     "metadata": {},
     "output_type": "execute_result"
    },
    {
     "data": {
      "image/png": "[encoded data removed]",
      "text/plain": [
       "<Figure size 640x480 with 2 Axes>"
      ]
     },
     "metadata": {},
     "output_type": "display_data"
    }
   ],
   "source": [
    "sns.heatmap(confusion_matrix(y_pred,y_test),\n",
    "            annot=True,\n",
    "            fmt='.0f',\n",
    "            cmap=plt.cm.PuBu)"
   ]
  },
  {
   "cell_type": "code",
   "execution_count": null,
   "metadata": {},
   "outputs": [],
   "source": []
  }
 ],
 "metadata": {
  "kernelspec": {
   "display_name": "Python 3.9.12 ('deep_learning')",
   "language": "python",
   "name": "python3"
  },
  "language_info": {
   "codemirror_mode": {
    "name": "ipython",
    "version": 3
   },
   "file_extension": ".py",
   "mimetype": "text/x-python",
   "name": "python",
   "nbconvert_exporter": "python",
   "pygments_lexer": "ipython3",
   "version": "3.9.12"
  },
  "orig_nbformat": 4,
  "vscode": {
   "interpreter": {
    "hash": "5fedde54ce020962bd3c30003bddb8a1c5bd9c5a066c739d1bc484f734442d14"
   }
  }
 },
 "nbformat": 4,
 "nbformat_minor": 2
}
