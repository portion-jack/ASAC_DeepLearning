{
 "cells": [
  {
   "cell_type": "code",
   "execution_count": 1,
   "metadata": {
    "pycharm": {
     "name": "#%%\n"
    }
   },
   "outputs": [],
   "source": [
    "from konlpy.corpus import kolaw\n",
    "import numpy as np"
   ]
  },
  {
   "cell_type": "code",
   "execution_count": 2,
   "metadata": {
    "pycharm": {
     "name": "#%%\n"
    }
   },
   "outputs": [
    {
     "data": {
      "text/plain": [
       "['constitution.txt']"
      ]
     },
     "execution_count": 2,
     "metadata": {},
     "output_type": "execute_result"
    }
   ],
   "source": [
    "kolaw.fileids()"
   ]
  },
  {
   "cell_type": "code",
   "execution_count": 3,
   "metadata": {
    "pycharm": {
     "name": "#%%\n"
    }
   },
   "outputs": [
    {
     "name": "stdout",
     "output_type": "stream",
     "text": [
      "대한민국헌법\n",
      "\n",
      "유구한 역사와 전통에 빛나는 우리 대한국민은 3·1운동으로 건립된 대한민국임시정부의 법통과 불의에 항거한 4·19민주이념을 계승하고, 조국의 민주개혁과 평화적 통일의 사명에 입각하여 정의·인도와 동포애로써 민족의 단결을 공고히 하고, 모든 사회적 폐습과 불의를 타파하며, 자율과 조화를 바탕으로 자유민주적 기본질서를 더욱 확고히 하여 정치·경제·사회·문화의 모든 영역에 있어서 각인의 기회를 균등히 하고, 능력을 최고도로 발휘하게 하며, 자유와 권리에 따르는 책임과 의무를 완수하게 하여, 안으로는 국민생활의 균등한 향상을 기하고 밖으로는 항구적인 세계평화와 인류공영에 이바지함으로써 우리들과 우리들의 자손의 안전과 자유와 행복을 영원히 확보할 것을 다짐하면서 1948년 7월 12일에 제정되고 8차에 걸쳐 개정된 헌법을 이제 국회의 의결을 거쳐 국민투표에 의하여 개정한다.\n",
      "\n",
      "       제1장 총강\n",
      "  제1조 ① 대한민국은 민주공화국이다.\n",
      "②대한민국의 주권은 국민에게 있고, 모든 권력은 국민으로부터 나온다.\n",
      "  제2조 ① 대한민국의 국민이 되는 요건은 법률로 정한다.\n",
      "②국가는 법률이 정하는 바에 의하여 재외국민을 보호할 의무를 진다.\n",
      "  제3조 대한민국의 영토는 한반도와 그 부속도서로 한다.\n",
      "  제4조 대한민국은 통일을 지향하며, 자유민주적 기본질서에 입각한 평화적 통일 정책을 수립하고 이를 추진한다.\n",
      "  제5조 ① 대한민국은 국제평화의 유지에 노력하고 침략적 전쟁을 부인한다.\n",
      "②국군은 국가의 안전보장과 국토방위의 신성한 의무를 수행함을 사명으로 하며, 그 정치적 중립성은 준수된다.\n",
      "  제6조 ① 헌법에 의하여 체결·공포된 조약과 일반적으로 승인된 국제법규는 국내법과 같은 효력을 가진다.\n",
      "②외국인은 국제법과 조약이 정하는 바에 의하여 그 지위가 보장된다.\n",
      "  제7조 ① 공무원은 국민전체에 대한 봉사자이며, 국민에 대하여 책임을 진다.\n",
      "②공무원의 신분과 정치적 중립성은 법률이 정하는 바에 의하여 보장된다.\n",
      "  제8조 ① 정당의 설립은 자유이며, 복수정당제는 보장된다.\n",
      "②정당은 그 목적·조직과 활동이 민주적이어야 하며, 국민의 정치적 의사형성에 참여하는데 필요한 조직을 가져야 한다.\n",
      "③정당은 법률이 정하는 바에 의하여 국가의 보호를 받으며, 국가는 법률이 정하는 바에 의하여 정당운영에 필요한 자금을 보조할 수 있다.\n",
      "④정당의 목적이나 활동이 민주적 기본질서에 위배될 때에는 정부는 헌법재판소에 그 해산을 제소할 수 있고, 정당은 헌법재판소의 심판에 의하여 해산된다.\n",
      "  제9조 국가는 전통문화의 계승·발전과 민족문화의 창달에 노력하여야 한다.\n",
      "\n",
      "       제2장 국민의 권리와 의무\n",
      "  제10조 모든 국민은 인간으로서의 존엄과 가치를 가지며, 행복을 추구할 권리를 가진다. 국가는 개인이 가지는 불가침의 기본적 인권을 확인하고 이를 보장할 의무를 진다.\n",
      "  제11조 ① 모든 국민은 법 앞에 평등하다. 누구든지 성별·종교 또는 사회적 신분에 의하여 정치적·경제적·사회적·문화적 생활의 모든 영역에 있어서 차별을 받지 아니한다.\n",
      "②사회적 특수계급의 제도는 인정되지 아니하며, 어떠한 형태로도 이를 창설할 수 없다.\n",
      "③훈장등의 영전은 이를 받은 자에게만 효력이 있고, 어떠한 특권도 이에 따르지 아니한다.\n",
      "  제12조 ① 모든 국민은 신체의 자유를 가진다. 누구든지 법률에 의하지 아니하고는 체포·구속·압수·수색 또는 심문을 받지 아니하며, 법률과 적법한 절차에 의하지 아니하고는 처벌·보안처분 또는 강제노역을 받지 아니한다.\n",
      "②모든 국민은 고문을 받지 아니하며, 형사상 자기에게 불리한 진술을 강요당하지 아니한다.\n",
      "③체포·구속·압수 또는 수색을 할 때에는 적법한 절차에 따라 검사의 신청에 의하여 법관이 발부한 영장을 제시하여야 한다. 다만, 현행범인인 경우와 장기 3년 이상의 형에 해당하는 죄를 범하고 도피 또는 증거인멸의 염려가 있을 때에는 사후에 영장을 청구할 수 있다.\n",
      "④누구든지 체포 또는 구속을 당한 때에는 즉시 변호인의 조력을 받을 권리를 가진다. 다만, 형사피고인이 스스로 변호인을 구할 수 없을 때에는 법률이 정하는 바에 의하여 국가가 변호인을 붙인다.\n",
      "⑤누구든지 체포 또는 구속의 이유와 변호인의 조력을 받을 권리가 있음을 고지받지 아니하고는 체포 또는 구속을 당하지 아니한다. 체포 또는 구속을 당한 자의 가족등 법률이 정하는 자에게는 그 이유와 일시·장소가 지체없이 통지되어야 한다.\n",
      "⑥누구든지 체포 또는 구속을 당한 때에는 적부의 심사를 법원에 청구할 권리를 가진다.\n",
      "⑦피고인의 자백이 고문·폭행·협박·구속의 부당한 장기화 또는 기망 기타의 방법에 의하여 자의로 진술된 것이 아니라고 인정될 때 또는 정식재판에 있어서 피고인의 자백이 그에게 불리한 유일한 증거일 때에는 이를 유죄의 증거로 삼거나 이를 이유로 처벌할 수 없다.\n",
      "  제13조 ① 모든 국민은 행위시의 법률에 의하여 범죄를 구성하지 아니하는 행위로 소추되지 아니하며, 동일한 범죄에 대하여 거듭 처벌받지 아니한다.\n",
      "②모든 국민은 소급입법에 의하여 참정권의 제한을 받거나 재산권을 박탈당하지 아니한다.\n",
      "③모든 국민은 자기의 행위가 아닌 친족의 행위로 인하여 불이익한 처우를 받지 아니한다.\n",
      "  제14조 모든 국민은 거주·이전의 자유를 가진다.\n",
      "  제15조 모든 국민은 직업선택의 자유를 가진다.\n",
      "  제16조 모든 국민은 주거의 자유를 침해받지 아니한다. 주거에 대한 압수나 수색을 할 때에는 검사의 신청에 의하여 법관이 발부한 영장을 제시하여야 한다.\n",
      "  제17조 모든 국민은 사생활의 비밀과 자유를 침해받지 아니한다.\n",
      "  제18조 모든 국민은 통신의 비밀을 침해받지 아니한다.\n",
      "  제19조 모든 국민은 양심의 자유를 가진다.\n",
      "  제20조 ① 모든 국민은 종교의 자유를 가진다.\n",
      "②국교는 인정되지 아니하며, 종교와 정치는 분리된다.\n",
      "  제21조 ① 모든 국민은 언론·출판의 자유와 집회·결사의 자유를 가진다.\n",
      "②언론·출판에 대한 허가나 검열과 집회·결사에 대한 허가는 인정되지 아니한다.\n",
      "③통신·방송의 시설기준과 신문의 기능을 보장하기 위하여 필요한 사항은 법률로 정한다.\n",
      "④언론·출판은 타인의 명예나 권리 또는 공중도덕이나 사회윤리를 침해하여서는 아니된다. 언론·출판이 타인의 명예나 권리를 침해한 때에는 피해자는 이에 대한 피해의 배상을 청구할 수 있다.\n",
      "  제22조 ① 모든 국민은 학문과 예술의 자유를 가진다.\n",
      "②저작자·발명가·과학기술자와 예술가의 권리는 법률로써 보호한다.\n",
      "  제23조 ① 모든 국민의 재산권은 보장된다. 그 내용과 한계는 법률로 정한다.\n",
      "②재산권의 행사는 공공복리에 적합하도록 하여야 한다.\n",
      "③공공필요에 의한 재산권의 수용·사용 또는 제한 및 그에 대한 보상은 법률로써 하되, 정당한 보상을 지급하여야 한다.\n",
      "  제24조 모든 국민은 법률이 정하는 바에 의하여 선거권을 가진다.\n",
      "  제25조 모든 국민은 법률이 정하는 바에 의하여 공무담임권을 가진다.\n",
      "  제26조 ① 모든 국민은 법률이 정하는 바에 의하여 국가기관에 문서로 청원할 권리를 가진다.\n",
      "②국가는 청원에 대하여 심사할 의무를 진다.\n",
      "  제27조 ① 모든 국민은 헌법과 법률이 정한 법관에 의하여 법률에 의한 재판을 받을 권리를 가진다.\n",
      "②군인 또는 군무원이 아닌 국민은 대한민국의 영역안에서는 중대한 군사상 기밀·초병·초소·유독음식물공급·포로·군용물에 관한 죄중 법률이 정한 경우와 비상계엄이 선포된 경우를 제외하고는 군사법원의 재판을 받지 아니한다.\n",
      "③모든 국민은 신속한 재판을 받을 권리를 가진다. 형사피고인은 상당한 이유가 없는 한 지체없이 공개재판을 받을 권리를 가진다.\n",
      "④형사피고인은 유죄의 판결이 확정될 때까지는 무죄로 추정된다.\n",
      "⑤형사피해자는 법률이 정하는 바에 의하여 당해 사건의 재판절차에서 진술할 수 있다.\n",
      "  제28조 형사피의자 또는 형사피고인으로서 구금되었던 자가 법률이 정하는 불기소처분을 받거나 무죄판결을 받은 때에는 법률이 정하는 바에 의하여 국가에 정당한 보상을 청구할 수 있다.\n",
      "  제29조 ① 공무원의 직무상 불법행위로 손해를 받은 국민은 법률이 정하는 바에 의하여 국가 또는 공공단체에 정당한 배상을 청구할 수 있다. 이 경우 공무원 자신의 책임은 면제되지 아니한다.\n",
      "②군인·군무원·경찰공무원 기타 법률이 정하는 자가 전투·훈련등 직무집행과 관련하여 받은 손해에 대하여는 법률이 정하는 보상외에 국가 또는 공공단체에 공무원의 직무상 불법행위로 인한 배상은 청구할 수 없다.\n",
      "  제30조 타인의 범죄행위로 인하여 생명·신체에 대한 피해를 받은 국민은 법률이 정하는 바에 의하여 국가로부터 구조를 받을 수 있다.\n",
      "  제31조 ① 모든 국민은 능력에 따라 균등하게 교육을 받을 권리를 가진다.\n",
      "②모든 국민은 그 보호하는 자녀에게 적어도 초등교육과 법률이 정하는 교육을 받게 할 의무를 진다.\n",
      "③의무교육은 무상으로 한다.\n",
      "④교육의 자주성·전문성·정치적 중립성 및 대학의 자율성은 법률이 정하는 바에 의하여 보장된다.\n",
      "⑤국가는 평생교육을 진흥하여야 한다.\n",
      "⑥학교교육 및 평생교육을 포함한 교육제도와 그 운영, 교육재정 및 교원의 지위에 관한 기본적인 사항은 법률로 정한다.\n",
      "  제32조 ① 모든 국민은 근로의 권리를 가진다. 국가는 사회적·경제적 방법으로 근로자의 고용의 증진과 적정임금의 보장에 노력하여야 하며, 법률이 정하는 바에 의하여 최저임금제를 시행하여야 한다.\n",
      "②모든 국민은 근로의 의무를 진다. 국가는 근로의 의무의 내용과 조건을 민주주의원칙에 따라 법률로 정한다.\n",
      "③근로조건의 기준은 인간의 존엄성을 보장하도록 법률로 정한다.\n",
      "④여자의 근로는 특별한 보호를 받으며, 고용·임금 및 근로조건에 있어서 부당한 차별을 받지 아니한다.\n",
      "⑤연소자의 근로는 특별한 보호를 받는다.\n",
      "⑥국가유공자·상이군경 및 전몰군경의 유가족은 법률이 정하는 바에 의하여 우선적으로 근로의 기회를 부여받는다.\n",
      "  제33조 ① 근로자는 근로조건의 향상을 위하여 자주적인 단결권·단체교섭권 및 단체행동권을 가진다.\n",
      "②공무원인 근로자는 법률이 정하는 자에 한하여 단결권·단체교섭권 및 단체행동권을 가진다.\n",
      "③법률이 정하는 주요방위산업체에 종사하는 근로자의 단체행동권은 법률이 정하는 바에 의하여 이를 제한하거나 인정하지 아니할 수 있다.\n",
      "  제34조 ① 모든 국민은 인간다운 생활을 할 권리를 가진다.\n",
      "②국가는 사회보장·사회복지의 증진에 노력할 의무를 진다.\n",
      "③국가는 여자의 복지와 권익의 향상을 위하여 노력하여야 한다.\n",
      "④국가는 노인과 청소년의 복지향상을 위한 정책을 실시할 의무를 진다.\n",
      "⑤신체장애자 및 질병·노령 기타의 사유로 생활능력이 없는 국민은 법률이 정하는 바에 의하여 국가의 보호를 받는다.\n",
      "⑥국가는 재해를 예방하고 그 위험으로부터 국민을 보호하기 위하여 노력하여야 한다.\n",
      "  제35조 ① 모든 국민은 건강하고 쾌적한 환경에서 생활할 권리를 가지며, 국가와 국민은 환경보전을 위하여 노력하여야 한다.\n",
      "②환경권의 내용과 행사에 관하여는 법률로 정한다.\n",
      "③국가는 주택개발정책등을 통하여 모든 국민이 쾌적한 주거생활을 할 수 있도록 노력하여야 한다.\n",
      "  제36조 ① 혼인과 가족생활은 개인의 존엄과 양성의 평등을 기초로 성립되고 유지되어야 하며, 국가는 이를 보장한다.\n",
      "②국가는 모성의 보호를 위하여 노력하여야 한다.\n",
      "③모든 국민은 보건에 관하여 국가의 보호를 받는다.\n",
      "  제37조 ① 국민의 자유와 권리는 헌법에 열거되지 아니한 이유로 경시되지 아니한다.\n",
      "②국민의 모든 자유와 권리는 국가안전보장·질서유지 또는 공공복리를 위하여 필요한 경우에 한하여 법률로써 제한할 수 있으며, 제한하는 경우에도 자유와 권리의 본질적인 내용을 침해할 수 없다.\n",
      "  제38조 모든 국민은 법률이 정하는 바에 의하여 납세의 의무를 진다.\n",
      "  제39조 ① 모든 국민은 법률이 정하는 바에 의하여 국방의 의무를 진다.\n",
      "②누구든지 병역의무의 이행으로 인하여 불이익한 처우를 받지 아니한다.\n",
      "\n",
      "       제3장 국회\n",
      "  제40조 입법권은 국회에 속한다.\n",
      "  제41조 ① 국회는 국민의 보통·평등·직접·비밀선거에 의하여 선출된 국회의원으로 구성한다.\n",
      "②국회의원의 수는 법률로 정하되, 200인 이상으로 한다.\n",
      "③국회의원의 선거구와 비례대표제 기타 선거에 관한 사항은 법률로 정한다.\n",
      "  제42조 국회의원의 임기는 4년으로 한다.\n",
      "  제43조 국회의원은 법률이 정하는 직을 겸할 수 없다.\n",
      "  제44조 ① 국회의원은 현행범인인 경우를 제외하고는 회기중 국회의 동의없이 체포 또는 구금되지 아니한다.\n",
      "②국회의원이 회기전에 체포 또는 구금된 때에는 현행범인이 아닌 한 국회의 요구가 있으면 회기중 석방된다.\n",
      "  제45조 국회의원은 국회에서 직무상 행한 발언과 표결에 관하여 국회외에서 책임을 지지 아니한다.\n",
      "  제46조 ① 국회의원은 청렴의 의무가 있다.\n",
      "②국회의원은 국가이익을 우선하여 양심에 따라 직무를 행한다.\n",
      "③국회의원은 그 지위를 남용하여 국가·공공단체 또는 기업체와의 계약이나 그 처분에 의하여 재산상의 권리·이익 또는 직위를 취득하거나 타인을 위하여 그 취득을 알선할 수 없다.\n",
      "  제47조 ① 국회의 정기회는 법률이 정하는 바에 의하여 매년 1회 집회되며, 국회의 임시회는 대통령 또는 국회재적의원 4분의 1 이상의 요구에 의하여 집회된다.\n",
      "②정기회의 회기는 100일을, 임시회의 회기는 30일을 초과할 수 없다.\n",
      "③대통령이 임시회의 집회를 요구할 때에는 기간과 집회요구의 이유를 명시하여야 한다.\n",
      "  제48조 국회는 의장 1인과 부의장 2인을 선출한다.\n",
      "  제49조 국회는 헌법 또는 법률에 특별한 규정이 없는 한 재적의원 과반수의 출석과 출석의원 과반수의 찬성으로 의결한다. 가부동수인 때에는 부결된 것으로 본다.\n",
      "  제50조 ① 국회의 회의는 공개한다. 다만, 출석의원 과반수의 찬성이 있거나 의장이 국가의 안전보장을 위하여 필요하다고 인정할 때에는 공개하지 아니할 수 있다.\n",
      "②공개하지 아니한 회의내용의 공표에 관하여는 법률이 정하는 바에 의한다.\n",
      "  제51조 국회에 제출된 법률안 기타의 의안은 회기중에 의결되지 못한 이유로 폐기되지 아니한다. 다만, 국회의원의 임기가 만료된 때에는 그러하지 아니하다.\n",
      "  제52조 국회의원과 정부는 법률안을 제출할 수 있다.\n",
      "  제53조 ① 국회에서 의결된 법률안은 정부에 이송되어 15일 이내에 대통령이 공포한다.\n",
      "②법률안에 이의가 있을 때에는 대통령은 제1항의 기간내에 이의서를 붙여 국회로 환부하고, 그 재의를 요구할 수 있다. 국회의 폐회중에도 또한 같다.\n",
      "③대통령은 법률안의 일부에 대하여 또는 법률안을 수정하여 재의를 요구할 수 없다.\n",
      "④재의의 요구가 있을 때에는 국회는 재의에 붙이고, 재적의원과반수의 출석과 출석의원 3분의 2 이상의 찬성으로 전과 같은 의결을 하면 그 법률안은 법률로서 확정된다.\n",
      "⑤대통령이 제1항의 기간내에 공포나 재의의 요구를 하지 아니한 때에도 그 법률안은 법률로서 확정된다.\n",
      "⑥대통령은 제4항과 제5항의 규정에 의하여 확정된 법률을 지체없이 공포하여야 한다. 제5항에 의하여 법률이 확정된 후 또는 제4항에 의한 확정법률이 정부에 이송된 후 5일 이내에 대통령이 공포하지 아니할 때에는 국회의장이 이를 공포한다.\n",
      "⑦법률은 특별한 규정이 없는 한 공포한 날로부터 20일을 경과함으로써 효력을 발생한다.\n",
      "  제54조 ① 국회는 국가의 예산안을 심의·확정한다.\n",
      "②정부는 회계연도마다 예산안을 편성하여 회계연도 개시 90일전까지 국회에 제출하고, 국회는 회계연도 개시 30일전까지 이를 의결하여야 한다.\n",
      "③새로운 회계연도가 개시될 때까지 예산안이 의결되지 못한 때에는 정부는 국회에서 예산안이 의결될 때까지 다음의 목적을 위한 경비는 전년도 예산에 준하여 집행할 수 있다.\n",
      "1. 헌법이나 법률에 의하여 설치된 기관 또는 시설의 유지·운영\n",
      "2. 법률상 지출의무의 이행\n",
      "3. 이미 예산으로 승인된 사업의 계속\n",
      "  제55조 ① 한 회계연도를 넘어 계속하여 지출할 필요가 있을 때에는 정부는 연한을 정하여 계속비로서 국회의 의결을 얻어야 한다.\n",
      "②예비비는 총액으로 국회의 의결을 얻어야 한다. 예비비의 지출은 차기국회의 승인을 얻어야 한다.\n",
      "  제56조 정부는 예산에 변경을 가할 필요가 있을 때에는 추가경정예산안을 편성하여 국회에 제출할 수 있다.\n",
      "  제57조 국회는 정부의 동의없이 정부가 제출한 지출예산 각항의 금액을 증가하거나 새 비목을 설치할 수 없다.\n",
      "  제58조 국채를 모집하거나 예산외에 국가의 부담이 될 계약을 체결하려 할 때에는 정부는 미리 국회의 의결을 얻어야 한다.\n",
      "  제59조 조세의 종목과 세율은 법률로 정한다.\n",
      "  제60조 ① 국회는 상호원조 또는 안전보장에 관한 조약, 중요한 국제조직에 관한 조약, 우호통상항해조약, 주권의 제약에 관한 조약, 강화조약, 국가나 국민에게 중대한 재정적 부담을 지우는 조약 또는 입법사항에 관한 조약의 체결·비준에 대한 동의권을 가진다.\n",
      "②국회는 선전포고, 국군의 외국에의 파견 또는 외국군대의 대한민국 영역안에서의 주류에 대한 동의권을 가진다.\n",
      "  제61조 ① 국회는 국정을 감사하거나 특정한 국정사안에 대하여 조사할 수 있으며, 이에 필요한 서류의 제출 또는 증인의 출석과 증언이나 의견의 진술을 요구할 수 있다.\n",
      "②국정감사 및 조사에 관한 절차 기타 필요한 사항은 법률로 정한다.\n",
      "  제62조 ① 국무총리·국무위원 또는 정부위원은 국회나 그 위원회에 출석하여 국정처리상황을 보고하거나 의견을 진술하고 질문에 응답할 수 있다.\n",
      "②국회나 그 위원회의 요구가 있을 때에는 국무총리·국무위원 또는 정부위원은 출석·답변하여야 하며, 국무총리 또는 국무위원이 출석요구를 받은 때에는 국무위원 또는 정부위원으로 하여금 출석·답변하게 할 수 있다.\n",
      "  제63조 ① 국회는 국무총리 또는 국무위원의 해임을 대통령에게 건의할 수 있다.\n",
      "②제1항의 해임건의는 국회재적의원 3분의 1 이상의 발의에 의하여 국회재적의원 과반수의 찬성이 있어야 한다.\n",
      "  제64조 ① 국회는 법률에 저촉되지 아니하는 범위안에서 의사와 내부규율에 관한 규칙을 제정할 수 있다.\n",
      "②국회는 의원의 자격을 심사하며, 의원을 징계할 수 있다.\n",
      "③의원을 제명하려면 국회재적의원 3분의 2 이상의 찬성이 있어야 한다.\n",
      "④제2항과 제3항의 처분에 대하여는 법원에 제소할 수 없다.\n",
      "  제65조 ① 대통령·국무총리·국무위원·행정각부의 장·헌법재판소 재판관·법관·중앙선거관리위원회 위원·감사원장·감사위원 기타 법률이 정한 공무원이 그 직무집행에 있어서 헌법이나 법률을 위배한 때에는 국회는 탄핵의 소추를 의결할 수 있다.\n",
      "②제1항의 탄핵소추는 국회재적의원 3분의 1 이상의 발의가 있어야 하며, 그 의결은 국회재적의원 과반수의 찬성이 있어야 한다. 다만, 대통령에 대한 탄핵소추는 국회재적의원 과반수의 발의와 국회재적의원 3분의 2 이상의 찬성이 있어야 한다.\n",
      "③탄핵소추의 의결을 받은 자는 탄핵심판이 있을 때까지 그 권한행사가 정지된다.\n",
      "④탄핵결정은 공직으로부터 파면함에 그친다. 그러나, 이에 의하여 민사상이나 형사상의 책임이 면제되지는 아니한다.\n",
      "\n",
      "       제4장 정부\n",
      "       제1절 대통령\n",
      "  제66조 ① 대통령은 국가의 원수이며, 외국에 대하여 국가를 대표한다.\n",
      "②대통령은 국가의 독립·영토의 보전·국가의 계속성과 헌법을 수호할 책무를 진다.\n",
      "③대통령은 조국의 평화적 통일을 위한 성실한 의무를 진다.\n",
      "④행정권은 대통령을 수반으로 하는 정부에 속한다.\n",
      "  제67조 ① 대통령은 국민의 보통·평등·직접·비밀선거에 의하여 선출한다.\n",
      "②제1항의 선거에 있어서 최고득표자가 2인 이상인 때에는 국회의 재적의원 과반수가 출석한 공개회의에서 다수표를 얻은 자를 당선자로 한다.\n",
      "③대통령후보자가 1인일 때에는 그 득표수가 선거권자 총수의 3분의 1 이상이 아니면 대통령으로 당선될 수 없다.\n",
      "④대통령으로 선거될 수 있는 자는 국회의원의 피선거권이 있고 선거일 현재 40세에 달하여야 한다.\n",
      "⑤대통령의 선거에 관한 사항은 법률로 정한다.\n",
      "  제68조 ① 대통령의 임기가 만료되는 때에는 임기만료 70일 내지 40일전에 후임자를 선거한다.\n",
      "②대통령이 궐위된 때 또는 대통령 당선자가 사망하거나 판결 기타의 사유로 그 자격을 상실한 때에는 60일 이내에 후임자를 선거한다.\n",
      "  제69조 대통령은 취임에 즈음하여 다음의 선서를 한다.\n",
      "\"나는 헌법을 준수하고 국가를 보위하며 조국의 평화적 통일과 국민의 자유와 복리의 증진 및 민족문화의 창달에 노력하여 대통령으로서의 직책을 성실히 수행할 것을 국민 앞에 엄숙히 선서합니다.\"\n",
      "  제70조 대통령의 임기는 5년으로 하며, 중임할 수 없다.\n",
      "  제71조 대통령이 궐위되거나 사고로 인하여 직무를 수행할 수 없을 때에는 국무총리, 법률이 정한 국무위원의 순서로 그 권한을 대행한다.\n",
      "  제72조 대통령은 필요하다고 인정할 때에는 외교·국방·통일 기타 국가안위에 관한 중요정책을 국민투표에 붙일 수 있다.\n",
      "  제73조 대통령은 조약을 체결·비준하고, 외교사절을 신임·접수 또는 파견하며, 선전포고와 강화를 한다.\n",
      "  제74조 ① 대통령은 헌법과 법률이 정하는 바에 의하여 국군을 통수한다.\n",
      "②국군의 조직과 편성은 법률로 정한다.\n",
      "  제75조 대통령은 법률에서 구체적으로 범위를 정하여 위임받은 사항과 법률을 집행하기 위하여 필요한 사항에 관하여 대통령령을 발할 수 있다.\n",
      "  제76조 ① 대통령은 내우·외환·천재·지변 또는 중대한 재정·경제상의 위기에 있어서 국가의 안전보장 또는 공공의 안녕질서를 유지하기 위하여 긴급한 조치가 필요하고 국회의 집회를 기다릴 여유가 없을 때에 한하여 최소한으로 필요한 재정·경제상의 처분을 하거나 이에 관하여 법률의 효력을 가지는 명령을 발할 수 있다.\n",
      "②대통령은 국가의 안위에 관계되는 중대한 교전상태에 있어서 국가를 보위하기 위하여 긴급한 조치가 필요하고 국회의 집회가 불가능한 때에 한하여 법률의 효력을 가지는 명령을 발할 수 있다.\n",
      "③대통령은 제1항과 제2항의 처분 또는 명령을 한 때에는 지체없이 국회에 보고하여 그 승인을 얻어야 한다.\n",
      "④제3항의 승인을 얻지 못한 때에는 그 처분 또는 명령은 그때부터 효력을 상실한다. 이 경우 그 명령에 의하여 개정 또는 폐지되었던 법률은 그 명령이 승인을 얻지 못한 때부터 당연히 효력을 회복한다.\n",
      "⑤대통령은 제3항과 제4항의 사유를 지체없이 공포하여야 한다.\n",
      "  제77조 ① 대통령은 전시·사변 또는 이에 준하는 국가비상사태에 있어서 병력으로써 군사상의 필요에 응하거나 공공의 안녕질서를 유지할 필요가 있을 때에는 법률이 정하는 바에 의하여 계엄을 선포할 수 있다.\n",
      "②계엄은 비상계엄과 경비계엄으로 한다.\n",
      "③비상계엄이 선포된 때에는 법률이 정하는 바에 의하여 영장제도, 언론·출판·집회·결사의 자유, 정부나 법원의 권한에 관하여 특별한 조치를 할 수 있다.\n",
      "④계엄을 선포한 때에는 대통령은 지체없이 국회에 통고하여야 한다.\n",
      "⑤국회가 재적의원 과반수의 찬성으로 계엄의 해제를 요구한 때에는 대통령은 이를 해제하여야 한다.\n",
      "  제78조 대통령은 헌법과 법률이 정하는 바에 의하여 공무원을 임면한다.\n",
      "  제79조 ① 대통령은 법률이 정하는 바에 의하여 사면·감형 또는 복권을 명할 수 있다.\n",
      "②일반사면을 명하려면 국회의 동의를 얻어야 한다.\n",
      "③사면·감형 및 복권에 관한 사항은 법률로 정한다.\n",
      "  제80조 대통령은 법률이 정하는 바에 의하여 훈장 기타의 영전을 수여한다.\n",
      "  제81조 대통령은 국회에 출석하여 발언하거나 서한으로 의견을 표시할 수 있다.\n",
      "  제82조 대통령의 국법상 행위는 문서로써 하며, 이 문서에는 국무총리와 관계 국무위원이 부서한다. 군사에 관한 것도 또한 같다.\n",
      "  제83조 대통령은 국무총리·국무위원·행정각부의 장 기타 법률이 정하는 공사의 직을 겸할 수 없다.\n",
      "  제84조 대통령은 내란 또는 외환의 죄를 범한 경우를 제외하고는 재직중 형사상의 소추를 받지 아니한다.\n",
      "  제85조 전직대통령의 신분과 예우에 관하여는 법률로 정한다.\n",
      "       제2절 행정부\n",
      "       제1관 국무총리와 국무위원\n",
      "  제86조 ① 국무총리는 국회의 동의를 얻어 대통령이 임명한다.\n",
      "②국무총리는 대통령을 보좌하며, 행정에 관하여 대통령의 명을 받아 행정각부를 통할한다.\n",
      "③군인은 현역을 면한 후가 아니면 국무총리로 임명될 수 없다.\n",
      "  제87조 ① 국무위원은 국무총리의 제청으로 대통령이 임명한다.\n",
      "②국무위원은 국정에 관하여 대통령을 보좌하며, 국무회의의 구성원으로서 국정을 심의한다.\n",
      "③국무총리는 국무위원의 해임을 대통령에게 건의할 수 있다.\n",
      "④군인은 현역을 면한 후가 아니면 국무위원으로 임명될 수 없다.\n",
      "       제2관 국무회의\n",
      "  제88조 ① 국무회의는 정부의 권한에 속하는 중요한 정책을 심의한다.\n",
      "②국무회의는 대통령·국무총리와 15인 이상 30인 이하의 국무위원으로 구성한다.\n",
      "③대통령은 국무회의의 의장이 되고, 국무총리는 부의장이 된다.\n",
      "  제89조 다음 사항은 국무회의의 심의를 거쳐야 한다.\n",
      "1. 국정의 기본계획과 정부의 일반정책\n",
      "2. 선전·강화 기타 중요한 대외정책\n",
      "3. 헌법개정안·국민투표안·조약안·법률안 및 대통령령안\n",
      "4. 예산안·결산·국유재산처분의 기본계획·국가의 부담이 될 계약 기타 재정에 관한 중요사항\n",
      "5. 대통령의 긴급명령·긴급재정경제처분 및 명령 또는 계엄과 그 해제\n",
      "6. 군사에 관한 중요사항\n",
      "7. 국회의 임시회 집회의 요구\n",
      "8. 영전수여\n",
      "9. 사면·감형과 복권\n",
      "10. 행정각부간의 권한의 획정\n",
      "11. 정부안의 권한의 위임 또는 배정에 관한 기본계획\n",
      "12. 국정처리상황의 평가·분석\n",
      "13. 행정각부의 중요한 정책의 수립과 조정\n",
      "14. 정당해산의 제소\n",
      "15. 정부에 제출 또는 회부된 정부의 정책에 관계되는 청원의 심사\n",
      "16. 검찰총장·합동참모의장·각군참모총장·국립대학교총장·대사 기타 법률이 정한 공무원과 국영기업체관리자의 임명\n",
      "17. 기타 대통령·국무총리 또는 국무위원이 제출한 사항\n",
      "  제90조 ① 국정의 중요한 사항에 관한 대통령의 자문에 응하기 위하여 국가원로로 구성되는 국가원로자문회의를 둘 수 있다.\n",
      "②국가원로자문회의의 의장은 직전대통령이 된다. 다만, 직전대통령이 없을 때에는 대통령이 지명한다.\n",
      "③국가원로자문회의의 조직·직무범위 기타 필요한 사항은 법률로 정한다.\n",
      "  제91조 ① 국가안전보장에 관련되는 대외정책·군사정책과 국내정책의 수립에 관하여 국무회의의 심의에 앞서 대통령의 자문에 응하기 위하여 국가안전보장회의를 둔다.\n",
      "②국가안전보장회의는 대통령이 주재한다.\n",
      "③국가안전보장회의의 조직·직무범위 기타 필요한 사항은 법률로 정한다.\n",
      "  제92조 ① 평화통일정책의 수립에 관한 대통령의 자문에 응하기 위하여 민주평화통일자문회의를 둘 수 있다.\n",
      "②민주평화통일자문회의의 조직·직무범위 기타 필요한 사항은 법률로 정한다.\n",
      "  제93조 ① 국민경제의 발전을 위한 중요정책의 수립에 관하여 대통령의 자문에 응하기 위하여 국민경제자문회의를 둘 수 있다.\n",
      "②국민경제자문회의의 조직·직무범위 기타 필요한 사항은 법률로 정한다.\n",
      "       제3관 행정각부\n",
      "  제94조 행정각부의 장은 국무위원 중에서 국무총리의 제청으로 대통령이 임명한다.\n",
      "  제95조 국무총리 또는 행정각부의 장은 소관사무에 관하여 법률이나 대통령령의 위임 또는 직권으로 총리령 또는 부령을 발할 수 있다.\n",
      "  제96조 행정각부의 설치·조직과 직무범위는 법률로 정한다.\n",
      "       제4관 감사원\n",
      "  제97조 국가의 세입·세출의 결산, 국가 및 법률이 정한 단체의 회계검사와 행정기관 및 공무원의 직무에 관한 감찰을 하기 위하여 대통령 소속하에 감사원을 둔다.\n",
      "  제98조 ① 감사원은 원장을 포함한 5인 이상 11인 이하의 감사위원으로 구성한다.\n",
      "②원장은 국회의 동의를 얻어 대통령이 임명하고, 그 임기는 4년으로 하며, 1차에 한하여 중임할 수 있다.\n",
      "③감사위원은 원장의 제청으로 대통령이 임명하고, 그 임기는 4년으로 하며, 1차에 한하여 중임할 수 있다.\n",
      "  제99조 감사원은 세입·세출의 결산을 매년 검사하여 대통령과 차년도국회에 그 결과를 보고하여야 한다.\n",
      "  제100조 감사원의 조직·직무범위·감사위원의 자격·감사대상공무원의 범위 기타 필요한 사항은 법률로 정한다.\n",
      "\n",
      "       제5장 법원\n",
      "  제101조 ① 사법권은 법관으로 구성된 법원에 속한다.\n",
      "②법원은 최고법원인 대법원과 각급법원으로 조직된다.\n",
      "③법관의 자격은 법률로 정한다.\n",
      "  제102조 ① 대법원에 부를 둘 수 있다.\n",
      "②대법원에 대법관을 둔다. 다만, 법률이 정하는 바에 의하여 대법관이 아닌 법관을 둘 수 있다.\n",
      "③대법원과 각급법원의 조직은 법률로 정한다.\n",
      "  제103조 법관은 헌법과 법률에 의하여 그 양심에 따라 독립하여 심판한다.\n",
      "  제104조 ① 대법원장은 국회의 동의를 얻어 대통령이 임명한다.\n",
      "②대법관은 대법원장의 제청으로 국회의 동의를 얻어 대통령이 임명한다.\n",
      "③대법원장과 대법관이 아닌 법관은 대법관회의의 동의를 얻어 대법원장이 임명한다.\n",
      "  제105조 ① 대법원장의 임기는 6년으로 하며, 중임할 수 없다.\n",
      "②대법관의 임기는 6년으로 하며, 법률이 정하는 바에 의하여 연임할 수 있다.\n",
      "③대법원장과 대법관이 아닌 법관의 임기는 10년으로 하며, 법률이 정하는 바에 의하여 연임할 수 있다.\n",
      "④법관의 정년은 법률로 정한다.\n",
      "  제106조 ① 법관은 탄핵 또는 금고 이상의 형의 선고에 의하지 아니하고는 파면되지 아니하며, 징계처분에 의하지 아니하고는 정직·감봉 기타 불리한 처분을 받지 아니한다.\n",
      "②법관이 중대한 심신상의 장해로 직무를 수행할 수 없을 때에는 법률이 정하는 바에 의하여 퇴직하게 할 수 있다.\n",
      "  제107조 ① 법률이 헌법에 위반되는 여부가 재판의 전제가 된 경우에는 법원은 헌법재판소에 제청하여 그 심판에 의하여 재판한다.\n",
      "②명령·규칙 또는 처분이 헌법이나 법률에 위반되는 여부가 재판의 전제가 된 경우에는 대법원은 이를 최종적으로 심사할 권한을 가진다.\n",
      "③재판의 전심절차로서 행정심판을 할 수 있다. 행정심판의 절차는 법률로 정하되, 사법절차가 준용되어야 한다.\n",
      "  제108조 대법원은 법률에 저촉되지 아니하는 범위안에서 소송에 관한 절차, 법원의 내부규율과 사무처리에 관한 규칙을 제정할 수 있다.\n",
      "  제109조 재판의 심리와 판결은 공개한다. 다만, 심리는 국가의 안전보장 또는 안녕질서를 방해하거나 선량한 풍속을 해할 염려가 있을 때에는 법원의 결정으로 공개하지 아니할 수 있다.\n",
      "  제110조 ① 군사재판을 관할하기 위하여 특별법원으로서 군사법원을 둘 수 있다.\n",
      "②군사법원의 상고심은 대법원에서 관할한다.\n",
      "③군사법원의 조직·권한 및 재판관의 자격은 법률로 정한다.\n",
      "④비상계엄하의 군사재판은 군인·군무원의 범죄나 군사에 관한 간첩죄의 경우와 초병·초소·유독음식물공급·포로에 관한 죄중 법률이 정한 경우에 한하여 단심으로 할 수 있다. 다만, 사형을 선고한 경우에는 그러하지 아니하다.\n",
      "\n",
      "       제6장 헌법재판소\n",
      "  제111조 ① 헌법재판소는 다음 사항을 관장한다.\n",
      "1. 법원의 제청에 의한 법률의 위헌여부 심판\n",
      "2. 탄핵의 심판\n",
      "3. 정당의 해산 심판\n",
      "4. 국가기관 상호간, 국가기관과 지방자치단체간 및 지방자치단체 상호간의 권한쟁의에 관한 심판\n",
      "5. 법률이 정하는 헌법소원에 관한 심판\n",
      "②헌법재판소는 법관의 자격을 가진 9인의 재판관으로 구성하며, 재판관은 대통령이 임명한다.\n",
      "③제2항의 재판관중 3인은 국회에서 선출하는 자를, 3인은 대법원장이 지명하는 자를 임명한다.\n",
      "④헌법재판소의 장은 국회의 동의를 얻어 재판관중에서 대통령이 임명한다.\n",
      "  제112조 ① 헌법재판소 재판관의 임기는 6년으로 하며, 법률이 정하는 바에 의하여 연임할 수 있다.\n",
      "②헌법재판소 재판관은 정당에 가입하거나 정치에 관여할 수 없다.\n",
      "③헌법재판소 재판관은 탄핵 또는 금고 이상의 형의 선고에 의하지 아니하고는 파면되지 아니한다.\n",
      "  제113조 ① 헌법재판소에서 법률의 위헌결정, 탄핵의 결정, 정당해산의 결정 또는 헌법소원에 관한 인용결정을 할 때에는 재판관 6인 이상의 찬성이 있어야 한다.\n",
      "②헌법재판소는 법률에 저촉되지 아니하는 범위안에서 심판에 관한 절차, 내부규율과 사무처리에 관한 규칙을 제정할 수 있다.\n",
      "③헌법재판소의 조직과 운영 기타 필요한 사항은 법률로 정한다.\n",
      "\n",
      "       제7장 선거관리\n",
      "  제114조 ① 선거와 국민투표의 공정한 관리 및 정당에 관한 사무를 처리하기 위하여 선거관리위원회를 둔다.\n",
      "②중앙선거관리위원회는 대통령이 임명하는 3인, 국회에서 선출하는 3인과 대법원장이 지명하는 3인의 위원으로 구성한다. 위원장은 위원중에서 호선한다.\n",
      "③위원의 임기는 6년으로 한다.\n",
      "④위원은 정당에 가입하거나 정치에 관여할 수 없다.\n",
      "⑤위원은 탄핵 또는 금고 이상의 형의 선고에 의하지 아니하고는 파면되지 아니한다.\n",
      "⑥중앙선거관리위원회는 법령의 범위안에서 선거관리·국민투표관리 또는 정당사무에 관한 규칙을 제정할 수 있으며, 법률에 저촉되지 아니하는 범위안에서 내부규율에 관한 규칙을 제정할 수 있다.\n",
      "⑦각급 선거관리위원회의 조직·직무범위 기타 필요한 사항은 법률로 정한다.\n",
      "  제115조 ① 각급 선거관리위원회는 선거인명부의 작성등 선거사무와 국민투표사무에 관하여 관계 행정기관에 필요한 지시를 할 수 있다.\n",
      "②제1항의 지시를 받은 당해 행정기관은 이에 응하여야 한다.\n",
      "  제116조 ① 선거운동은 각급 선거관리위원회의 관리하에 법률이 정하는 범위안에서 하되, 균등한 기회가 보장되어야 한다.\n",
      "②선거에 관한 경비는 법률이 정하는 경우를 제외하고는 정당 또는 후보자에게 부담시킬 수 없다.\n",
      "\n",
      "       제8장 지방자치\n",
      "  제117조 ① 지방자치단체는 주민의 복리에 관한 사무를 처리하고 재산을 관리하며, 법령의 범위안에서 자치에 관한 규정을 제정할 수 있다.\n",
      "②지방자치단체의 종류는 법률로 정한다.\n",
      "  제118조 ① 지방자치단체에 의회를 둔다.\n",
      "②지방의회의 조직·권한·의원선거와 지방자치단체의 장의 선임방법 기타 지방자치단체의 조직과 운영에 관한 사항은 법률로 정한다.\n",
      "\n",
      "       제9장 경제\n",
      "  제119조 ① 대한민국의 경제질서는 개인과 기업의 경제상의 자유와 창의를 존중함을 기본으로 한다.\n",
      "②국가는 균형있는 국민경제의 성장 및 안정과 적정한 소득의 분배를 유지하고, 시장의 지배와 경제력의 남용을 방지하며, 경제주체간의 조화를 통한 경제의 민주화를 위하여 경제에 관한 규제와 조정을 할 수 있다.\n",
      "  제120조 ① 광물 기타 중요한 지하자원·수산자원·수력과 경제상 이용할 수 있는 자연력은 법률이 정하는 바에 의하여 일정한 기간 그 채취·개발 또는 이용을 특허할 수 있다.\n",
      "②국토와 자원은 국가의 보호를 받으며, 국가는 그 균형있는 개발과 이용을 위하여 필요한 계획을 수립한다.\n",
      "  제121조 ① 국가는 농지에 관하여 경자유전의 원칙이 달성될 수 있도록 노력하여야 하며, 농지의 소작제도는 금지된다.\n",
      "②농업생산성의 제고와 농지의 합리적인 이용을 위하거나 불가피한 사정으로 발생하는 농지의 임대차와 위탁경영은 법률이 정하는 바에 의하여 인정된다.\n",
      "  제122조 국가는 국민 모두의 생산 및 생활의 기반이 되는 국토의 효율적이고 균형있는 이용·개발과 보전을 위하여 법률이 정하는 바에 의하여 그에 관한 필요한 제한과 의무를 과할 수 있다.\n",
      "  제123조 ① 국가는 농업 및 어업을 보호·육성하기 위하여 농·어촌종합개발과 그 지원등 필요한 계획을 수립·시행하여야 한다.\n",
      "②국가는 지역간의 균형있는 발전을 위하여 지역경제를 육성할 의무를 진다.\n",
      "③국가는 중소기업을 보호·육성하여야 한다.\n",
      "④국가는 농수산물의 수급균형과 유통구조의 개선에 노력하여 가격안정을 도모함으로써 농·어민의 이익을 보호한다.\n",
      "⑤국가는 농·어민과 중소기업의 자조조직을 육성하여야 하며, 그 자율적 활동과 발전을 보장한다.\n",
      "  제124조 국가는 건전한 소비행위를 계도하고 생산품의 품질향상을 촉구하기 위한 소비자보호운동을 법률이 정하는 바에 의하여 보장한다.\n",
      "  제125조 국가는 대외무역을 육성하며, 이를 규제·조정할 수 있다.\n",
      "  제126조 국방상 또는 국민경제상 긴절한 필요로 인하여 법률이 정하는 경우를 제외하고는, 사영기업을 국유 또는 공유로 이전하거나 그 경영을 통제 또는 관리할 수 없다.\n",
      "  제127조 ① 국가는 과학기술의 혁신과 정보 및 인력의 개발을 통하여 국민경제의 발전에 노력하여야 한다.\n",
      "②국가는 국가표준제도를 확립한다.\n",
      "③대통령은 제1항의 목적을 달성하기 위하여 필요한 자문기구를 둘 수 있다.\n",
      "       제10장 헌법개정\n",
      "  제128조 ① 헌법개정은 국회재적의원 과반수 또는 대통령의 발의로 제안된다.\n",
      "②대통령의 임기연장 또는 중임변경을 위한 헌법개정은 그 헌법개정 제안 당시의 대통령에 대하여는 효력이 없다.\n",
      "  제129조 제안된 헌법개정안은 대통령이 20일 이상의 기간 이를 공고하여야 한다.\n",
      "  제130조 ① 국회는 헌법개정안이 공고된 날로부터 60일 이내에 의결하여야 하며, 국회의 의결은 재적의원 3분의 2 이상의 찬성을 얻어야 한다.\n",
      "②헌법개정안은 국회가 의결한 후 30일 이내에 국민투표에 붙여 국회의원선거권자 과반수의 투표와 투표자 과반수의 찬성을 얻어야 한다.\n",
      "③헌법개정안이 제2항의 찬성을 얻은 때에는 헌법개정은 확정되며, 대통령은 즉시 이를 공포하여야 한다.\n",
      "\n",
      " 펼침  부칙 <헌법 제10호, 1987.10.29.>  부칙보기\n",
      "\n",
      "제1조 이 헌법은 1988년 2월 25일부터 시행한다. 다만, 이 헌법을 시행하기 위하여 필요한 법률의 제정·개정과 이 헌법에 의한 대통령 및 국회의원의 선거 기타 이 헌법시행에 관한 준비는 이 헌법시행 전에 할 수 있다.\n",
      "제2조 ①이 헌법에 의한 최초의 대통령선거는 이 헌법시행일 40일 전까지 실시한다.\n",
      "②이 헌법에 의한 최초의 대통령의 임기는 이 헌법시행일로부터 개시한다.\n",
      "제3조 ①이 헌법에 의한 최초의 국회의원선거는 이 헌법공포일로부터 6월 이내에 실시하며, 이 헌법에 의하여 선출된 최초의 국회의원의 임기는 국회의원선거후 이 헌법에 의한 국회의 최초의 집회일로부터 개시한다.\n",
      "②이 헌법공포 당시의 국회의원의 임기는 제1항에 의한 국회의 최초의 집회일 전일까지로 한다.\n",
      "제4조 ①이 헌법시행 당시의 공무원과 정부가 임명한 기업체의 임원은 이 헌법에 의하여 임명된 것으로 본다. 다만, 이 헌법에 의하여 선임방법이나 임명권자가 변경된 공무원과 대법원장 및 감사원장은 이 헌법에 의하여 후임자가 선임될 때까지 그 직무를 행하며, 이 경우 전임자인 공무원의 임기는 후임자가 선임되는 전일까지로 한다.\n",
      "②이 헌법시행 당시의 대법원장과 대법원판사가 아닌 법관은 제1항 단서의 규정에 불구하고 이 헌법에 의하여 임명된 것으로 본다.\n",
      "③이 헌법중 공무원의 임기 또는 중임제한에 관한 규정은 이 헌법에 의하여 그 공무원이 최초로 선출 또는 임명된 때로부터 적용한다.\n",
      "제5조 이 헌법시행 당시의 법령과 조약은 이 헌법에 위배되지 아니하는 한 그 효력을 지속한다.\n",
      "제6조 이 헌법시행 당시에 이 헌법에 의하여 새로 설치될 기관의 권한에 속하는 직무를 행하고 있는 기관은 이 헌법에 의하여 새로운 기관이 설치될 때까지 존속하며 그 직무를 행한다.\n",
      "\n"
     ]
    }
   ],
   "source": [
    "c = kolaw.open(kolaw.fileids()[0]).read()\n",
    "print(c)"
   ]
  },
  {
   "cell_type": "code",
   "execution_count": 4,
   "metadata": {
    "pycharm": {
     "name": "#%%\n"
    }
   },
   "outputs": [
    {
     "data": {
      "text/plain": [
       "['1809896.txt',\n",
       " '1809897.txt',\n",
       " '1809895.txt',\n",
       " '1809894.txt',\n",
       " '1809890.txt',\n",
       " '1809891.txt',\n",
       " '1809893.txt',\n",
       " '1809892.txt',\n",
       " '1809899.txt',\n",
       " '1809898.txt']"
      ]
     },
     "execution_count": 4,
     "metadata": {},
     "output_type": "execute_result"
    }
   ],
   "source": [
    "from konlpy.corpus import kobill\n",
    "kobill.fileids()"
   ]
  },
  {
   "cell_type": "code",
   "execution_count": 5,
   "metadata": {
    "pycharm": {
     "name": "#%%\n"
    }
   },
   "outputs": [
    {
     "name": "stdout",
     "output_type": "stream",
     "text": [
      "고등교육법 일부개정법률안\n",
      "\n",
      "(안상수의원 대표발의 )\n",
      "\n",
      " 의 안\n",
      " 번 호\n",
      "\n",
      "9894\n",
      "\n",
      "발의연월일 : 2010.  11.  15.\n",
      "\n",
      "발  의  자 : 안상수․김정훈․원희목 \n",
      "\n",
      "강석호․서상기․나성린 \n",
      "\n",
      "권영진․이춘식․정영희 \n",
      "\n",
      "이애주․안형환․백성운 \n",
      "\n",
      "김금래 의원(13인)\n",
      "\n",
      "제안이유 및 주요내용\n",
      "\n",
      "  현재 간호사의 경우 전문대학 졸업 또는 대학 졸업에 상관없이 면\n",
      "\n",
      "허증을 취득할 수 있지만, 학위의 종류가 전문학사이기 때문에 학사학\n",
      "\n",
      "위를 취득하기 위하여 87.2%가 별도로 학사학위 교육과정을 이수하고 \n",
      "\n",
      "있는 실정임.\n",
      "\n",
      "  이러한 4년제 간호 교육의 필요성과 선진 각국의 경향을 고려하고 \n",
      "\n",
      "국민에 대한 보다 나은 의료 서비스를 제공하기 위하여 대통령령이 \n",
      "\n",
      "정하는 일정한 기준을 충족하는 간호과에 대해서는 수업연한을 4년으\n",
      "\n",
      "로 하고, 수여하는 학위의 종류를 학사학위로 하도록 함(안 제50조의3 \n",
      "\n",
      "신설).\n",
      "\n",
      "- 1 -\n",
      "\n",
      "\f법률  제        호\n",
      "\n",
      "고등교육법 일부개정법률안\n",
      "\n",
      "고등교육법 일부를 다음과 같이 개정한다.\n",
      "\n",
      "제50조의3을 다음과 같이 신설한다.\n",
      "\n",
      "제50조의3(간호과의 수업연한 및 학위에 관한 특례) ① 대통령령이 정\n",
      "\n",
      "하는 기준을 충족하는 간호과의 수업연한은 4년으로 한다.\n",
      "\n",
      "  ② 제1항의 간호과에서 학칙이 정하는 과정을 이수한 자에 대하여\n",
      "\n",
      "는 학사학위를 수여한다.\n",
      "\n",
      "  ③ 제2항의 학위의 종류 및 수여에 관하여 필요한 사항은 대통령령\n",
      "\n",
      "으로 정한다.\n",
      "\n",
      "부      칙\n",
      "\n",
      "① 이 법은 공포 후 6개월이 경과한 날부터 시행한다.\n",
      "\n",
      "② 이 법 시행 당시 수업연한이 4년으로 된 간호과에 재학 중인 자에 \n",
      "\n",
      "대해서는 본인의 신청에 의하여 종전의 수업연한 및 학위에 관한 규\n",
      "\n",
      "정을 적용할 수 있다.\n",
      "\n",
      "- 3 -\n",
      "\n",
      "\f신·구조문대비표\n",
      "\n",
      "현      행\n",
      "\n",
      "개   정   안\n",
      "\n",
      "  <신  설>\n",
      "\n",
      "제50조의3(간호과의 수업연한 및 \n",
      "\n",
      "학위에 관한 특례) ① 대통령\n",
      "\n",
      "령이 정하는 기준을 충족하는 \n",
      "\n",
      "간호과의 수업연한은 4년으로 \n",
      "\n",
      "한다.\n",
      "\n",
      "  ② 제1항의 간호과에서 학칙이 \n",
      "\n",
      "정하는 과정을 이수한 자에 대\n",
      "\n",
      "하여는 학사학위를 수여한다.\n",
      "\n",
      "  ③ 제2항의 학위의 종류 및 수\n",
      "\n",
      "여에 관하여 필요한 사항은 대\n",
      "\n",
      "통령령으로 정한다.\n",
      "\n",
      "- 5 -\n",
      "\n",
      "\f\n"
     ]
    }
   ],
   "source": [
    "c = kobill.open(kobill.fileids()[3]).read()\n",
    "print(c)"
   ]
  },
  {
   "cell_type": "code",
   "execution_count": 6,
   "metadata": {
    "pycharm": {
     "name": "#%%\n"
    }
   },
   "outputs": [],
   "source": [
    "# prob\n",
    "_main_ = kolaw.open(kolaw.fileids()[0]).read()"
   ]
  },
  {
   "cell_type": "code",
   "execution_count": 7,
   "metadata": {
    "pycharm": {
     "name": "#%%\n"
    }
   },
   "outputs": [],
   "source": [
    "from konlpy.tag import Hannanum, Kkma, Komoran, Okt"
   ]
  },
  {
   "cell_type": "code",
   "execution_count": 8,
   "metadata": {
    "pycharm": {
     "name": "#%%\n"
    }
   },
   "outputs": [],
   "source": [
    "han = Hannanum()\n",
    "_main_noun=han.nouns(_main_)\n",
    "_main_morphs=han.morphs(_main_)\n",
    "_main_pos=han.pos(_main_)"
   ]
  },
  {
   "cell_type": "code",
   "execution_count": 9,
   "metadata": {
    "pycharm": {
     "name": "#%%\n"
    }
   },
   "outputs": [
    {
     "name": "stdout",
     "output_type": "stream",
     "text": [
      "['대한민국헌법', '유구', '역사', '전통', '빛', '우리', '대한국민', '3·1운동', '건립', '대한민국임시정부']\n",
      "['대한민국헌법', '유구', '하', 'ㄴ', '역사', '와', '전통', '에', '빛', '나는']\n",
      "[('대한민국헌법', 'N'), ('유구', 'N'), ('하', 'X'), ('ㄴ', 'E'), ('역사', 'N'), ('와', 'J'), ('전통', 'N'), ('에', 'J'), ('빛', 'N'), ('나는', 'J')]\n"
     ]
    }
   ],
   "source": [
    "print(_main_noun[:10])\n",
    "print(_main_morphs[:10])\n",
    "print(_main_pos[:10])"
   ]
  },
  {
   "cell_type": "code",
   "execution_count": 10,
   "metadata": {
    "pycharm": {
     "name": "#%%\n"
    }
   },
   "outputs": [],
   "source": [
    "okt=Okt()\n",
    "_main_okt_pos=okt.pos(_main_)"
   ]
  },
  {
   "cell_type": "code",
   "execution_count": 11,
   "metadata": {
    "pycharm": {
     "name": "#%%\n"
    }
   },
   "outputs": [
    {
     "name": "stdout",
     "output_type": "stream",
     "text": [
      "[('확고히', 'Adjective'), ('있어서', 'Adjective'), ('균등히', 'Adjective'), ('균등한', 'Adjective'), ('영원히', 'Adjective'), ('의하여', 'Adjective'), ('있고', 'Adjective'), ('의하여', 'Adjective'), ('신성한', 'Adjective'), ('의하여', 'Adjective')]\n"
     ]
    }
   ],
   "source": [
    "_adjectives = [i for i in _main_okt_pos if i[-1]=='Adjective']\n",
    "print(_adjectives[:10])"
   ]
  },
  {
   "cell_type": "code",
   "execution_count": 12,
   "metadata": {
    "pycharm": {
     "name": "#%%\n"
    }
   },
   "outputs": [],
   "source": [
    "from nltk import Text\n",
    "\n",
    "import matplotlib.pyplot as plt\n",
    "import matplotlib\n",
    "matplotlib.rcParams['font.family'] = 'AppleGothic'\n",
    "matplotlib.rcParams['axes.unicode_minus'] = False"
   ]
  },
  {
   "cell_type": "code",
   "execution_count": 13,
   "metadata": {
    "pycharm": {
     "name": "#%%\n"
    }
   },
   "outputs": [],
   "source": [
    "my=[n for n in okt.nouns(c) if len(n) >= 2]"
   ]
  },
  {
   "cell_type": "code",
   "execution_count": 14,
   "metadata": {
    "pycharm": {
     "name": "#%%\n"
    }
   },
   "outputs": [
    {
     "data": {
      "image/png": "[encoded data removed]",
      "text/plain": [
       "<Figure size 640x480 with 1 Axes>"
      ]
     },
     "metadata": {},
     "output_type": "display_data"
    }
   ],
   "source": [
    "txtLaw = Text(my)\n",
    "txtLaw.plot(30)\n",
    "plt.show()"
   ]
  },
  {
   "cell_type": "code",
   "execution_count": null,
   "outputs": [],
   "source": [
    "txtLaw.vocab()"
   ],
   "metadata": {
    "collapsed": false,
    "pycharm": {
     "name": "#%%\n"
    }
   }
  },
  {
   "cell_type": "code",
   "execution_count": null,
   "outputs": [],
   "source": [
    "from wordcloud import WordCloud\n",
    "font_path = '/System/Library/Fonts/Supplemental/AppleGothic.ttf'\n",
    "\n",
    "wc = WordCloud(font_path=font_path,\n",
    "               width=1000,\n",
    "               height=600,\n",
    "               background_color='white')\n",
    "\n",
    "wc.generate_from_frequencies(txtLaw.vocab())\n",
    "# wc.generate_from_text() => for raw_text\n",
    "plt.figure(figsize=(12,6),dpi=100)\n",
    "plt.axis(\"off\")\n",
    "plt.imshow(wc, interpolation=\"bilinear\")\n",
    "plt.tight_layout()\n",
    "plt.show()"
   ],
   "metadata": {
    "collapsed": false,
    "pycharm": {
     "name": "#%%\n"
    }
   }
  },
  {
   "cell_type": "code",
   "execution_count": null,
   "outputs": [],
   "source": [
    "from PIL import Image"
   ],
   "metadata": {
    "collapsed": false,
    "pycharm": {
     "name": "#%%\n"
    }
   }
  },
  {
   "cell_type": "code",
   "execution_count": null,
   "outputs": [],
   "source": [
    "Image.open('cloud.png')"
   ],
   "metadata": {
    "collapsed": false,
    "pycharm": {
     "name": "#%%\n"
    }
   }
  },
  {
   "cell_type": "code",
   "execution_count": null,
   "outputs": [],
   "source": [
    "cMask = np.array(Image.open('cloud.png'))"
   ],
   "metadata": {
    "collapsed": false,
    "pycharm": {
     "name": "#%%\n"
    }
   }
  },
  {
   "cell_type": "code",
   "execution_count": null,
   "outputs": [],
   "source": [
    "# mask 0,255 int arr\n",
    "wc = WordCloud(font_path=font_path,\n",
    "               width=1000,\n",
    "               height=600,\n",
    "               mask=cMask,\n",
    "               background_color='white')\n",
    "\n",
    "wc.generate_from_frequencies(txtLaw.vocab())\n",
    "# wc.generate_from_text() => for raw_text\n",
    "plt.figure(figsize=(12,6),dpi=100)\n",
    "plt.axis(\"off\")\n",
    "plt.imshow(wc, interpolation=\"bilinear\")\n",
    "plt.tight_layout()\n",
    "plt.show()"
   ],
   "metadata": {
    "collapsed": false,
    "pycharm": {
     "name": "#%%\n"
    }
   }
  },
  {
   "cell_type": "code",
   "execution_count": null,
   "outputs": [],
   "source": [
    "!pwd | pbcopy"
   ],
   "metadata": {
    "collapsed": false,
    "pycharm": {
     "name": "#%%\n"
    }
   }
  },
  {
   "cell_type": "code",
   "execution_count": null,
   "outputs": [],
   "source": [],
   "metadata": {
    "collapsed": false,
    "pycharm": {
     "name": "#%%\n"
    }
   }
  },
  {
   "cell_type": "code",
   "execution_count": 28,
   "metadata": {},
   "outputs": [],
   "source": [
    "!pwd | pbcopy"
   ]
  },
  {
   "cell_type": "code",
   "execution_count": null,
   "metadata": {},
   "outputs": [],
   "source": []
  }
 ],
 "metadata": {
  "kernelspec": {
   "display_name": "deep_learning",
   "language": "python",
   "name": "python3"
  },
  "language_info": {
   "codemirror_mode": {
    "name": "ipython",
    "version": 3
   },
   "file_extension": ".py",
   "mimetype": "text/x-python",
   "name": "python",
   "nbconvert_exporter": "python",
   "pygments_lexer": "ipython3",
   "version": "3.9.12"
  },
  "orig_nbformat": 4,
  "vscode": {
   "interpreter": {
    "hash": "5fedde54ce020962bd3c30003bddb8a1c5bd9c5a066c739d1bc484f734442d14"
   }
  }
 },
 "nbformat": 4,
 "nbformat_minor": 2
}