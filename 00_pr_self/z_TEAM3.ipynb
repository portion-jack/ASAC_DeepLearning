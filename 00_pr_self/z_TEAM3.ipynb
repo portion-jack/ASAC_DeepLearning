{
 "cells": [
  {
   "cell_type": "code",
   "execution_count": null,
   "metadata": {},
   "outputs": [],
   "source": [
    "import matplotlib.pyplot as plt\n",
    "import pandas as pd\n",
    "import seaborn as sns\n",
    "\n",
    "from sklearn.metrics import accuracy_score, f1_score, confusion_matrix"
   ]
  },
  {
   "cell_type": "code",
   "execution_count": null,
   "metadata": {},
   "outputs": [],
   "source": [
    "df_raw=pd.read_csv('../raw_data/titanic.csv',index_col=0)\n",
    "df = df_raw.copy()\n",
    "\n",
    "df['Age'].fillna(df['Age'].mean(),inplace=True)\n",
    "\n",
    "df_main=df.loc[:,['Fare','Sex','Pclass','Age','Survived']]\n",
    "\n",
    "data = df_main.iloc[:,:-1]\n",
    "target = df_main.iloc[:,-1]"
   ]
  },
  {
   "cell_type": "code",
   "execution_count": null,
   "metadata": {},
   "outputs": [],
   "source": [
    "from sklearn.preprocessing import LabelEncoder\n",
    "lbe_sex = LabelEncoder()\n",
    "data['Sex']=lbe_sex.fit_transform(data['Sex'])"
   ]
  },
  {
   "cell_type": "code",
   "execution_count": null,
   "metadata": {},
   "outputs": [],
   "source": [
    "from sklearn.preprocessing import RobustScaler\n",
    "rbs = RobustScaler()\n",
    "data_rbs=rbs.fit_transform(data)"
   ]
  },
  {
   "cell_type": "code",
   "execution_count": null,
   "metadata": {},
   "outputs": [],
   "source": [
    "from sklearn.model_selection import train_test_split\n",
    "x_train,x_test,y_train,y_test =train_test_split(data_rbs,target,test_size=0.2,stratify=target)"
   ]
  },
  {
   "cell_type": "code",
   "execution_count": null,
   "metadata": {},
   "outputs": [],
   "source": [
    "import numpy as np\n",
    "test_arr=np.array([30,0,1,25])\n",
    "test_arr_rbs=rbs.transform(test_arr.reshape(1,-1))"
   ]
  },
  {
   "cell_type": "markdown",
   "metadata": {},
   "source": [
    "### Modeling\n",
    "```\n",
    " 1. tf_low\n",
    " 2. tf_high\n",
    " 3. torch_low\n",
    " 4. torch_high\n",
    " ```"
   ]
  },
  {
   "cell_type": "code",
   "execution_count": null,
   "metadata": {},
   "outputs": [],
   "source": [
    "# 1\n",
    "import tensorflow as tf\n",
    "\n",
    "x = tf.constant(x_train, tf.float32)\n",
    "# y = tf.constant(target.values.reshape(-1,1), tf.float32)\n",
    "y = tf.constant(y_train.values.reshape(-1,1), tf.float32)\n",
    "\n",
    "initX = tf.initializers.GlorotUniform()\n",
    "w = tf.Variable(initX(shape=[x.shape[-1],1]))\n",
    "b = tf.Variable(initX(shape=[1]))\n",
    "\n",
    "def cost():\n",
    "    z = tf.matmul(x,w) + b\n",
    "    c_i = tf.nn.sigmoid_cross_entropy_with_logits(labels=y,logits=z)\n",
    "    c = tf.reduce_mean(c_i)\n",
    "    return c\n",
    "\n",
    "def hxFn(xdata):\n",
    "    xd = tf.constant(xdata,tf.float32)\n",
    "    z = tf.matmul(xd,w) + b\n",
    "    hx = tf.nn.sigmoid(z)\n",
    "    return (hx.numpy()>0.5) + 0\n",
    "\n",
    "optimizer = tf.keras.optimizers.Adam(learning_rate=1e-1)\n",
    "\n",
    "for i in range(1000):\n",
    "    optimizer.minimize(cost,var_list=[w,b])\n",
    "    acc = accuracy_score(hxFn(x),y)\n",
    "    print(f'epoch => {i} / cost => {cost().numpy()} / acc => {acc}')"
   ]
  },
  {
   "cell_type": "code",
   "execution_count": null,
   "metadata": {},
   "outputs": [],
   "source": [
    "print(\"f1_score : \",f1_score(y_test,hxFn(x_test)))\n",
    "sns.heatmap(\n",
    "    confusion_matrix(y_test,hxFn(x_test)),\n",
    "    annot=True,\n",
    "    annot_kws={\"size\": 20},\n",
    "    fmt=\".0f\")\n",
    "plt.xlabel('Prediction')\n",
    "plt.ylabel('Actual')\n",
    "plt.tight_layout()\n",
    "plt.show()\n",
    "pred=hxFn(tf.constant(test_arr_rbs, tf.float32))\n",
    "print(\"30달러 여성, 1등급 25세 : \", pred ,' => 생존')"
   ]
  },
  {
   "cell_type": "code",
   "execution_count": null,
   "metadata": {},
   "outputs": [],
   "source": [
    "# 2\n",
    "from tensorflow.keras.models import Sequential\n",
    "from tensorflow.keras.layers import Dense\n",
    "\n",
    "model = Sequential()\n",
    "model.add(Dense(units=1,\n",
    "                input_dim=data.shape[-1],\n",
    "                activation='sigmoid'\n",
    "                ))\n",
    "model.compile(\n",
    "    loss='binary_crossentropy',\n",
    "    optimizer=tf.keras.optimizers.Adam(learning_rate=1e-1),\n",
    "    metrics=['acc']\n",
    ")\n",
    "hist = model.fit(data_rbs,target,epochs=50)"
   ]
  },
  {
   "cell_type": "code",
   "execution_count": null,
   "metadata": {},
   "outputs": [],
   "source": [
    "pred=model.predict(test_arr_rbs)"
   ]
  },
  {
   "cell_type": "code",
   "execution_count": null,
   "metadata": {},
   "outputs": [],
   "source": [
    "(pred>0.5)+0"
   ]
  },
  {
   "cell_type": "code",
   "execution_count": null,
   "metadata": {},
   "outputs": [],
   "source": [
    "print(\"f1_score : \",f1_score(y_test,(model.predict(x_test)>0.5)+0))\n",
    "sns.heatmap(\n",
    "    confusion_matrix(y_test,(model.predict(x_test)>0.5)+0),\n",
    "    annot=True,\n",
    "    annot_kws={\"size\": 20},\n",
    "    fmt=\".0f\")\n",
    "plt.xlabel('Prediction')\n",
    "plt.ylabel('Actual')\n",
    "plt.tight_layout()\n",
    "plt.show()\n",
    "pred=(model.predict(test_arr_rbs)>0.5)+0\n",
    "print(\"30달러 여성, 1등급 25세 : \", pred ,' => 생존')"
   ]
  },
  {
   "cell_type": "code",
   "execution_count": null,
   "metadata": {},
   "outputs": [],
   "source": [
    "# 3\n",
    "import torch\n",
    "from torch.nn import functional as F\n",
    "\n",
    "x = torch.FloatTensor(data_rbs)\n",
    "y = torch.FloatTensor(target.values.reshape(-1,1))\n",
    "\n",
    "w = torch.empty([x.shape[-1],1],requires_grad=True)\n",
    "b = torch.empty([1],requires_grad=True)\n",
    "torch.nn.init.uniform_(w)\n",
    "torch.nn.init.uniform_(b)\n",
    "\n",
    "def cost():\n",
    "    z = torch.matmul(x,w) + b\n",
    "    c_i = F.binary_cross_entropy_with_logits(z,y)\n",
    "    c = torch.mean(c_i)\n",
    "    return c\n",
    "\n",
    "def hxFn(xdata):\n",
    "    xd = torch.FloatTensor(xdata)\n",
    "    z = torch.matmul(xd,w) + b\n",
    "    hx = torch.sigmoid(z)\n",
    "    return (hx.detach().numpy() > 0.5) + 0\n",
    "\n",
    "optimizer = torch.optim.Adam([w,b],lr=0.1)\n",
    "\n",
    "for i in range(1000):\n",
    "    c=cost()\n",
    "    optimizer.zero_grad()\n",
    "    c.backward()\n",
    "    optimizer.step()\n",
    "    acc = accuracy_score(target,hxFn(data_rbs))\n",
    "    print(f'epoch => {i} / cost => {cost().item()} acc => {acc} ')"
   ]
  },
  {
   "cell_type": "code",
   "execution_count": null,
   "metadata": {},
   "outputs": [],
   "source": [
    "print(\"f1_score : \",f1_score(y_test,hxFn(x_test)))\n",
    "sns.heatmap(\n",
    "    confusion_matrix(y_test,hxFn(x_test)),\n",
    "    annot=True,\n",
    "    annot_kws={\"size\": 20},\n",
    "    fmt=\".0f\")\n",
    "plt.xlabel('Prediction')\n",
    "plt.ylabel('Actual')\n",
    "plt.tight_layout()\n",
    "plt.show()\n",
    "pred=hxFn(test_arr_rbs)\n",
    "print(\"30달러 여성, 1등급 25세 : \", pred ,' => 생존')\n",
    "\n",
    "pred=hxFn(test_arr_rbs)\n",
    "print(pred)"
   ]
  },
  {
   "cell_type": "code",
   "execution_count": null,
   "metadata": {},
   "outputs": [],
   "source": [
    "#4\n",
    "from torch.optim import Adam\n",
    "from torch.nn import BCELoss # Binary Cross Entropy\n",
    "\n",
    "\n",
    "x = torch.FloatTensor(data_rbs)\n",
    "y = torch.FloatTensor(target.values.reshape(-1,1))\n",
    "\n",
    "model =torch.nn.Sequential()\n",
    "model.add_module('nn1',torch.nn.Linear(x.shape[-1],1))\n",
    "model.add_module('sig1',torch.nn.Sigmoid())\n",
    "loss_fn = BCELoss()\n",
    "optimizer = Adam( model.parameters(), lr=0.1)\n",
    "\n",
    "for epoch in range(1000):\n",
    "    optimizer.zero_grad()\n",
    "    hx = model(x)\n",
    "    \"\"\"\n",
    "    => model.forward(x)\n",
    "    => z = matmul(x,w) + b : Linear\n",
    "    => Sigmoid(z) : Sigmoid\n",
    "    \"\"\"\n",
    "    c = loss_fn(hx,y)\n",
    "    c.backward()\n",
    "    optimizer.step()\n",
    "    pred=(hx.detach().numpy() > 0.5) +0\n",
    "    print(f'epoch => {epoch} / cost => {c.detach().numpy()} \\\n",
    "        acc => {accuracy_score(pred,y)} ')"
   ]
  },
  {
   "cell_type": "code",
   "execution_count": null,
   "metadata": {},
   "outputs": [],
   "source": [
    "print(\"f1_score : \",f1_score(y_test,hxFn(x_test)))\n",
    "sns.heatmap(\n",
    "    confusion_matrix(y_test,hxFn(x_test)),\n",
    "    annot=True,\n",
    "    annot_kws={\"size\": 20},\n",
    "    fmt=\".0f\")\n",
    "plt.xlabel('Prediction')\n",
    "plt.ylabel('Actual')\n",
    "plt.tight_layout()\n",
    "plt.show()\n",
    "pred=hxFn(test_arr_rbs)\n",
    "print(\"30달러 여성, 1등급 25세 : \", pred ,' => 생존')"
   ]
  },
  {
   "cell_type": "code",
   "execution_count": null,
   "metadata": {},
   "outputs": [],
   "source": []
  }
 ],
 "metadata": {
  "kernelspec": {
   "display_name": "Python 3.9.12 ('deep_learning')",
   "language": "python",
   "name": "python3"
  },
  "language_info": {
   "codemirror_mode": {
    "name": "ipython",
    "version": 3
   },
   "file_extension": ".py",
   "mimetype": "text/x-python",
   "name": "python",
   "nbconvert_exporter": "python",
   "pygments_lexer": "ipython3",
   "version": "3.9.12"
  },
  "orig_nbformat": 4,
  "vscode": {
   "interpreter": {
    "hash": "5fedde54ce020962bd3c30003bddb8a1c5bd9c5a066c739d1bc484f734442d14"
   }
  }
 },
 "nbformat": 4,
 "nbformat_minor": 2
}
