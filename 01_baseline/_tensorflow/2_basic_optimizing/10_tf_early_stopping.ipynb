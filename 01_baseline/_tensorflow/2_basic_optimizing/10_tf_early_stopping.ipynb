{
 "cells": [
  {
   "cell_type": "code",
   "execution_count": 7,
   "metadata": {},
   "outputs": [],
   "source": [
    "import pandas as pd\n",
    "from sklearn.datasets import load_iris\n",
    "import numpy as np\n",
    "import warnings\n",
    "warnings.filterwarnings(action='ignore')\n",
    "iris = load_iris()\n",
    "\n",
    "x_data=pd.DataFrame(iris['data'],columns=iris['feature_names'])\n",
    "y_data=pd.DataFrame(iris['target'],columns=['target'])"
   ]
  },
  {
   "cell_type": "code",
   "execution_count": 8,
   "metadata": {},
   "outputs": [],
   "source": [
    "from sklearn.model_selection import train_test_split\n",
    "from sklearn.preprocessing import StandardScaler\n",
    "from sklearn.metrics import accuracy_score\n",
    "\n",
    "x_train,x_test,y_train,y_test = train_test_split(x_data,y_data,\n",
    "                                                 test_size=0.2,\n",
    "                                                 stratify=y_data)\n",
    "\n",
    "ssc = StandardScaler()\n",
    "x_train_ssc = ssc.fit_transform(x_train)\n",
    "x_test_ssc = ssc.transform(x_test)\n",
    "\n",
    "y_train=pd.get_dummies(y_train['target'])\n",
    "y_test=pd.get_dummies(y_test['target'])"
   ]
  },
  {
   "cell_type": "code",
   "execution_count": 9,
   "metadata": {},
   "outputs": [],
   "source": [
    "from keras.callbacks import EarlyStopping"
   ]
  },
  {
   "cell_type": "code",
   "execution_count": 10,
   "metadata": {},
   "outputs": [
    {
     "name": "stdout",
     "output_type": "stream",
     "text": [
      "Metal device set to: Apple M1 Pro\n",
      "\n",
      "systemMemory: 16.00 GB\n",
      "maxCacheSize: 5.33 GB\n",
      "\n",
      "Epoch 1/100\n"
     ]
    },
    {
     "name": "stderr",
     "output_type": "stream",
     "text": [
      "2022-12-08 13:37:47.202698: I tensorflow/core/common_runtime/pluggable_device/pluggable_device_factory.cc:306] Could not identify NUMA node of platform GPU ID 0, defaulting to 0. Your kernel may not have been built with NUMA support.\n",
      "2022-12-08 13:37:47.202829: I tensorflow/core/common_runtime/pluggable_device/pluggable_device_factory.cc:272] Created TensorFlow device (/job:localhost/replica:0/task:0/device:GPU:0 with 0 MB memory) -> physical PluggableDevice (device: 0, name: METAL, pci bus id: <undefined>)\n",
      "2022-12-08 13:37:47.281830: W tensorflow/core/platform/profile_utils/cpu_utils.cc:128] Failed to get CPU frequency: 0 Hz\n",
      "2022-12-08 13:37:47.403745: I tensorflow/core/grappler/optimizers/custom_graph_optimizer_registry.cc:114] Plugin optimizer for device_type GPU is enabled.\n"
     ]
    },
    {
     "name": "stdout",
     "output_type": "stream",
     "text": [
      "4/4 [==============================] - 0s 10ms/step - loss: 0.9960 - acc: 0.5417\n",
      "Epoch 2/100\n",
      "4/4 [==============================] - 0s 7ms/step - loss: 0.4910 - acc: 0.8083\n",
      "Epoch 3/100\n",
      "4/4 [==============================] - 0s 7ms/step - loss: 0.3628 - acc: 0.8667\n",
      "Epoch 4/100\n",
      "4/4 [==============================] - 0s 6ms/step - loss: 0.3135 - acc: 0.8917\n",
      "Epoch 5/100\n",
      "4/4 [==============================] - 0s 7ms/step - loss: 0.2825 - acc: 0.8917\n",
      "Epoch 6/100\n",
      "4/4 [==============================] - 0s 6ms/step - loss: 0.2549 - acc: 0.8917\n",
      "Epoch 7/100\n",
      "4/4 [==============================] - 0s 8ms/step - loss: 0.2307 - acc: 0.9000\n",
      "Epoch 8/100\n",
      "4/4 [==============================] - 0s 7ms/step - loss: 0.2104 - acc: 0.9167\n",
      "Epoch 9/100\n",
      "4/4 [==============================] - 0s 7ms/step - loss: 0.1859 - acc: 0.9333\n",
      "Epoch 10/100\n",
      "4/4 [==============================] - 0s 7ms/step - loss: 0.1702 - acc: 0.9667\n",
      "Epoch 11/100\n",
      "4/4 [==============================] - 0s 7ms/step - loss: 0.1597 - acc: 0.9667\n",
      "Epoch 12/100\n",
      "4/4 [==============================] - 0s 7ms/step - loss: 0.1497 - acc: 0.9667\n",
      "Epoch 13/100\n",
      "4/4 [==============================] - 0s 7ms/step - loss: 0.1416 - acc: 0.9583\n",
      "Epoch 14/100\n",
      "4/4 [==============================] - 0s 7ms/step - loss: 0.1355 - acc: 0.9667\n",
      "Epoch 15/100\n",
      "4/4 [==============================] - 0s 9ms/step - loss: 0.1290 - acc: 0.9667\n"
     ]
    }
   ],
   "source": [
    "import tensorflow as tf\n",
    "from tensorflow.keras.models import Sequential\n",
    "from tensorflow.keras.layers import Dense\n",
    "from tensorflow.nn import sigmoid\n",
    "from tensorflow.keras.callbacks import EarlyStopping\n",
    "early_stop = EarlyStopping(monitor='acc',\n",
    "                           patience=5)\n",
    "\n",
    "#####\n",
    "x = tf.constant(x_train_ssc, tf.float32)\n",
    "y = tf.constant(y_train.values, tf.float32)\n",
    "\n",
    "model = Sequential()\n",
    "model.add(Dense(units=3, input_dim=4, activation='sigmoid'))\n",
    "model.compile(\n",
    "    loss='categorical_crossentropy', # for ohe\n",
    "    optimizer=tf.keras.optimizers.Adam(learning_rate=0.1),\n",
    "    metrics=['acc']\n",
    ")\n",
    "model_hist = model.fit(x_train_ssc,y_train.values,epochs=100,\n",
    "                       callbacks=[early_stop])"
   ]
  },
  {
   "cell_type": "code",
   "execution_count": 11,
   "metadata": {},
   "outputs": [],
   "source": [
    "from keras.callbacks import EarlyStopping"
   ]
  },
  {
   "cell_type": "code",
   "execution_count": null,
   "metadata": {},
   "outputs": [],
   "source": [
    "from keras.models import Sequential"
   ]
  },
  {
   "cell_type": "code",
   "execution_count": 17,
   "metadata": {},
   "outputs": [
    {
     "name": "stdout",
     "output_type": "stream",
     "text": [
      "Epoch 1/100\n",
      "4/4 [==============================] - 0s 38ms/step - loss: 1.9684 - acc: 0.2250 - val_loss: 1.0391 - val_acc: 0.5000\n",
      "Epoch 2/100\n",
      "1/4 [======>.......................] - ETA: 0s - loss: 1.0795 - acc: 0.5000"
     ]
    },
    {
     "name": "stderr",
     "output_type": "stream",
     "text": [
      "2022-12-08 13:40:06.300218: I tensorflow/core/grappler/optimizers/custom_graph_optimizer_registry.cc:114] Plugin optimizer for device_type GPU is enabled.\n",
      "2022-12-08 13:40:06.430693: I tensorflow/core/grappler/optimizers/custom_graph_optimizer_registry.cc:114] Plugin optimizer for device_type GPU is enabled.\n"
     ]
    },
    {
     "name": "stdout",
     "output_type": "stream",
     "text": [
      "4/4 [==============================] - 0s 12ms/step - loss: 0.8272 - acc: 0.6750 - val_loss: 0.4869 - val_acc: 0.8667\n",
      "Epoch 3/100\n",
      "4/4 [==============================] - 0s 11ms/step - loss: 0.4993 - acc: 0.8000 - val_loss: 0.3513 - val_acc: 0.8667\n",
      "Epoch 4/100\n",
      "4/4 [==============================] - 0s 11ms/step - loss: 0.4121 - acc: 0.8000 - val_loss: 0.2889 - val_acc: 0.9333\n",
      "Epoch 5/100\n",
      "4/4 [==============================] - 0s 11ms/step - loss: 0.3608 - acc: 0.8333 - val_loss: 0.2540 - val_acc: 0.9000\n",
      "Epoch 6/100\n",
      "4/4 [==============================] - 0s 12ms/step - loss: 0.3221 - acc: 0.8417 - val_loss: 0.2292 - val_acc: 0.9000\n",
      "Epoch 7/100\n",
      "4/4 [==============================] - 0s 12ms/step - loss: 0.2912 - acc: 0.8667 - val_loss: 0.2101 - val_acc: 0.9333\n",
      "Epoch 8/100\n",
      "4/4 [==============================] - 0s 17ms/step - loss: 0.2599 - acc: 0.9083 - val_loss: 0.1935 - val_acc: 0.9667\n",
      "Epoch 9/100\n",
      "4/4 [==============================] - 0s 12ms/step - loss: 0.2374 - acc: 0.9250 - val_loss: 0.1850 - val_acc: 0.9667\n",
      "Epoch 10/100\n",
      "4/4 [==============================] - 0s 11ms/step - loss: 0.2171 - acc: 0.9417 - val_loss: 0.1826 - val_acc: 0.9333\n",
      "Epoch 11/100\n",
      "4/4 [==============================] - 0s 11ms/step - loss: 0.2027 - acc: 0.9583 - val_loss: 0.1779 - val_acc: 0.9000\n",
      "Epoch 12/100\n",
      "4/4 [==============================] - 0s 11ms/step - loss: 0.1903 - acc: 0.9667 - val_loss: 0.1713 - val_acc: 0.9333\n",
      "Epoch 13/100\n",
      "4/4 [==============================] - 0s 11ms/step - loss: 0.1819 - acc: 0.9667 - val_loss: 0.1686 - val_acc: 0.9000\n",
      "Epoch 14/100\n",
      "4/4 [==============================] - 0s 11ms/step - loss: 0.1747 - acc: 0.9667 - val_loss: 0.1624 - val_acc: 0.9333\n",
      "Epoch 15/100\n",
      "4/4 [==============================] - 0s 11ms/step - loss: 0.1675 - acc: 0.9667 - val_loss: 0.1581 - val_acc: 0.9333\n",
      "Epoch 16/100\n",
      "4/4 [==============================] - 0s 12ms/step - loss: 0.1610 - acc: 0.9667 - val_loss: 0.1520 - val_acc: 0.9667\n",
      "Epoch 17/100\n",
      "4/4 [==============================] - 0s 11ms/step - loss: 0.1563 - acc: 0.9667 - val_loss: 0.1487 - val_acc: 0.9333\n",
      "Epoch 18/100\n",
      "4/4 [==============================] - 0s 12ms/step - loss: 0.1508 - acc: 0.9667 - val_loss: 0.1446 - val_acc: 0.9667\n",
      "Epoch 19/100\n",
      "4/4 [==============================] - 0s 13ms/step - loss: 0.1457 - acc: 0.9667 - val_loss: 0.1387 - val_acc: 0.9667\n",
      "Epoch 20/100\n",
      "4/4 [==============================] - 0s 12ms/step - loss: 0.1413 - acc: 0.9667 - val_loss: 0.1343 - val_acc: 0.9667\n",
      "Epoch 21/100\n",
      "4/4 [==============================] - 0s 12ms/step - loss: 0.1367 - acc: 0.9667 - val_loss: 0.1340 - val_acc: 0.9000\n",
      "Epoch 22/100\n",
      "4/4 [==============================] - 0s 12ms/step - loss: 0.1350 - acc: 0.9750 - val_loss: 0.1349 - val_acc: 0.9000\n",
      "Epoch 23/100\n",
      "4/4 [==============================] - 0s 11ms/step - loss: 0.1307 - acc: 0.9750 - val_loss: 0.1328 - val_acc: 0.9000\n",
      "Epoch 24/100\n",
      "4/4 [==============================] - 0s 11ms/step - loss: 0.1265 - acc: 0.9750 - val_loss: 0.1298 - val_acc: 0.9333\n",
      "Epoch 25/100\n",
      "4/4 [==============================] - 0s 11ms/step - loss: 0.1262 - acc: 0.9667 - val_loss: 0.1261 - val_acc: 0.9667\n"
     ]
    }
   ],
   "source": [
    "x_train,x_test,y_train,y_test = train_test_split(x_data,y_data,\n",
    "                                                 test_size=0.2,\n",
    "                                                 stratify=y_data)\n",
    "\n",
    "ssc = StandardScaler()\n",
    "x_train_ssc = ssc.fit_transform(x_train)\n",
    "x_test_ssc = ssc.transform(x_test)\n",
    "\n",
    "early_stop = EarlyStopping(monitor='val_loss',\n",
    "                           min_delta=0.01,\n",
    "                           patience=5)\n",
    "\n",
    "#####\n",
    "x = tf.constant(x_train_ssc, tf.float32)\n",
    "y = tf.constant(y_train.values, tf.float32)\n",
    "\n",
    "model = Sequential()\n",
    "model.add(Dense(units=3, input_dim=4, activation='sigmoid'))\n",
    "model.compile(\n",
    "    loss='sparse_categorical_crossentropy', # for ohe\n",
    "    optimizer=tf.keras.optimizers.Adam(learning_rate=0.1),\n",
    "    metrics=['acc']\n",
    ")\n",
    "model_hist = model.fit(x_train_ssc,y_train.values,epochs=100,\n",
    "                       callbacks=[early_stop],\n",
    "                       validation_data=[x_test_ssc,y_test.values])"
   ]
  }
 ],
 "metadata": {
  "kernelspec": {
   "display_name": "deep_learning",
   "language": "python",
   "name": "python3"
  },
  "language_info": {
   "codemirror_mode": {
    "name": "ipython",
    "version": 3
   },
   "file_extension": ".py",
   "mimetype": "text/x-python",
   "name": "python",
   "nbconvert_exporter": "python",
   "pygments_lexer": "ipython3",
   "version": "3.9.12"
  },
  "orig_nbformat": 4,
  "vscode": {
   "interpreter": {
    "hash": "5fedde54ce020962bd3c30003bddb8a1c5bd9c5a066c739d1bc484f734442d14"
   }
  }
 },
 "nbformat": 4,
 "nbformat_minor": 2
}
