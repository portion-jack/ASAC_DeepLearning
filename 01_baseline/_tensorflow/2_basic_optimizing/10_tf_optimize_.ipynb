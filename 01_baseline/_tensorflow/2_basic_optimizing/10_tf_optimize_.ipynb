{
 "cells": [
  {
   "cell_type": "code",
   "execution_count": null,
   "metadata": {},
   "outputs": [],
   "source": [
    "\"\"\"\n",
    "BatchNormalization\n",
    "Dropout\n",
    "l1, l2, l1_l2\n",
    "\n",
    "\"\"\"\n",
    "\n",
    "# utils\n",
    "import numpy as np\n",
    "import matplotlib.pyplot as plt\n",
    "\n",
    "# modeling related\n",
    "import tensorflow as tf\n",
    "from tensorflow.keras.layers import Dense, Flatten, Conv2D, MaxPool2D\n",
    "from tensorflow.keras import Sequential\n",
    "from tensorflow.keras.utils import to_categorical\n",
    "\n",
    "# load data\n",
    "from tensorflow.keras.datasets.mnist import load_data\n",
    "\n",
    "\"\"\"\n",
    "regulation related\n",
    "\"\"\"\n",
    "from tensorflow.keras.regularizers import l1\n",
    "from tensorflow.keras.regularizers import l2\n",
    "from tensorflow.keras.regularizers import l1_l2\n",
    "from tensorflow.keras.layers import Dropout \n",
    "from tensorflow.keras.layers import BatchNormalization\n",
    "\n",
    "##\n",
    "mnistData = load_data()\n",
    "(x_train, y_train), (x_test,y_test) = mnistData\n",
    "y_trainOne = to_categorical( y_train)\n",
    "y_testOne = to_categorical( y_test)"
   ]
  },
  {
   "cell_type": "code",
   "execution_count": null,
   "id": "b26dc862",
   "metadata": {},
   "outputs": [],
   "source": [
    "model =Sequential()\n",
    "model.add( Conv2D( 32, kernel_size=(3,3), strides=1, \n",
    "                  input_shape=(28,28,1), activation='relu', padding='same' ) )\n",
    "model.add(BatchNormalization())\n",
    "model.add( Conv2D( 64, kernel_size=(3,3), activation='relu' ,\n",
    "                  kernel_regularizer=l1(0.001)))\n",
    "model.add( MaxPool2D( pool_size=(2, 2) ) )\n",
    "##\n",
    "model.add(Dropout(0.2))\n",
    "##\n",
    "model.add( Conv2D( 32, kernel_size=(3,3), strides=1, \n",
    "                  activation='relu', padding='same' ) )\n",
    "##\n",
    "model.add(BatchNormalization())\n",
    "##\n",
    "model.add( Conv2D( 64, kernel_size=(3,3), activation='relu',\n",
    "                  kernel_regularizer=l1_l2(l1=0.01,l2=0.02) ) )\n",
    "model.add(BatchNormalization())\n",
    "model.add( MaxPool2D( pool_size=(2, 2) ) )\n",
    "##\n",
    "model.add(Dropout(0.2))\n",
    "##\n",
    "model.add( Flatten() )\n",
    "model.add( Dense( units=64, activation='relu' ,\n",
    "                 kernel_regularizer=l2(0.001)))\n",
    "model.add(Dropout(0.2))\n",
    "model.add( Dense(units=10, activation='softmax') )\n",
    "\n",
    "model.compile( loss='categorical_crossentropy', optimizer='adam', metrics=['acc']  )\n",
    "model.fit( x_train.reshape(-1, 28,28,1), y_trainOne, epochs=10 )"
   ]
  },
  {
   "cell_type": "code",
   "execution_count": null,
   "metadata": {},
   "outputs": [],
   "source": []
  }
 ],
 "metadata": {
  "kernelspec": {
   "display_name": "deep_learning",
   "language": "python",
   "name": "python3"
  },
  "language_info": {
   "codemirror_mode": {
    "name": "ipython",
    "version": 3
   },
   "file_extension": ".py",
   "mimetype": "text/x-python",
   "name": "python",
   "nbconvert_exporter": "python",
   "pygments_lexer": "ipython3",
   "version": "3.9.12"
  },
  "orig_nbformat": 4,
  "vscode": {
   "interpreter": {
    "hash": "5fedde54ce020962bd3c30003bddb8a1c5bd9c5a066c739d1bc484f734442d14"
   }
  }
 },
 "nbformat": 4,
 "nbformat_minor": 2
}
