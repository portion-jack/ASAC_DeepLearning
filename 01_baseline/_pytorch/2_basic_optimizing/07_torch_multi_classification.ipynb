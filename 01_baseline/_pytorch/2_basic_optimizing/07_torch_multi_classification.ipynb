{
 "cells": [
  {
   "cell_type": "code",
   "execution_count": 1,
   "metadata": {},
   "outputs": [],
   "source": [
    "import numpy as np\n",
    "import pandas as pd\n",
    "\n",
    "import torch\n",
    "from torch.optim import Adam\n",
    "import torch.nn.functional as F\n",
    "from sklearn.metrics import accuracy_score"
   ]
  },
  {
   "cell_type": "code",
   "execution_count": 2,
   "metadata": {},
   "outputs": [
    {
     "data": {
      "text/html": [
       "<div>\n",
       "<style scoped>\n",
       "    .dataframe tbody tr th:only-of-type {\n",
       "        vertical-align: middle;\n",
       "    }\n",
       "\n",
       "    .dataframe tbody tr th {\n",
       "        vertical-align: top;\n",
       "    }\n",
       "\n",
       "    .dataframe thead th {\n",
       "        text-align: right;\n",
       "    }\n",
       "</style>\n",
       "<table border=\"1\" class=\"dataframe\">\n",
       "  <thead>\n",
       "    <tr style=\"text-align: right;\">\n",
       "      <th></th>\n",
       "      <th>0</th>\n",
       "      <th>1</th>\n",
       "      <th>2</th>\n",
       "      <th>3</th>\n",
       "      <th>4</th>\n",
       "    </tr>\n",
       "  </thead>\n",
       "  <tbody>\n",
       "    <tr>\n",
       "      <th>0</th>\n",
       "      <td>2</td>\n",
       "      <td>1</td>\n",
       "      <td>0</td>\n",
       "      <td>0</td>\n",
       "      <td>1</td>\n",
       "    </tr>\n",
       "    <tr>\n",
       "      <th>1</th>\n",
       "      <td>3</td>\n",
       "      <td>2</td>\n",
       "      <td>0</td>\n",
       "      <td>0</td>\n",
       "      <td>1</td>\n",
       "    </tr>\n",
       "    <tr>\n",
       "      <th>2</th>\n",
       "      <td>3</td>\n",
       "      <td>4</td>\n",
       "      <td>0</td>\n",
       "      <td>0</td>\n",
       "      <td>1</td>\n",
       "    </tr>\n",
       "    <tr>\n",
       "      <th>3</th>\n",
       "      <td>5</td>\n",
       "      <td>5</td>\n",
       "      <td>0</td>\n",
       "      <td>1</td>\n",
       "      <td>0</td>\n",
       "    </tr>\n",
       "    <tr>\n",
       "      <th>4</th>\n",
       "      <td>7</td>\n",
       "      <td>5</td>\n",
       "      <td>0</td>\n",
       "      <td>1</td>\n",
       "      <td>0</td>\n",
       "    </tr>\n",
       "    <tr>\n",
       "      <th>5</th>\n",
       "      <td>2</td>\n",
       "      <td>5</td>\n",
       "      <td>0</td>\n",
       "      <td>1</td>\n",
       "      <td>0</td>\n",
       "    </tr>\n",
       "    <tr>\n",
       "      <th>6</th>\n",
       "      <td>6</td>\n",
       "      <td>6</td>\n",
       "      <td>1</td>\n",
       "      <td>0</td>\n",
       "      <td>0</td>\n",
       "    </tr>\n",
       "    <tr>\n",
       "      <th>7</th>\n",
       "      <td>7</td>\n",
       "      <td>7</td>\n",
       "      <td>1</td>\n",
       "      <td>0</td>\n",
       "      <td>0</td>\n",
       "    </tr>\n",
       "  </tbody>\n",
       "</table>\n",
       "</div>"
      ],
      "text/plain": [
       "   0  1  2  3  4\n",
       "0  2  1  0  0  1\n",
       "1  3  2  0  0  1\n",
       "2  3  4  0  0  1\n",
       "3  5  5  0  1  0\n",
       "4  7  5  0  1  0\n",
       "5  2  5  0  1  0\n",
       "6  6  6  1  0  0\n",
       "7  7  7  1  0  0"
      ]
     },
     "execution_count": 2,
     "metadata": {},
     "output_type": "execute_result"
    }
   ],
   "source": [
    "df = pd.read_csv('./raw_data/softmax.txt',sep=' ',header=None)\n",
    "df"
   ]
  },
  {
   "cell_type": "code",
   "execution_count": 3,
   "metadata": {},
   "outputs": [],
   "source": [
    "x_data = df.iloc[:,:-3]\n",
    "y_data = df.iloc[:,-3:]"
   ]
  },
  {
   "cell_type": "code",
   "execution_count": 4,
   "metadata": {},
   "outputs": [],
   "source": [
    "x = torch.FloatTensor(x_data.values)\n",
    "y = torch.FloatTensor(y_data.values)\n",
    "\n",
    "w = torch.empty( [2,3], requires_grad=True ) \n",
    "b = torch.empty( [3], requires_grad=True)\n",
    "torch.nn.init.uniform_(w)\n",
    "torch.nn.init.uniform_(b)\n",
    "\n",
    "def cost():\n",
    "    \"\"\"\n",
    "    \n",
    "    hx = F.softmax(z,dim=1)\n",
    "    cost_i = (y*-torch.log(hx).sum())\n",
    "    \n",
    "    \"\"\"\n",
    "    \n",
    "    z = torch.matmul(x,w) + b\n",
    "    c_i = F.cross_entropy(z,y)\n",
    "    c = torch.mean(c_i)\n",
    "    return c\n",
    "\n",
    "def hxFn(x_data):\n",
    "    xd = torch.FloatTensor(x_data)\n",
    "    z = torch.matmul(xd,w) + b\n",
    "    hx = torch.softmax(z,dim=1)\n",
    "    return z, hx"
   ]
  },
  {
   "cell_type": "code",
   "execution_count": 5,
   "metadata": {},
   "outputs": [
    {
     "name": "stdout",
     "output_type": "stream",
     "text": [
      "17 cost 1.1531760692596436 acc : 0.625\n",
      "18 cost 1.1235754489898682 acc : 0.5\n",
      "21 cost 1.068286657333374 acc : 0.375\n",
      "22 cost 1.0578426122665405 acc : 0.25\n",
      "26 cost 1.0387625694274902 acc : 0.375\n",
      "27 cost 1.0377347469329834 acc : 0.5\n",
      "28 cost 1.037640929222107 acc : 0.375\n",
      "29 cost 1.0382407903671265 acc : 0.25\n",
      "30 cost 1.0392992496490479 acc : 0.375\n",
      "51 cost 0.9968646764755249 acc : 0.5\n",
      "55 cost 0.986590564250946 acc : 0.625\n",
      "57 cost 0.9823665618896484 acc : 0.75\n",
      "63 cost 0.9718044996261597 acc : 0.625\n",
      "84 cost 0.9373644590377808 acc : 0.75\n",
      "118 cost 0.884341835975647 acc : 0.625\n",
      "177 cost 0.8051815032958984 acc : 0.75\n",
      "527 cost 0.5707530379295349 acc : 0.875\n",
      "983 cost 0.4387438893318176 acc : 1.0\n"
     ]
    }
   ],
   "source": [
    "optimizer = Adam( [w,b], lr=0.01)\n",
    "for epoch in range(2000):\n",
    "    c = cost()\n",
    "    optimizer.zero_grad()\n",
    "    c.backward()\n",
    "    temp=accuracy_score((torch.matmul(x,w)+b).detach().numpy().argmax(axis=1),y.numpy().argmax(axis=1))\n",
    "    optimizer.step()\n",
    "    if temp != accuracy_score((torch.matmul(x,w)+b).detach().numpy().argmax(axis=1),y.numpy().argmax(axis=1)):\n",
    "        print(f'{epoch}','cost', c.item(), 'acc :',accuracy_score((torch.matmul(x,w)+b).detach().numpy().argmax(axis=1),y.numpy().argmax(axis=1)) )"
   ]
  },
  {
   "cell_type": "code",
   "execution_count": 6,
   "metadata": {},
   "outputs": [
    {
     "data": {
      "text/plain": [
       "(tensor([[-6.6162,  2.2457,  8.0953],\n",
       "         [11.4730, 11.0350,  7.4060]], grad_fn=<AddBackward0>),\n",
       " tensor([[4.0703e-07, 2.8728e-03, 9.9713e-01],\n",
       "         [6.0152e-01, 3.8817e-01, 1.0303e-02]], grad_fn=<SoftmaxBackward0>))"
      ]
     },
     "execution_count": 6,
     "metadata": {},
     "output_type": "execute_result"
    }
   ],
   "source": [
    "hxFn([[1,1],[5,6]])"
   ]
  },
  {
   "cell_type": "code",
   "execution_count": 8,
   "metadata": {},
   "outputs": [
    {
     "data": {
      "text/plain": [
       "array([2, 0])"
      ]
     },
     "execution_count": 8,
     "metadata": {},
     "output_type": "execute_result"
    }
   ],
   "source": [
    "def hxFn(x_data):\n",
    "    xd = torch.FloatTensor(x_data)\n",
    "    z = torch.matmul(xd,w) + b\n",
    "    hx = torch.softmax(z,dim=1)\n",
    "    return hx.argmax(dim=1).detach().numpy() # torch.argmax(hx,dim=1) <=> np.argmax(hx,axis=1)\n",
    "hxFn([[1,1],[5,6]])"
   ]
  }
 ],
 "metadata": {
  "kernelspec": {
   "display_name": "Python 3.9.12 ('deep_learning')",
   "language": "python",
   "name": "python3"
  },
  "language_info": {
   "codemirror_mode": {
    "name": "ipython",
    "version": 3
   },
   "file_extension": ".py",
   "mimetype": "text/x-python",
   "name": "python",
   "nbconvert_exporter": "python",
   "pygments_lexer": "ipython3",
   "version": "3.9.12"
  },
  "orig_nbformat": 4,
  "vscode": {
   "interpreter": {
    "hash": "5fedde54ce020962bd3c30003bddb8a1c5bd9c5a066c739d1bc484f734442d14"
   }
  }
 },
 "nbformat": 4,
 "nbformat_minor": 2
}
