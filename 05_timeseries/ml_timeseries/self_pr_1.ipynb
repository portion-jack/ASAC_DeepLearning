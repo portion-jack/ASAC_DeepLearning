{
 "cells": [
  {
   "cell_type": "code",
   "execution_count": 13,
   "metadata": {},
   "outputs": [],
   "source": [
    "import pandas as pd\n",
    "import warnings\n",
    "warnings.filterwarnings(action='ignore')"
   ]
  },
  {
   "cell_type": "code",
   "execution_count": 14,
   "metadata": {},
   "outputs": [
    {
     "name": "stdout",
     "output_type": "stream",
     "text": [
      "                count\n",
      "date                 \n",
      "2001-11-01   0.998543\n",
      "2001-11-02   1.914526\n",
      "2001-11-03   3.057407\n",
      "2001-11-04   4.044301\n",
      "2001-11-05   4.952441\n",
      "2001-11-06   6.002932\n",
      "2001-11-07   6.930134\n",
      "2001-11-08   8.011137\n",
      "2001-11-09   9.040393\n",
      "2001-11-10  10.097007\n",
      "2001-11-11  11.063742\n",
      "2001-11-12  12.051951\n",
      "2001-11-13  13.062637\n",
      "2001-11-14  14.086016\n",
      "2001-11-15  15.096826\n",
      "2001-11-16  15.944886\n",
      "2001-11-17  17.027107\n",
      "2001-11-18  17.930240\n",
      "2001-11-19  18.984202\n",
      "2001-11-20  19.971603\n"
     ]
    }
   ],
   "source": [
    "df = pd.DataFrame([\n",
    "        ['2001-11-01', 0.998543],\n",
    "        ['2001-11-02', 1.914526],\n",
    "        ['2001-11-03', 3.057407],\n",
    "        ['2001-11-04', 4.044301],\n",
    "        ['2001-11-05', 4.952441],\n",
    "        ['2001-11-06', 6.002932],\n",
    "        ['2001-11-07', 6.930134],\n",
    "        ['2001-11-08', 8.011137],\n",
    "        ['2001-11-09', 9.040393],\n",
    "        ['2001-11-10', 10.097007],\n",
    "        ['2001-11-11', 11.063742],\n",
    "        ['2001-11-12', 12.051951],\n",
    "        ['2001-11-13', 13.062637],\n",
    "        ['2001-11-14', 14.086016],\n",
    "        ['2001-11-15', 15.096826],\n",
    "        ['2001-11-16', 15.944886],\n",
    "        ['2001-11-17', 17.027107],\n",
    "        ['2001-11-18', 17.930240],\n",
    "        ['2001-11-19', 18.984202],\n",
    "        ['2001-11-20', 19.971603]\n",
    "    ], columns=['date', 'count'])\n",
    "df['date'] = pd.to_datetime(df.date, format='%Y-%m-%d')\n",
    "df = df.set_index('date')\n",
    "print(df)"
   ]
  },
  {
   "cell_type": "code",
   "execution_count": 15,
   "metadata": {},
   "outputs": [
    {
     "name": "stdout",
     "output_type": "stream",
     "text": [
      "adf => 적을수록 귀무가설을 기각시킬 확률이 높다\n",
      "-7.573269903543337\n",
      "====================================================================================================\n",
      "p_value 0.05 이하면 귀무가설 기각\n",
      "2.8045464591394192e-11\n"
     ]
    }
   ],
   "source": [
    "from statsmodels.tsa.stattools import adfuller\n",
    "\n",
    "result = adfuller(df['count'])\n",
    "result\n",
    "\n",
    "print('adf => 적을수록 귀무가설을 기각시킬 확률이 높다')\n",
    "print(result[0])\n",
    "print('=='*50)\n",
    "print('p_value 0.05 이하면 귀무가설 기각')\n",
    "print(result[1])"
   ]
  },
  {
   "cell_type": "code",
   "execution_count": 16,
   "metadata": {},
   "outputs": [],
   "source": [
    "from statsmodels.tsa.arima.model import ARIMA"
   ]
  },
  {
   "cell_type": "code",
   "execution_count": 17,
   "metadata": {},
   "outputs": [],
   "source": [
    "def arima_aic_check(data, order,sort = 'AIC'):\n",
    "    order_list = []\n",
    "    aic_list = []\n",
    "    bic_list = []\n",
    "    for p in range(order[0]):\n",
    "        for d in range(order[1]):\n",
    "            for q in range(order[2]):\n",
    "                model = ARIMA(data, order=(p,d,q))\n",
    "                try:\n",
    "                    model_fit = model.fit()\n",
    "                    c_order = f'p:{p} d:{d} q:{q}'\n",
    "                    aic = model_fit.aic\n",
    "                    bic = model_fit.bic\n",
    "                    order_list.append(c_order)\n",
    "                    aic_list.append(aic)\n",
    "                    bic_list.append(bic)\n",
    "                except:\n",
    "                    pass\n",
    "    result_df = pd.DataFrame(list(zip(order_list, aic_list)),columns=['order','AIC'])\n",
    "    result_df.sort_values(sort, inplace=True)\n",
    "    return result_df"
   ]
  },
  {
   "cell_type": "code",
   "execution_count": 20,
   "metadata": {},
   "outputs": [],
   "source": [
    "temp=arima_aic_check(df,order=(3,3,3))"
   ]
  },
  {
   "cell_type": "code",
   "execution_count": 49,
   "metadata": {},
   "outputs": [
    {
     "data": {
      "text/html": [
       "<div>\n",
       "<style scoped>\n",
       "    .dataframe tbody tr th:only-of-type {\n",
       "        vertical-align: middle;\n",
       "    }\n",
       "\n",
       "    .dataframe tbody tr th {\n",
       "        vertical-align: top;\n",
       "    }\n",
       "\n",
       "    .dataframe thead th {\n",
       "        text-align: right;\n",
       "    }\n",
       "</style>\n",
       "<table border=\"1\" class=\"dataframe\">\n",
       "  <thead>\n",
       "    <tr style=\"text-align: right;\">\n",
       "      <th></th>\n",
       "      <th>order</th>\n",
       "      <th>AIC</th>\n",
       "    </tr>\n",
       "  </thead>\n",
       "  <tbody>\n",
       "    <tr>\n",
       "      <th>16</th>\n",
       "      <td>p:1 d:2 q:1</td>\n",
       "      <td>-38.847236</td>\n",
       "    </tr>\n",
       "    <tr>\n",
       "      <th>8</th>\n",
       "      <td>p:0 d:2 q:2</td>\n",
       "      <td>-38.358892</td>\n",
       "    </tr>\n",
       "    <tr>\n",
       "      <th>17</th>\n",
       "      <td>p:1 d:2 q:2</td>\n",
       "      <td>-36.898087</td>\n",
       "    </tr>\n",
       "    <tr>\n",
       "      <th>25</th>\n",
       "      <td>p:2 d:2 q:1</td>\n",
       "      <td>-36.887367</td>\n",
       "    </tr>\n",
       "    <tr>\n",
       "      <th>26</th>\n",
       "      <td>p:2 d:2 q:2</td>\n",
       "      <td>-36.476209</td>\n",
       "    </tr>\n",
       "    <tr>\n",
       "      <th>7</th>\n",
       "      <td>p:0 d:2 q:1</td>\n",
       "      <td>-35.650244</td>\n",
       "    </tr>\n",
       "    <tr>\n",
       "      <th>24</th>\n",
       "      <td>p:2 d:2 q:0</td>\n",
       "      <td>-34.923557</td>\n",
       "    </tr>\n",
       "    <tr>\n",
       "      <th>22</th>\n",
       "      <td>p:2 d:1 q:1</td>\n",
       "      <td>-33.926533</td>\n",
       "    </tr>\n",
       "    <tr>\n",
       "      <th>14</th>\n",
       "      <td>p:1 d:1 q:2</td>\n",
       "      <td>-33.507456</td>\n",
       "    </tr>\n",
       "    <tr>\n",
       "      <th>15</th>\n",
       "      <td>p:1 d:2 q:0</td>\n",
       "      <td>-32.849820</td>\n",
       "    </tr>\n",
       "    <tr>\n",
       "      <th>13</th>\n",
       "      <td>p:1 d:1 q:1</td>\n",
       "      <td>-30.665128</td>\n",
       "    </tr>\n",
       "    <tr>\n",
       "      <th>23</th>\n",
       "      <td>p:2 d:1 q:2</td>\n",
       "      <td>-30.179004</td>\n",
       "    </tr>\n",
       "    <tr>\n",
       "      <th>21</th>\n",
       "      <td>p:2 d:1 q:0</td>\n",
       "      <td>-27.990405</td>\n",
       "    </tr>\n",
       "    <tr>\n",
       "      <th>6</th>\n",
       "      <td>p:0 d:2 q:0</td>\n",
       "      <td>-20.949682</td>\n",
       "    </tr>\n",
       "    <tr>\n",
       "      <th>20</th>\n",
       "      <td>p:2 d:0 q:2</td>\n",
       "      <td>-18.835499</td>\n",
       "    </tr>\n",
       "    <tr>\n",
       "      <th>12</th>\n",
       "      <td>p:1 d:1 q:0</td>\n",
       "      <td>-16.281873</td>\n",
       "    </tr>\n",
       "    <tr>\n",
       "      <th>19</th>\n",
       "      <td>p:2 d:0 q:1</td>\n",
       "      <td>-12.726139</td>\n",
       "    </tr>\n",
       "    <tr>\n",
       "      <th>18</th>\n",
       "      <td>p:2 d:0 q:0</td>\n",
       "      <td>-4.792800</td>\n",
       "    </tr>\n",
       "    <tr>\n",
       "      <th>5</th>\n",
       "      <td>p:0 d:1 q:2</td>\n",
       "      <td>23.330178</td>\n",
       "    </tr>\n",
       "    <tr>\n",
       "      <th>11</th>\n",
       "      <td>p:1 d:0 q:2</td>\n",
       "      <td>34.667716</td>\n",
       "    </tr>\n",
       "    <tr>\n",
       "      <th>4</th>\n",
       "      <td>p:0 d:1 q:1</td>\n",
       "      <td>36.409007</td>\n",
       "    </tr>\n",
       "    <tr>\n",
       "      <th>10</th>\n",
       "      <td>p:1 d:0 q:1</td>\n",
       "      <td>47.723129</td>\n",
       "    </tr>\n",
       "    <tr>\n",
       "      <th>3</th>\n",
       "      <td>p:0 d:1 q:0</td>\n",
       "      <td>55.964609</td>\n",
       "    </tr>\n",
       "    <tr>\n",
       "      <th>9</th>\n",
       "      <td>p:1 d:0 q:0</td>\n",
       "      <td>67.211521</td>\n",
       "    </tr>\n",
       "    <tr>\n",
       "      <th>2</th>\n",
       "      <td>p:0 d:0 q:2</td>\n",
       "      <td>93.021181</td>\n",
       "    </tr>\n",
       "    <tr>\n",
       "      <th>1</th>\n",
       "      <td>p:0 d:0 q:1</td>\n",
       "      <td>111.032400</td>\n",
       "    </tr>\n",
       "    <tr>\n",
       "      <th>0</th>\n",
       "      <td>p:0 d:0 q:0</td>\n",
       "      <td>130.860221</td>\n",
       "    </tr>\n",
       "  </tbody>\n",
       "</table>\n",
       "</div>"
      ],
      "text/plain": [
       "          order         AIC\n",
       "16  p:1 d:2 q:1  -38.847236\n",
       "8   p:0 d:2 q:2  -38.358892\n",
       "17  p:1 d:2 q:2  -36.898087\n",
       "25  p:2 d:2 q:1  -36.887367\n",
       "26  p:2 d:2 q:2  -36.476209\n",
       "7   p:0 d:2 q:1  -35.650244\n",
       "24  p:2 d:2 q:0  -34.923557\n",
       "22  p:2 d:1 q:1  -33.926533\n",
       "14  p:1 d:1 q:2  -33.507456\n",
       "15  p:1 d:2 q:0  -32.849820\n",
       "13  p:1 d:1 q:1  -30.665128\n",
       "23  p:2 d:1 q:2  -30.179004\n",
       "21  p:2 d:1 q:0  -27.990405\n",
       "6   p:0 d:2 q:0  -20.949682\n",
       "20  p:2 d:0 q:2  -18.835499\n",
       "12  p:1 d:1 q:0  -16.281873\n",
       "19  p:2 d:0 q:1  -12.726139\n",
       "18  p:2 d:0 q:0   -4.792800\n",
       "5   p:0 d:1 q:2   23.330178\n",
       "11  p:1 d:0 q:2   34.667716\n",
       "4   p:0 d:1 q:1   36.409007\n",
       "10  p:1 d:0 q:1   47.723129\n",
       "3   p:0 d:1 q:0   55.964609\n",
       "9   p:1 d:0 q:0   67.211521\n",
       "2   p:0 d:0 q:2   93.021181\n",
       "1   p:0 d:0 q:1  111.032400\n",
       "0   p:0 d:0 q:0  130.860221"
      ]
     },
     "execution_count": 49,
     "metadata": {},
     "output_type": "execute_result"
    }
   ],
   "source": [
    "temp"
   ]
  },
  {
   "cell_type": "code",
   "execution_count": 31,
   "metadata": {},
   "outputs": [],
   "source": [
    "model = ARIMA(df, order=(2,0,0) ) #(p,d,q)"
   ]
  },
  {
   "cell_type": "code",
   "execution_count": 32,
   "metadata": {},
   "outputs": [],
   "source": [
    "rfit=model.fit()"
   ]
  },
  {
   "cell_type": "code",
   "execution_count": 39,
   "metadata": {},
   "outputs": [],
   "source": [
    "\n",
    "pred=rfit.predict('2001-11-01','2001-11-20')"
   ]
  },
  {
   "cell_type": "code",
   "execution_count": 48,
   "metadata": {},
   "outputs": [
    {
     "data": {
      "text/plain": [
       "(array([11627., 11629., 11631., 11633., 11635., 11637., 11639., 11641.,\n",
       "        11643., 11645.]),\n",
       " [Text(11627.0, 0, '2001-11-01'),\n",
       "  Text(11629.0, 0, '2001-11-03'),\n",
       "  Text(11631.0, 0, '2001-11-05'),\n",
       "  Text(11633.0, 0, '2001-11-07'),\n",
       "  Text(11635.0, 0, '2001-11-09'),\n",
       "  Text(11637.0, 0, '2001-11-11'),\n",
       "  Text(11639.0, 0, '2001-11-13'),\n",
       "  Text(11641.0, 0, '2001-11-15'),\n",
       "  Text(11643.0, 0, '2001-11-17'),\n",
       "  Text(11645.0, 0, '2001-11-19')])"
      ]
     },
     "execution_count": 48,
     "metadata": {},
     "output_type": "execute_result"
    },
    {
     "data": {
      "image/png": "[encoded data removed]",
      "text/plain": [
       "<Figure size 640x480 with 1 Axes>"
      ]
     },
     "metadata": {},
     "output_type": "display_data"
    }
   ],
   "source": [
    "import matplotlib.pyplot as plt\n",
    "\n",
    "plt.plot(df)\n",
    "plt.plot(pd.DataFrame(pred),'--r')\n",
    "plt.xticks(rotation=45)"
   ]
  }
 ],
 "metadata": {
  "kernelspec": {
   "display_name": "deep_learning",
   "language": "python",
   "name": "python3"
  },
  "language_info": {
   "codemirror_mode": {
    "name": "ipython",
    "version": 3
   },
   "file_extension": ".py",
   "mimetype": "text/x-python",
   "name": "python",
   "nbconvert_exporter": "python",
   "pygments_lexer": "ipython3",
   "version": "3.9.12 | packaged by conda-forge | (main, Mar 24 2022, 23:25:14) \n[Clang 12.0.1 ]"
  },
  "orig_nbformat": 4,
  "vscode": {
   "interpreter": {
    "hash": "5fedde54ce020962bd3c30003bddb8a1c5bd9c5a066c739d1bc484f734442d14"
   }
  }
 },
 "nbformat": 4,
 "nbformat_minor": 2
}
