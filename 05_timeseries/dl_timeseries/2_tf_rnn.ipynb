{
 "cells": [
  {
   "cell_type": "code",
   "execution_count": 37,
   "metadata": {},
   "outputs": [],
   "source": [
    "import matplotlib.pyplot as plt\n",
    "import numpy as np\n",
    "\n",
    "import pandas as pd\n",
    "\n",
    "from tensorflow.keras.models import Sequential\n",
    "from tensorflow.keras.layers import Dense, SimpleRNN, LSTM, GRU"
   ]
  },
  {
   "cell_type": "code",
   "execution_count": 4,
   "metadata": {},
   "outputs": [
    {
     "data": {
      "text/html": [
       "<div>\n",
       "<style scoped>\n",
       "    .dataframe tbody tr th:only-of-type {\n",
       "        vertical-align: middle;\n",
       "    }\n",
       "\n",
       "    .dataframe tbody tr th {\n",
       "        vertical-align: top;\n",
       "    }\n",
       "\n",
       "    .dataframe thead th {\n",
       "        text-align: right;\n",
       "    }\n",
       "</style>\n",
       "<table border=\"1\" class=\"dataframe\">\n",
       "  <thead>\n",
       "    <tr style=\"text-align: right;\">\n",
       "      <th></th>\n",
       "      <th>a</th>\n",
       "      <th>b</th>\n",
       "      <th>y</th>\n",
       "    </tr>\n",
       "    <tr>\n",
       "      <th>date</th>\n",
       "      <th></th>\n",
       "      <th></th>\n",
       "      <th></th>\n",
       "    </tr>\n",
       "  </thead>\n",
       "  <tbody>\n",
       "    <tr>\n",
       "      <th>2021-01-01</th>\n",
       "      <td>1</td>\n",
       "      <td>21</td>\n",
       "      <td>4</td>\n",
       "    </tr>\n",
       "    <tr>\n",
       "      <th>2021-01-02</th>\n",
       "      <td>2</td>\n",
       "      <td>22</td>\n",
       "      <td>5</td>\n",
       "    </tr>\n",
       "    <tr>\n",
       "      <th>2021-01-03</th>\n",
       "      <td>3</td>\n",
       "      <td>23</td>\n",
       "      <td>6</td>\n",
       "    </tr>\n",
       "    <tr>\n",
       "      <th>2021-01-04</th>\n",
       "      <td>4</td>\n",
       "      <td>24</td>\n",
       "      <td>7</td>\n",
       "    </tr>\n",
       "    <tr>\n",
       "      <th>2021-01-05</th>\n",
       "      <td>5</td>\n",
       "      <td>25</td>\n",
       "      <td>8</td>\n",
       "    </tr>\n",
       "    <tr>\n",
       "      <th>...</th>\n",
       "      <td>...</td>\n",
       "      <td>...</td>\n",
       "      <td>...</td>\n",
       "    </tr>\n",
       "    <tr>\n",
       "      <th>2021-04-06</th>\n",
       "      <td>96</td>\n",
       "      <td>116</td>\n",
       "      <td>99</td>\n",
       "    </tr>\n",
       "    <tr>\n",
       "      <th>2021-04-07</th>\n",
       "      <td>97</td>\n",
       "      <td>117</td>\n",
       "      <td>100</td>\n",
       "    </tr>\n",
       "    <tr>\n",
       "      <th>2021-04-08</th>\n",
       "      <td>98</td>\n",
       "      <td>118</td>\n",
       "      <td>101</td>\n",
       "    </tr>\n",
       "    <tr>\n",
       "      <th>2021-04-09</th>\n",
       "      <td>99</td>\n",
       "      <td>119</td>\n",
       "      <td>102</td>\n",
       "    </tr>\n",
       "    <tr>\n",
       "      <th>2021-04-10</th>\n",
       "      <td>100</td>\n",
       "      <td>120</td>\n",
       "      <td>103</td>\n",
       "    </tr>\n",
       "  </tbody>\n",
       "</table>\n",
       "<p>100 rows × 3 columns</p>\n",
       "</div>"
      ],
      "text/plain": [
       "              a    b    y\n",
       "date                     \n",
       "2021-01-01    1   21    4\n",
       "2021-01-02    2   22    5\n",
       "2021-01-03    3   23    6\n",
       "2021-01-04    4   24    7\n",
       "2021-01-05    5   25    8\n",
       "...         ...  ...  ...\n",
       "2021-04-06   96  116   99\n",
       "2021-04-07   97  117  100\n",
       "2021-04-08   98  118  101\n",
       "2021-04-09   99  119  102\n",
       "2021-04-10  100  120  103\n",
       "\n",
       "[100 rows x 3 columns]"
      ]
     },
     "execution_count": 4,
     "metadata": {},
     "output_type": "execute_result"
    }
   ],
   "source": [
    "df = pd.read_csv('../../99_raw_data/sample1.csv',index_col=['date'])\n",
    "df"
   ]
  },
  {
   "cell_type": "code",
   "execution_count": 5,
   "metadata": {},
   "outputs": [],
   "source": [
    "from data_split import *"
   ]
  },
  {
   "cell_type": "code",
   "execution_count": 17,
   "metadata": {},
   "outputs": [],
   "source": [
    "x,y = make_dataset(df.loc[:,['a','b']], df.loc[:,['a']],4)"
   ]
  },
  {
   "cell_type": "code",
   "execution_count": 24,
   "metadata": {},
   "outputs": [
    {
     "name": "stdout",
     "output_type": "stream",
     "text": [
      "x.shape =>  (96, 4, 2) y.shape =>  (96, 1)\n"
     ]
    }
   ],
   "source": [
    "print(\"x.shape => \",x.shape, \"y.shape => \",y.shape)"
   ]
  },
  {
   "cell_type": "code",
   "execution_count": 25,
   "metadata": {},
   "outputs": [
    {
     "name": "stdout",
     "output_type": "stream",
     "text": [
      "Metal device set to: Apple M1 Pro\n",
      "\n",
      "systemMemory: 16.00 GB\n",
      "maxCacheSize: 5.33 GB\n",
      "\n"
     ]
    },
    {
     "name": "stderr",
     "output_type": "stream",
     "text": [
      "2022-12-13 13:38:10.133271: I tensorflow/core/common_runtime/pluggable_device/pluggable_device_factory.cc:306] Could not identify NUMA node of platform GPU ID 0, defaulting to 0. Your kernel may not have been built with NUMA support.\n",
      "2022-12-13 13:38:10.133399: I tensorflow/core/common_runtime/pluggable_device/pluggable_device_factory.cc:272] Created TensorFlow device (/job:localhost/replica:0/task:0/device:GPU:0 with 0 MB memory) -> physical PluggableDevice (device: 0, name: METAL, pci bus id: <undefined>)\n",
      "2022-12-13 13:38:10.345582: W tensorflow/core/platform/profile_utils/cpu_utils.cc:128] Failed to get CPU frequency: 0 Hz\n"
     ]
    },
    {
     "name": "stdout",
     "output_type": "stream",
     "text": [
      "Epoch 1/30\n"
     ]
    },
    {
     "name": "stderr",
     "output_type": "stream",
     "text": [
      "2022-12-13 13:38:10.579037: I tensorflow/core/grappler/optimizers/custom_graph_optimizer_registry.cc:114] Plugin optimizer for device_type GPU is enabled.\n"
     ]
    },
    {
     "name": "stdout",
     "output_type": "stream",
     "text": [
      "3/3 [==============================] - 1s 15ms/step - loss: 3460.5933\n",
      "Epoch 2/30\n",
      "3/3 [==============================] - 0s 14ms/step - loss: 2167.0115\n",
      "Epoch 3/30\n",
      "3/3 [==============================] - 0s 15ms/step - loss: 1223.9346\n",
      "Epoch 4/30\n",
      "3/3 [==============================] - 0s 15ms/step - loss: 595.8298\n",
      "Epoch 5/30\n",
      "3/3 [==============================] - 0s 17ms/step - loss: 195.2019\n",
      "Epoch 6/30\n",
      "3/3 [==============================] - 0s 16ms/step - loss: 32.0681\n",
      "Epoch 7/30\n",
      "3/3 [==============================] - 0s 16ms/step - loss: 9.0081\n",
      "Epoch 8/30\n",
      "3/3 [==============================] - 0s 15ms/step - loss: 53.1355\n",
      "Epoch 9/30\n",
      "3/3 [==============================] - 0s 15ms/step - loss: 87.1433\n",
      "Epoch 10/30\n",
      "3/3 [==============================] - 0s 15ms/step - loss: 86.9318\n",
      "Epoch 11/30\n",
      "3/3 [==============================] - 0s 15ms/step - loss: 61.0328\n",
      "Epoch 12/30\n",
      "3/3 [==============================] - 0s 15ms/step - loss: 31.1036\n",
      "Epoch 13/30\n",
      "3/3 [==============================] - 0s 14ms/step - loss: 9.7364\n",
      "Epoch 14/30\n",
      "3/3 [==============================] - 0s 13ms/step - loss: 1.3096\n",
      "Epoch 15/30\n",
      "3/3 [==============================] - 0s 14ms/step - loss: 1.7756\n",
      "Epoch 16/30\n",
      "3/3 [==============================] - 0s 15ms/step - loss: 4.8818\n",
      "Epoch 17/30\n",
      "3/3 [==============================] - 0s 14ms/step - loss: 7.4379\n",
      "Epoch 18/30\n",
      "3/3 [==============================] - 0s 15ms/step - loss: 7.3907\n",
      "Epoch 19/30\n",
      "3/3 [==============================] - 0s 15ms/step - loss: 5.4486\n",
      "Epoch 20/30\n",
      "3/3 [==============================] - 0s 14ms/step - loss: 3.0609\n",
      "Epoch 21/30\n",
      "3/3 [==============================] - 0s 16ms/step - loss: 1.0839\n",
      "Epoch 22/30\n",
      "3/3 [==============================] - 0s 16ms/step - loss: 0.2949\n",
      "Epoch 23/30\n",
      "3/3 [==============================] - 0s 14ms/step - loss: 0.2935\n",
      "Epoch 24/30\n",
      "3/3 [==============================] - 0s 14ms/step - loss: 0.5162\n",
      "Epoch 25/30\n",
      "3/3 [==============================] - 0s 15ms/step - loss: 0.4668\n",
      "Epoch 26/30\n",
      "3/3 [==============================] - 0s 15ms/step - loss: 0.2137\n",
      "Epoch 27/30\n",
      "3/3 [==============================] - 0s 14ms/step - loss: 0.2258\n",
      "Epoch 28/30\n",
      "3/3 [==============================] - 0s 14ms/step - loss: 0.2132\n",
      "Epoch 29/30\n",
      "3/3 [==============================] - 0s 14ms/step - loss: 0.1798\n",
      "Epoch 30/30\n",
      "3/3 [==============================] - 0s 14ms/step - loss: 0.1566\n"
     ]
    },
    {
     "data": {
      "text/plain": [
       "<keras.callbacks.History at 0x162069910>"
      ]
     },
     "execution_count": 25,
     "metadata": {},
     "output_type": "execute_result"
    }
   ],
   "source": [
    "model = Sequential()\n",
    "model.add(SimpleRNN(32, activation='relu', input_shape=(4,2)))\n",
    "model.add(Dense(units=10))\n",
    "model.add(Dense(units=1))\n",
    "model.compile(loss='mse',optimizer='adam')\n",
    "model.fit(x,y, epochs=30)"
   ]
  },
  {
   "cell_type": "code",
   "execution_count": 31,
   "metadata": {},
   "outputs": [],
   "source": [
    "test=np.array(\n",
    "    [[29,49],\n",
    "     [30,50],\n",
    "     [31,51],\n",
    "     [32,52]]\n",
    ")"
   ]
  },
  {
   "cell_type": "code",
   "execution_count": 32,
   "metadata": {},
   "outputs": [
    {
     "data": {
      "text/plain": [
       "(4, 2)"
      ]
     },
     "execution_count": 32,
     "metadata": {},
     "output_type": "execute_result"
    }
   ],
   "source": [
    "test.reshape(1,4,2)"
   ]
  },
  {
   "cell_type": "code",
   "execution_count": 33,
   "metadata": {},
   "outputs": [
    {
     "name": "stdout",
     "output_type": "stream",
     "text": [
      "1/1 [==============================] - 0s 108ms/step\n"
     ]
    },
    {
     "name": "stderr",
     "output_type": "stream",
     "text": [
      "2022-12-13 13:39:56.840896: I tensorflow/core/grappler/optimizers/custom_graph_optimizer_registry.cc:114] Plugin optimizer for device_type GPU is enabled.\n"
     ]
    },
    {
     "data": {
      "text/plain": [
       "array([[32.46616]], dtype=float32)"
      ]
     },
     "execution_count": 33,
     "metadata": {},
     "output_type": "execute_result"
    }
   ],
   "source": [
    "model.predict(test.reshape(1,4,2))"
   ]
  },
  {
   "cell_type": "code",
   "execution_count": 35,
   "metadata": {},
   "outputs": [
    {
     "name": "stdout",
     "output_type": "stream",
     "text": [
      "3/3 [==============================] - 0s 6ms/step\n"
     ]
    }
   ],
   "source": [
    "y_pred=model.predict(x)"
   ]
  },
  {
   "cell_type": "code",
   "execution_count": 38,
   "metadata": {},
   "outputs": [
    {
     "data": {
      "text/plain": [
       "[<matplotlib.lines.Line2D at 0x16a9608b0>]"
      ]
     },
     "execution_count": 38,
     "metadata": {},
     "output_type": "execute_result"
    },
    {
     "data": {
      "image/png": "[encoded data removed]",
      "text/plain": [
       "<Figure size 640x480 with 1 Axes>"
      ]
     },
     "metadata": {},
     "output_type": "display_data"
    }
   ],
   "source": [
    "plt.plot(y_pred)\n",
    "plt.plot(y,'--r')"
   ]
  },
  {
   "cell_type": "code",
   "execution_count": null,
   "metadata": {},
   "outputs": [],
   "source": [
    "def make_dataset(data, label, window_size=20):\n",
    "    feature_list = []\n",
    "    label_list = []\n",
    "    for i in range(len(data) - window_size):\n",
    "        feature_list.append(np.array(data.iloc[i:i+window_size]))\n",
    "        label_list.append(np.array(label.iloc[i+window_size]))\n",
    "    return np.array(feature_list), np.array(label_list)"
   ]
  },
  {
   "cell_type": "code",
   "execution_count": 43,
   "metadata": {},
   "outputs": [
    {
     "name": "stdout",
     "output_type": "stream",
     "text": [
      "x.shape =>  (96, 4, 2) y.shape =>  (96, 2)\n",
      "Epoch 1/50\n",
      "3/3 [==============================] - 0s 14ms/step - loss: 7045.6221\n",
      "Epoch 2/50\n",
      "1/3 [=========>....................] - ETA: 0s - loss: 5328.1646"
     ]
    },
    {
     "name": "stderr",
     "output_type": "stream",
     "text": [
      "2022-12-13 13:45:33.115349: I tensorflow/core/grappler/optimizers/custom_graph_optimizer_registry.cc:114] Plugin optimizer for device_type GPU is enabled.\n"
     ]
    },
    {
     "name": "stdout",
     "output_type": "stream",
     "text": [
      "3/3 [==============================] - 0s 17ms/step - loss: 5210.4619\n",
      "Epoch 3/50\n",
      "3/3 [==============================] - 0s 16ms/step - loss: 3824.8823\n",
      "Epoch 4/50\n",
      "3/3 [==============================] - 0s 17ms/step - loss: 2645.1582\n",
      "Epoch 5/50\n",
      "3/3 [==============================] - 0s 16ms/step - loss: 1784.9612\n",
      "Epoch 6/50\n",
      "3/3 [==============================] - 0s 16ms/step - loss: 1209.9766\n",
      "Epoch 7/50\n",
      "3/3 [==============================] - 0s 15ms/step - loss: 738.9968\n",
      "Epoch 8/50\n",
      "3/3 [==============================] - 0s 15ms/step - loss: 360.5486\n",
      "Epoch 9/50\n",
      "3/3 [==============================] - 0s 16ms/step - loss: 130.0740\n",
      "Epoch 10/50\n",
      "3/3 [==============================] - 0s 16ms/step - loss: 29.0606\n",
      "Epoch 11/50\n",
      "3/3 [==============================] - 0s 16ms/step - loss: 36.2678\n",
      "Epoch 12/50\n",
      "3/3 [==============================] - 0s 15ms/step - loss: 85.0209\n",
      "Epoch 13/50\n",
      "3/3 [==============================] - 0s 16ms/step - loss: 117.5675\n",
      "Epoch 14/50\n",
      "3/3 [==============================] - 0s 16ms/step - loss: 108.5052\n",
      "Epoch 15/50\n",
      "3/3 [==============================] - 0s 15ms/step - loss: 73.2811\n",
      "Epoch 16/50\n",
      "3/3 [==============================] - 0s 15ms/step - loss: 40.3772\n",
      "Epoch 17/50\n",
      "3/3 [==============================] - 0s 15ms/step - loss: 23.1319\n",
      "Epoch 18/50\n",
      "3/3 [==============================] - 0s 16ms/step - loss: 18.2612\n",
      "Epoch 19/50\n",
      "3/3 [==============================] - 0s 16ms/step - loss: 20.5575\n",
      "Epoch 20/50\n",
      "3/3 [==============================] - 0s 15ms/step - loss: 24.1491\n",
      "Epoch 21/50\n",
      "3/3 [==============================] - 0s 14ms/step - loss: 25.5493\n",
      "Epoch 22/50\n",
      "3/3 [==============================] - 0s 15ms/step - loss: 24.2865\n",
      "Epoch 23/50\n",
      "3/3 [==============================] - 0s 15ms/step - loss: 21.4354\n",
      "Epoch 24/50\n",
      "3/3 [==============================] - 0s 14ms/step - loss: 18.8421\n",
      "Epoch 25/50\n",
      "3/3 [==============================] - 0s 15ms/step - loss: 17.1835\n",
      "Epoch 26/50\n",
      "3/3 [==============================] - 0s 14ms/step - loss: 16.6173\n",
      "Epoch 27/50\n",
      "3/3 [==============================] - 0s 15ms/step - loss: 16.7437\n",
      "Epoch 28/50\n",
      "3/3 [==============================] - 0s 15ms/step - loss: 16.9829\n",
      "Epoch 29/50\n",
      "3/3 [==============================] - 0s 14ms/step - loss: 16.8619\n",
      "Epoch 30/50\n",
      "3/3 [==============================] - 0s 16ms/step - loss: 16.4935\n",
      "Epoch 31/50\n",
      "3/3 [==============================] - 0s 14ms/step - loss: 16.0369\n",
      "Epoch 32/50\n",
      "3/3 [==============================] - 0s 15ms/step - loss: 15.6869\n",
      "Epoch 33/50\n",
      "3/3 [==============================] - 0s 15ms/step - loss: 15.4601\n",
      "Epoch 34/50\n",
      "3/3 [==============================] - 0s 15ms/step - loss: 15.3437\n",
      "Epoch 35/50\n",
      "3/3 [==============================] - 0s 15ms/step - loss: 15.2198\n",
      "Epoch 36/50\n",
      "3/3 [==============================] - 0s 14ms/step - loss: 15.0783\n",
      "Epoch 37/50\n",
      "3/3 [==============================] - 0s 15ms/step - loss: 14.9086\n",
      "Epoch 38/50\n",
      "3/3 [==============================] - 0s 15ms/step - loss: 14.7304\n",
      "Epoch 39/50\n",
      "3/3 [==============================] - 0s 15ms/step - loss: 14.5493\n",
      "Epoch 40/50\n",
      "3/3 [==============================] - 0s 15ms/step - loss: 14.3892\n",
      "Epoch 41/50\n",
      "3/3 [==============================] - 0s 15ms/step - loss: 14.2477\n",
      "Epoch 42/50\n",
      "3/3 [==============================] - 0s 15ms/step - loss: 14.1100\n",
      "Epoch 43/50\n",
      "3/3 [==============================] - 0s 15ms/step - loss: 13.9690\n",
      "Epoch 44/50\n",
      "3/3 [==============================] - 0s 15ms/step - loss: 13.8141\n",
      "Epoch 45/50\n",
      "3/3 [==============================] - 0s 15ms/step - loss: 13.6647\n",
      "Epoch 46/50\n",
      "3/3 [==============================] - 0s 15ms/step - loss: 13.5025\n",
      "Epoch 47/50\n",
      "3/3 [==============================] - 0s 14ms/step - loss: 13.3893\n",
      "Epoch 48/50\n",
      "3/3 [==============================] - 0s 14ms/step - loss: 13.2212\n",
      "Epoch 49/50\n",
      "3/3 [==============================] - 0s 15ms/step - loss: 13.0805\n",
      "Epoch 50/50\n",
      "3/3 [==============================] - 0s 15ms/step - loss: 12.9194\n",
      "1/1 [==============================] - 0s 79ms/step\n",
      "3/3 [==============================] - 0s 6ms/step\n"
     ]
    },
    {
     "name": "stderr",
     "output_type": "stream",
     "text": [
      "2022-12-13 13:45:35.601589: I tensorflow/core/grappler/optimizers/custom_graph_optimizer_registry.cc:114] Plugin optimizer for device_type GPU is enabled.\n"
     ]
    },
    {
     "data": {
      "image/png": "[encoded data removed]",
      "text/plain": [
       "<Figure size 640x480 with 1 Axes>"
      ]
     },
     "metadata": {},
     "output_type": "display_data"
    }
   ],
   "source": [
    "x,y = make_dataset(df.loc[:,['a','b']], df.loc[:,['a','b']],4)\n",
    "print(\"x.shape => \",x.shape, \"y.shape => \",y.shape)\n",
    "\n",
    "model = Sequential()\n",
    "model.add(SimpleRNN(32, activation='relu', input_shape=(4,2)))\n",
    "model.add(Dense(units=10))\n",
    "model.add(Dense(units=2))\n",
    "model.compile(loss='mse',optimizer='adam')\n",
    "model.fit(x,y, epochs=50)\n",
    "\n",
    "test=np.array(\n",
    "    [[29,49],\n",
    "     [30,50],\n",
    "     [31,51],\n",
    "     [32,52]]\n",
    ")\n",
    "test.reshape(1,4,2)\n",
    "my_pred=model.predict(test.reshape(1,4,2))\n",
    "y_pred=model.predict(x)\n",
    "plt.plot(y_pred,label = 'predct')\n",
    "plt.plot(y,'--r')\n",
    "plt.legend()\n",
    "plt.show()"
   ]
  },
  {
   "cell_type": "code",
   "execution_count": 44,
   "metadata": {},
   "outputs": [
    {
     "data": {
      "text/plain": [
       "array([[36.338646, 49.232937]], dtype=float32)"
      ]
     },
     "execution_count": 44,
     "metadata": {},
     "output_type": "execute_result"
    }
   ],
   "source": [
    "my_pred"
   ]
  },
  {
   "cell_type": "code",
   "execution_count": null,
   "metadata": {},
   "outputs": [],
   "source": []
  }
 ],
 "metadata": {
  "kernelspec": {
   "display_name": "deep_learning",
   "language": "python",
   "name": "python3"
  },
  "language_info": {
   "codemirror_mode": {
    "name": "ipython",
    "version": 3
   },
   "file_extension": ".py",
   "mimetype": "text/x-python",
   "name": "python",
   "nbconvert_exporter": "python",
   "pygments_lexer": "ipython3",
   "version": "3.9.12 | packaged by conda-forge | (main, Mar 24 2022, 23:25:14) \n[Clang 12.0.1 ]"
  },
  "orig_nbformat": 4,
  "vscode": {
   "interpreter": {
    "hash": "5fedde54ce020962bd3c30003bddb8a1c5bd9c5a066c739d1bc484f734442d14"
   }
  }
 },
 "nbformat": 4,
 "nbformat_minor": 2
}
